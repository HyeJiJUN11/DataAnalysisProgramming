{
  "nbformat": 4,
  "nbformat_minor": 0,
  "metadata": {
    "colab": {
      "name": "Project.ipynb",
      "provenance": [],
      "collapsed_sections": [],
      "authorship_tag": "ABX9TyNCWukUwfIhLJAVrWO49988",
      "include_colab_link": true
    },
    "kernelspec": {
      "name": "python3",
      "display_name": "Python 3"
    },
    "language_info": {
      "name": "python"
    }
  },
  "cells": [
    {
      "cell_type": "markdown",
      "metadata": {
        "id": "view-in-github",
        "colab_type": "text"
      },
      "source": [
        "<a href=\"https://colab.research.google.com/github/HyeJiJUN11/DataAnalysisProgramming/blob/main/Project.ipynb\" target=\"_parent\"><img src=\"https://colab.research.google.com/assets/colab-badge.svg\" alt=\"Open In Colab\"/></a>"
      ]
    },
    {
      "cell_type": "code",
      "metadata": {
        "id": "pDqs1kc8Zyif"
      },
      "source": [
        "#잘못된코드\n",
        "\n",
        "dfRegularCopy = dfRegular['위반내용'].copy()\n",
        "\n",
        "idx = 0\n",
        "for Violation in dfRegularCopy:  \n",
        "  Violation = str(Violation)\n",
        "  if '청소년' in Violation:\n",
        "    if '주류' in Violation:\n",
        "      dfRegularCopy[idx] = '청소년주류제공'\n",
        "    else:\n",
        "      dfRegularCopy[idx] = '청소년관련'\n",
        "\n",
        "  elif '이물' in Violation:\n",
        "    dfRegularCopy[idx] = '이물혼입'\n",
        "\n",
        "  elif '영업장' in Violation:\n",
        "    dfRegularCopy[idx] = '영업장관련'\n",
        "\n",
        "  elif '건강진단' in Violation:\n",
        "    dfRegularCopy[idx] = '건강진단미필'\n",
        "\n",
        "  elif '위생교육' in Violation:\n",
        "    dfRegularCopy[idx] = '위생교육미이수'\n",
        "\n",
        "  elif '노래' in Violation:\n",
        "    dfRegularCopy[idx] = '일반음식점반주시설'\n",
        "\n",
        "  else:\n",
        "    continue\n",
        "  idx = i+1"
      ],
      "execution_count": null,
      "outputs": []
    },
    {
      "cell_type": "code",
      "metadata": {
        "id": "z9VVyfama7Hq"
      },
      "source": [
        "import pandas as pd\n",
        "import numpy as np\n",
        "import seaborn as sns\n",
        "import matplotlib.pyplot as plt\n",
        "\n",
        "import datetime"
      ],
      "execution_count": 118,
      "outputs": []
    },
    {
      "cell_type": "code",
      "metadata": {
        "colab": {
          "base_uri": "https://localhost:8080/"
        },
        "id": "G7YU8-qJp8Nm",
        "outputId": "c1034a3e-d43b-4b7f-ba7d-32bf99b6ddc0"
      },
      "source": [
        "#한글폰트\n",
        "!sudo apt-get install -y fonts-nanum\n",
        "!sudo fc-cache -fv\n",
        "!rm ~/.cache/matplotlib -rf\n",
        "\n",
        "plt.rc('font', family='NanumBarunGothic') "
      ],
      "execution_count": 119,
      "outputs": [
        {
          "output_type": "stream",
          "name": "stdout",
          "text": [
            "Reading package lists... Done\n",
            "Building dependency tree       \n",
            "Reading state information... Done\n",
            "fonts-nanum is already the newest version (20170925-1).\n",
            "0 upgraded, 0 newly installed, 0 to remove and 37 not upgraded.\n",
            "/usr/share/fonts: caching, new cache contents: 0 fonts, 1 dirs\n",
            "/usr/share/fonts/truetype: caching, new cache contents: 0 fonts, 3 dirs\n",
            "/usr/share/fonts/truetype/humor-sans: caching, new cache contents: 1 fonts, 0 dirs\n",
            "/usr/share/fonts/truetype/liberation: caching, new cache contents: 16 fonts, 0 dirs\n",
            "/usr/share/fonts/truetype/nanum: caching, new cache contents: 10 fonts, 0 dirs\n",
            "/usr/local/share/fonts: caching, new cache contents: 0 fonts, 0 dirs\n",
            "/root/.local/share/fonts: skipping, no such directory\n",
            "/root/.fonts: skipping, no such directory\n",
            "/var/cache/fontconfig: cleaning cache directory\n",
            "/root/.cache/fontconfig: not cleaning non-existent cache directory\n",
            "/root/.fontconfig: not cleaning non-existent cache directory\n",
            "fc-cache: succeeded\n"
          ]
        }
      ]
    },
    {
      "cell_type": "markdown",
      "metadata": {
        "id": "ZkQJm9FPSvZb"
      },
      "source": [
        "# **Project**\n",
        "202013340 전혜지\n",
        "## 업종별 분석\n",
        "*   일반음식점이 다른 업종에 비해 굉장히 많음\n",
        "*   고로 일반음식점 따로 분석\n"
      ]
    },
    {
      "cell_type": "code",
      "metadata": {
        "colab": {
          "base_uri": "https://localhost:8080/",
          "height": 310
        },
        "id": "sNuwR1sAbcp9",
        "outputId": "140bc44f-e26f-42b1-bb19-b3f14ff89103"
      },
      "source": [
        "df = pd.read_csv('/content/서울시 노원구 식품위생업소 행정처분내역 현황.csv', encoding='euc-kr', parse_dates=['처분일자']);\n",
        "df = df.drop(['교부번호', '소재지지번', '소재지도로명', '지도점검일자', '행정처분상태', '위반일자', '법적근거', '처분내용', '위반내역분류', '처분기간', '운영형태', '외부적발접수일자', '적발기관명(적발기관)', '영업장면적(㎡)', '신고구분'], axis=1)\n",
        "\n",
        "df['Year'] = df['처분일자'].dt.year \n",
        "df = df[(df.Year > 2000) & (df.Year<2021)]\n",
        "df.tail()\n"
      ],
      "execution_count": 286,
      "outputs": [
        {
          "output_type": "execute_result",
          "data": {
            "text/html": [
              "<div>\n",
              "<style scoped>\n",
              "    .dataframe tbody tr th:only-of-type {\n",
              "        vertical-align: middle;\n",
              "    }\n",
              "\n",
              "    .dataframe tbody tr th {\n",
              "        vertical-align: top;\n",
              "    }\n",
              "\n",
              "    .dataframe thead th {\n",
              "        text-align: right;\n",
              "    }\n",
              "</style>\n",
              "<table border=\"1\" class=\"dataframe\">\n",
              "  <thead>\n",
              "    <tr style=\"text-align: right;\">\n",
              "      <th></th>\n",
              "      <th>시군구코드</th>\n",
              "      <th>처분일자</th>\n",
              "      <th>업종명</th>\n",
              "      <th>업태명</th>\n",
              "      <th>업소명</th>\n",
              "      <th>처분명</th>\n",
              "      <th>위반내용</th>\n",
              "      <th>적발구분</th>\n",
              "      <th>Year</th>\n",
              "    </tr>\n",
              "  </thead>\n",
              "  <tbody>\n",
              "    <tr>\n",
              "      <th>5630</th>\n",
              "      <td>3100000</td>\n",
              "      <td>2011-07-15</td>\n",
              "      <td>집단급식소식품판매업</td>\n",
              "      <td>집단급식소 식품판매업</td>\n",
              "      <td>(주)선명푸드</td>\n",
              "      <td>과징금 2490 만원 부과</td>\n",
              "      <td>유통기간이 지난 식품을 집단급식소에 판매하기 위하여 운반 및 사용</td>\n",
              "      <td>수시</td>\n",
              "      <td>2011</td>\n",
              "    </tr>\n",
              "    <tr>\n",
              "      <th>5631</th>\n",
              "      <td>3100000</td>\n",
              "      <td>2010-11-08</td>\n",
              "      <td>건강기능식품일반판매업</td>\n",
              "      <td>전자상거래(통신판매업)</td>\n",
              "      <td>유산균천사</td>\n",
              "      <td>영업정지 1월</td>\n",
              "      <td>질병의 예방 및 치료에 효능 효과가 있거나 의약품으로 오인혼동할  우려가 있는 내용...</td>\n",
              "      <td>수시</td>\n",
              "      <td>2010</td>\n",
              "    </tr>\n",
              "    <tr>\n",
              "      <th>5632</th>\n",
              "      <td>3100000</td>\n",
              "      <td>2014-04-25</td>\n",
              "      <td>건강기능식품일반판매업</td>\n",
              "      <td>영업장판매</td>\n",
              "      <td>허브 앤 펫</td>\n",
              "      <td>영업정지</td>\n",
              "      <td>판매사례품 및 경품제공 등 사행심 조장행위  사실과 다르거나 과장된 표시광고행위</td>\n",
              "      <td>수시</td>\n",
              "      <td>2014</td>\n",
              "    </tr>\n",
              "    <tr>\n",
              "      <th>5633</th>\n",
              "      <td>3100000</td>\n",
              "      <td>2014-03-24</td>\n",
              "      <td>건강기능식품일반판매업</td>\n",
              "      <td>영업장판매</td>\n",
              "      <td>허브모아</td>\n",
              "      <td>영업정지</td>\n",
              "      <td>사실과 다르거나 과장된 표시광고</td>\n",
              "      <td>기타</td>\n",
              "      <td>2014</td>\n",
              "    </tr>\n",
              "    <tr>\n",
              "      <th>5634</th>\n",
              "      <td>3100000</td>\n",
              "      <td>2020-06-25</td>\n",
              "      <td>건강기능식품일반판매업</td>\n",
              "      <td>전자상거래(통신판매업)</td>\n",
              "      <td>그레이스 물댄동산(GRACE WATER GARDEN)</td>\n",
              "      <td>시정명령</td>\n",
              "      <td>표시해야 할 사항 전부 또는 일부를 표시하지 않는 경우(업체 및 소재지 누락)</td>\n",
              "      <td>기타</td>\n",
              "      <td>2020</td>\n",
              "    </tr>\n",
              "  </tbody>\n",
              "</table>\n",
              "</div>"
            ],
            "text/plain": [
              "        시군구코드       처분일자  ... 적발구분  Year\n",
              "5630  3100000 2011-07-15  ...   수시  2011\n",
              "5631  3100000 2010-11-08  ...   수시  2010\n",
              "5632  3100000 2014-04-25  ...   수시  2014\n",
              "5633  3100000 2014-03-24  ...   기타  2014\n",
              "5634  3100000 2020-06-25  ...   기타  2020\n",
              "\n",
              "[5 rows x 9 columns]"
            ]
          },
          "metadata": {},
          "execution_count": 286
        }
      ]
    },
    {
      "cell_type": "code",
      "metadata": {
        "colab": {
          "base_uri": "https://localhost:8080/",
          "height": 334
        },
        "id": "17rGM-Pmwug0",
        "outputId": "3741f58e-d22e-4c77-942a-ebb23f3201e6"
      },
      "source": [
        "plt.rcParams[\"figure.figsize\"] = (25, 5)\n",
        "fig = sns.countplot(x ='업종명', data = df, order = df['업종명'].value_counts().index)"
      ],
      "execution_count": 309,
      "outputs": [
        {
          "output_type": "display_data",
          "data": {
            "image/png": "[encoded data removed]",
            "text/plain": [
              "<Figure size 1800x360 with 1 Axes>"
            ]
          },
          "metadata": {
            "needs_background": "light"
          }
        }
      ]
    },
    {
      "cell_type": "markdown",
      "metadata": {
        "id": "HpEduAHHbDw4"
      },
      "source": [
        "### 일반음식점 제외"
      ]
    },
    {
      "cell_type": "code",
      "metadata": {
        "colab": {
          "base_uri": "https://localhost:8080/",
          "height": 206
        },
        "id": "diQvswUnlmWb",
        "outputId": "b58cca02-9092-45d9-cbd3-ca80c934bde8"
      },
      "source": [
        "dfDropRegular = df[df.업종명 !='일반음식점']\n",
        "dfDropRegular.head()"
      ],
      "execution_count": 267,
      "outputs": [
        {
          "output_type": "execute_result",
          "data": {
            "text/html": [
              "<div>\n",
              "<style scoped>\n",
              "    .dataframe tbody tr th:only-of-type {\n",
              "        vertical-align: middle;\n",
              "    }\n",
              "\n",
              "    .dataframe tbody tr th {\n",
              "        vertical-align: top;\n",
              "    }\n",
              "\n",
              "    .dataframe thead th {\n",
              "        text-align: right;\n",
              "    }\n",
              "</style>\n",
              "<table border=\"1\" class=\"dataframe\">\n",
              "  <thead>\n",
              "    <tr style=\"text-align: right;\">\n",
              "      <th></th>\n",
              "      <th>시군구코드</th>\n",
              "      <th>처분일자</th>\n",
              "      <th>업종명</th>\n",
              "      <th>업태명</th>\n",
              "      <th>업소명</th>\n",
              "      <th>처분명</th>\n",
              "      <th>위반내용</th>\n",
              "      <th>적발구분</th>\n",
              "      <th>Year</th>\n",
              "    </tr>\n",
              "  </thead>\n",
              "  <tbody>\n",
              "    <tr>\n",
              "      <th>2185</th>\n",
              "      <td>3100000</td>\n",
              "      <td>2002-05-01</td>\n",
              "      <td>유흥주점영업</td>\n",
              "      <td>간이주점</td>\n",
              "      <td>보스</td>\n",
              "      <td>시정명령(2002.05.15까지)</td>\n",
              "      <td>종업원명부미기재</td>\n",
              "      <td>기타</td>\n",
              "      <td>2002</td>\n",
              "    </tr>\n",
              "    <tr>\n",
              "      <th>2186</th>\n",
              "      <td>3100000</td>\n",
              "      <td>2010-03-02</td>\n",
              "      <td>유흥주점영업</td>\n",
              "      <td>간이주점</td>\n",
              "      <td>포차 멜로디 노래타운</td>\n",
              "      <td>과태료 20만원 부과</td>\n",
              "      <td>영업자 위생교육 미필</td>\n",
              "      <td>기타</td>\n",
              "      <td>2010</td>\n",
              "    </tr>\n",
              "    <tr>\n",
              "      <th>2187</th>\n",
              "      <td>3100000</td>\n",
              "      <td>2004-06-23</td>\n",
              "      <td>유흥주점영업</td>\n",
              "      <td>룸살롱</td>\n",
              "      <td>무랑루즈비즈니스</td>\n",
              "      <td>시정명령</td>\n",
              "      <td>업종 미표시</td>\n",
              "      <td>합동</td>\n",
              "      <td>2004</td>\n",
              "    </tr>\n",
              "    <tr>\n",
              "      <th>2188</th>\n",
              "      <td>3100000</td>\n",
              "      <td>2018-01-08</td>\n",
              "      <td>유흥주점영업</td>\n",
              "      <td>룸살롱</td>\n",
              "      <td>마이웨이</td>\n",
              "      <td>시정명령</td>\n",
              "      <td>이물이 혼입된 경우(플라스틱 병뚜껑)</td>\n",
              "      <td>수시</td>\n",
              "      <td>2018</td>\n",
              "    </tr>\n",
              "    <tr>\n",
              "      <th>2189</th>\n",
              "      <td>3100000</td>\n",
              "      <td>2002-02-01</td>\n",
              "      <td>유흥주점영업</td>\n",
              "      <td>룸살롱</td>\n",
              "      <td>24시유흥주점</td>\n",
              "      <td>영업정지15일(2002.02.05-02.19)</td>\n",
              "      <td>유통기한경과제품조리판매목적보관</td>\n",
              "      <td>기타</td>\n",
              "      <td>2002</td>\n",
              "    </tr>\n",
              "  </tbody>\n",
              "</table>\n",
              "</div>"
            ],
            "text/plain": [
              "        시군구코드       처분일자     업종명  ...                  위반내용 적발구분  Year\n",
              "2185  3100000 2002-05-01  유흥주점영업  ...              종업원명부미기재   기타  2002\n",
              "2186  3100000 2010-03-02  유흥주점영업  ...           영업자 위생교육 미필   기타  2010\n",
              "2187  3100000 2004-06-23  유흥주점영업  ...                업종 미표시   합동  2004\n",
              "2188  3100000 2018-01-08  유흥주점영업  ...  이물이 혼입된 경우(플라스틱 병뚜껑)   수시  2018\n",
              "2189  3100000 2002-02-01  유흥주점영업  ...      유통기한경과제품조리판매목적보관   기타  2002\n",
              "\n",
              "[5 rows x 9 columns]"
            ]
          },
          "metadata": {},
          "execution_count": 267
        }
      ]
    },
    {
      "cell_type": "code",
      "metadata": {
        "colab": {
          "base_uri": "https://localhost:8080/",
          "height": 334
        },
        "id": "yXOYMC96xDg9",
        "outputId": "da0c801d-e5a9-45de-c0bf-8449d7920e76"
      },
      "source": [
        "plt.rcParams[\"figure.figsize\"] = (25, 5)\n",
        "fig = sns.countplot(x ='업종명', data = dfDropRegular, order = dfDropRegular['업종명'].value_counts().index)"
      ],
      "execution_count": 287,
      "outputs": [
        {
          "output_type": "display_data",
          "data": {
            "image/png": "[encoded data removed]",
            "text/plain": [
              "<Figure size 1800x360 with 1 Axes>"
            ]
          },
          "metadata": {
            "needs_background": "light"
          }
        }
      ]
    },
    {
      "cell_type": "markdown",
      "metadata": {
        "id": "69UEkJe4bjlD"
      },
      "source": [
        "### 일반음식점"
      ]
    },
    {
      "cell_type": "code",
      "metadata": {
        "colab": {
          "base_uri": "https://localhost:8080/",
          "height": 206
        },
        "id": "PHCgqow_xq30",
        "outputId": "3bf9f04d-7937-4b38-8f00-3b84d9ebeeb0"
      },
      "source": [
        "dfRegular = df[df.업종명 =='일반음식점']\n",
        "dfRegular.head()"
      ],
      "execution_count": 310,
      "outputs": [
        {
          "output_type": "execute_result",
          "data": {
            "text/html": [
              "<div>\n",
              "<style scoped>\n",
              "    .dataframe tbody tr th:only-of-type {\n",
              "        vertical-align: middle;\n",
              "    }\n",
              "\n",
              "    .dataframe tbody tr th {\n",
              "        vertical-align: top;\n",
              "    }\n",
              "\n",
              "    .dataframe thead th {\n",
              "        text-align: right;\n",
              "    }\n",
              "</style>\n",
              "<table border=\"1\" class=\"dataframe\">\n",
              "  <thead>\n",
              "    <tr style=\"text-align: right;\">\n",
              "      <th></th>\n",
              "      <th>시군구코드</th>\n",
              "      <th>처분일자</th>\n",
              "      <th>업종명</th>\n",
              "      <th>업태명</th>\n",
              "      <th>업소명</th>\n",
              "      <th>처분명</th>\n",
              "      <th>위반내용</th>\n",
              "      <th>적발구분</th>\n",
              "      <th>Year</th>\n",
              "    </tr>\n",
              "  </thead>\n",
              "  <tbody>\n",
              "    <tr>\n",
              "      <th>0</th>\n",
              "      <td>3100000</td>\n",
              "      <td>2004-09-14</td>\n",
              "      <td>일반음식점</td>\n",
              "      <td>호프/통닭</td>\n",
              "      <td>원샷</td>\n",
              "      <td>영업정지2월</td>\n",
              "      <td>청소년주류제공1차</td>\n",
              "      <td>기타</td>\n",
              "      <td>2004</td>\n",
              "    </tr>\n",
              "    <tr>\n",
              "      <th>1</th>\n",
              "      <td>3100000</td>\n",
              "      <td>2005-09-23</td>\n",
              "      <td>일반음식점</td>\n",
              "      <td>분식</td>\n",
              "      <td>동호</td>\n",
              "      <td>영업정지 7일갈음 과징금 84만원</td>\n",
              "      <td>영업장면적 무단변경</td>\n",
              "      <td>수시</td>\n",
              "      <td>2005</td>\n",
              "    </tr>\n",
              "    <tr>\n",
              "      <th>2</th>\n",
              "      <td>3100000</td>\n",
              "      <td>2007-08-20</td>\n",
              "      <td>일반음식점</td>\n",
              "      <td>분식</td>\n",
              "      <td>동호</td>\n",
              "      <td>시정명령</td>\n",
              "      <td>영업장외영업</td>\n",
              "      <td>기타</td>\n",
              "      <td>2007</td>\n",
              "    </tr>\n",
              "    <tr>\n",
              "      <th>3</th>\n",
              "      <td>3100000</td>\n",
              "      <td>2007-10-18</td>\n",
              "      <td>일반음식점</td>\n",
              "      <td>분식</td>\n",
              "      <td>동호</td>\n",
              "      <td>과징금부과(56만원)</td>\n",
              "      <td>영업장외 영업(탁자)</td>\n",
              "      <td>수시</td>\n",
              "      <td>2007</td>\n",
              "    </tr>\n",
              "    <tr>\n",
              "      <th>4</th>\n",
              "      <td>3100000</td>\n",
              "      <td>2005-10-24</td>\n",
              "      <td>일반음식점</td>\n",
              "      <td>분식</td>\n",
              "      <td>천궁</td>\n",
              "      <td>시정명령</td>\n",
              "      <td>이물혼입</td>\n",
              "      <td>수시</td>\n",
              "      <td>2005</td>\n",
              "    </tr>\n",
              "  </tbody>\n",
              "</table>\n",
              "</div>"
            ],
            "text/plain": [
              "     시군구코드       처분일자    업종명    업태명  ...                 처분명         위반내용 적발구분  Year\n",
              "0  3100000 2004-09-14  일반음식점  호프/통닭  ...              영업정지2월    청소년주류제공1차   기타  2004\n",
              "1  3100000 2005-09-23  일반음식점     분식  ...  영업정지 7일갈음 과징금 84만원   영업장면적 무단변경   수시  2005\n",
              "2  3100000 2007-08-20  일반음식점     분식  ...                시정명령       영업장외영업   기타  2007\n",
              "3  3100000 2007-10-18  일반음식점     분식  ...         과징금부과(56만원)  영업장외 영업(탁자)   수시  2007\n",
              "4  3100000 2005-10-24  일반음식점     분식  ...                시정명령         이물혼입   수시  2005\n",
              "\n",
              "[5 rows x 9 columns]"
            ]
          },
          "metadata": {},
          "execution_count": 310
        }
      ]
    },
    {
      "cell_type": "code",
      "metadata": {
        "colab": {
          "base_uri": "https://localhost:8080/",
          "height": 206
        },
        "id": "0CienxbeM9wE",
        "outputId": "6aa568b2-0073-440d-ed5a-ba9fec39bcba"
      },
      "source": [
        "dfRegular.tail()"
      ],
      "execution_count": 289,
      "outputs": [
        {
          "output_type": "execute_result",
          "data": {
            "text/html": [
              "<div>\n",
              "<style scoped>\n",
              "    .dataframe tbody tr th:only-of-type {\n",
              "        vertical-align: middle;\n",
              "    }\n",
              "\n",
              "    .dataframe tbody tr th {\n",
              "        vertical-align: top;\n",
              "    }\n",
              "\n",
              "    .dataframe thead th {\n",
              "        text-align: right;\n",
              "    }\n",
              "</style>\n",
              "<table border=\"1\" class=\"dataframe\">\n",
              "  <thead>\n",
              "    <tr style=\"text-align: right;\">\n",
              "      <th></th>\n",
              "      <th>시군구코드</th>\n",
              "      <th>처분일자</th>\n",
              "      <th>업종명</th>\n",
              "      <th>업태명</th>\n",
              "      <th>업소명</th>\n",
              "      <th>처분명</th>\n",
              "      <th>위반내용</th>\n",
              "      <th>적발구분</th>\n",
              "      <th>Year</th>\n",
              "    </tr>\n",
              "  </thead>\n",
              "  <tbody>\n",
              "    <tr>\n",
              "      <th>5027</th>\n",
              "      <td>3100000</td>\n",
              "      <td>2019-10-11</td>\n",
              "      <td>일반음식점</td>\n",
              "      <td>호프/통닭</td>\n",
              "      <td>한국통닭(석계점)</td>\n",
              "      <td>시정명령</td>\n",
              "      <td>영업장외 영업</td>\n",
              "      <td>기타</td>\n",
              "      <td>2019</td>\n",
              "    </tr>\n",
              "    <tr>\n",
              "      <th>5029</th>\n",
              "      <td>3100000</td>\n",
              "      <td>2019-11-04</td>\n",
              "      <td>일반음식점</td>\n",
              "      <td>중국식</td>\n",
              "      <td>라공방 노원점</td>\n",
              "      <td>과태료40만원(영업자30만원종업원10만원)부과</td>\n",
              "      <td>건강진단을 받지 않은 종업원</td>\n",
              "      <td>기타</td>\n",
              "      <td>2019</td>\n",
              "    </tr>\n",
              "    <tr>\n",
              "      <th>5030</th>\n",
              "      <td>3100000</td>\n",
              "      <td>2019-11-04</td>\n",
              "      <td>일반음식점</td>\n",
              "      <td>중국식</td>\n",
              "      <td>라공방 노원점</td>\n",
              "      <td>과태료40만원(영업자30만원종업원10만원)부과</td>\n",
              "      <td>건강진단을 받지 않은 자를 영업에 종사시킨 영업자</td>\n",
              "      <td>기타</td>\n",
              "      <td>2019</td>\n",
              "    </tr>\n",
              "    <tr>\n",
              "      <th>5031</th>\n",
              "      <td>3100000</td>\n",
              "      <td>2020-02-10</td>\n",
              "      <td>일반음식점</td>\n",
              "      <td>호프/통닭</td>\n",
              "      <td>1943노원점</td>\n",
              "      <td>영업정지</td>\n",
              "      <td>청소년에게 주류를 제공하는 행위</td>\n",
              "      <td>기타</td>\n",
              "      <td>2020</td>\n",
              "    </tr>\n",
              "    <tr>\n",
              "      <th>5032</th>\n",
              "      <td>3100000</td>\n",
              "      <td>2020-12-30</td>\n",
              "      <td>일반음식점</td>\n",
              "      <td>호프/통닭</td>\n",
              "      <td>남남북녀라이브</td>\n",
              "      <td>영업정지</td>\n",
              "      <td>손님이 노래를 부르도록 허용 행위(자막용 영상장치 및 자동반주장치 설치)</td>\n",
              "      <td>수시</td>\n",
              "      <td>2020</td>\n",
              "    </tr>\n",
              "  </tbody>\n",
              "</table>\n",
              "</div>"
            ],
            "text/plain": [
              "        시군구코드       처분일자  ... 적발구분  Year\n",
              "5027  3100000 2019-10-11  ...   기타  2019\n",
              "5029  3100000 2019-11-04  ...   기타  2019\n",
              "5030  3100000 2019-11-04  ...   기타  2019\n",
              "5031  3100000 2020-02-10  ...   기타  2020\n",
              "5032  3100000 2020-12-30  ...   수시  2020\n",
              "\n",
              "[5 rows x 9 columns]"
            ]
          },
          "metadata": {},
          "execution_count": 289
        }
      ]
    },
    {
      "cell_type": "code",
      "metadata": {
        "colab": {
          "base_uri": "https://localhost:8080/",
          "height": 334
        },
        "id": "YJlN6i3myUDk",
        "outputId": "d540fa43-5507-4476-8d03-3c7ee697e995"
      },
      "source": [
        "plt.rcParams[\"figure.figsize\"] = (25, 5)\n",
        "fig = sns.countplot(x ='업태명', data = dfRegular, order = dfRegular['업태명'].value_counts().index)"
      ],
      "execution_count": 290,
      "outputs": [
        {
          "output_type": "display_data",
          "data": {
            "image/png": "[encoded data removed]",
            "text/plain": [
              "<Figure size 1800x360 with 1 Axes>"
            ]
          },
          "metadata": {
            "needs_background": "light"
          }
        }
      ]
    },
    {
      "cell_type": "code",
      "metadata": {
        "colab": {
          "base_uri": "https://localhost:8080/"
        },
        "id": "RzJETpk1OH68",
        "outputId": "41e9b20a-72b6-4962-d08d-4a57550a82d4"
      },
      "source": [
        "def replace(x) :\n",
        "  x = str(x)\n",
        "  if '청소년' in x:\n",
        "    s = '청소년 주류 제공'\n",
        "\n",
        "  elif '이물' in x:\n",
        "    s = '이물혼입'\n",
        "\n",
        "  elif '영업장' in x:\n",
        "    s = '영업장관련'\n",
        "\n",
        "  elif '건강진단' in x:\n",
        "    s = '건강진단 미필'\n",
        "\n",
        "  elif '위생교육' in x:\n",
        "    s = '위생교육 미이수'\n",
        "\n",
        "  elif '노래' in x:\n",
        "    s = '반주시설'\n",
        "\n",
        "  elif '위생' in x or '청결' in x:\n",
        "    s = '위생 불량'\n",
        "  \n",
        "  elif '유흥' in x or '접객' in x:\n",
        "    s = '유흥접객 행위'\n",
        "    \n",
        "  elif '유통기한' in x :\n",
        "    s = '유통기한'\n",
        "\n",
        "  elif '가격표' in x :\n",
        "    s = '가격표 표시 누락'\n",
        "  \n",
        "  elif '체납' in x :\n",
        "    s = '세금 체납'\n",
        "\n",
        "  elif '변경신고' in x:\n",
        "    s = '변경신고 없이 시설변경'\n",
        "  \n",
        "  elif '말소' in x:\n",
        "    s = '사업자등록 말소'\n",
        "  \n",
        "  elif '원산지' in x:\n",
        "    s = '원산지 미표기'\n",
        "  else:\n",
        "    s = '기타'\n",
        "\n",
        "  return str(s)\n",
        "\n",
        "dfRegularCopy = dfRegular['위반내용'].copy()\n",
        "dfRegularCopy = dfRegularCopy.apply(replace)\n",
        "dfRegular['위반내용수정'] = dfRegularCopy"
      ],
      "execution_count": 319,
      "outputs": [
        {
          "output_type": "stream",
          "name": "stderr",
          "text": [
            "/usr/local/lib/python3.7/dist-packages/ipykernel_launcher.py:51: SettingWithCopyWarning: \n",
            "A value is trying to be set on a copy of a slice from a DataFrame.\n",
            "Try using .loc[row_indexer,col_indexer] = value instead\n",
            "\n",
            "See the caveats in the documentation: https://pandas.pydata.org/pandas-docs/stable/user_guide/indexing.html#returning-a-view-versus-a-copy\n"
          ]
        }
      ]
    },
    {
      "cell_type": "code",
      "metadata": {
        "colab": {
          "base_uri": "https://localhost:8080/"
        },
        "id": "VP8VL82HcqFw",
        "outputId": "72539d99-73dd-42d9-ed0f-f2dd657c14fd"
      },
      "source": [
        "def replace2(x) :\n",
        "  x = str(x)\n",
        "  if '영업정지' in x:\n",
        "    s = '영업정지'\n",
        "\n",
        "  elif '과징금' in x:\n",
        "    s = '과징금'\n",
        "\n",
        "  elif '과태료' in x:\n",
        "    s = '과태료'\n",
        "\n",
        "  elif '시정명령' in x:\n",
        "    s = '시정명령'\n",
        "\n",
        "  elif '영업소폐쇄' in x:\n",
        "    s = '영업소폐쇄'\n",
        "\n",
        "  else:\n",
        "    s = '기타'\n",
        "\n",
        "  return str(s)\n",
        "\n",
        "dfRegularCopy = dfRegular['처분명'].copy()\n",
        "dfRegularCopy = dfRegularCopy.apply(replace2)\n",
        "dfRegular['처분명수정'] = dfRegularCopy"
      ],
      "execution_count": 320,
      "outputs": [
        {
          "output_type": "stream",
          "name": "stderr",
          "text": [
            "/usr/local/lib/python3.7/dist-packages/ipykernel_launcher.py:25: SettingWithCopyWarning: \n",
            "A value is trying to be set on a copy of a slice from a DataFrame.\n",
            "Try using .loc[row_indexer,col_indexer] = value instead\n",
            "\n",
            "See the caveats in the documentation: https://pandas.pydata.org/pandas-docs/stable/user_guide/indexing.html#returning-a-view-versus-a-copy\n"
          ]
        }
      ]
    },
    {
      "cell_type": "code",
      "metadata": {
        "colab": {
          "base_uri": "https://localhost:8080/",
          "height": 206
        },
        "id": "QDznicXHVBuz",
        "outputId": "6c20dd2b-3d79-48e4-ebd0-c13d5cb89edd"
      },
      "source": [
        "dfRegular.head()"
      ],
      "execution_count": 321,
      "outputs": [
        {
          "output_type": "execute_result",
          "data": {
            "text/html": [
              "<div>\n",
              "<style scoped>\n",
              "    .dataframe tbody tr th:only-of-type {\n",
              "        vertical-align: middle;\n",
              "    }\n",
              "\n",
              "    .dataframe tbody tr th {\n",
              "        vertical-align: top;\n",
              "    }\n",
              "\n",
              "    .dataframe thead th {\n",
              "        text-align: right;\n",
              "    }\n",
              "</style>\n",
              "<table border=\"1\" class=\"dataframe\">\n",
              "  <thead>\n",
              "    <tr style=\"text-align: right;\">\n",
              "      <th></th>\n",
              "      <th>시군구코드</th>\n",
              "      <th>처분일자</th>\n",
              "      <th>업종명</th>\n",
              "      <th>업태명</th>\n",
              "      <th>업소명</th>\n",
              "      <th>처분명</th>\n",
              "      <th>위반내용</th>\n",
              "      <th>적발구분</th>\n",
              "      <th>Year</th>\n",
              "      <th>처분명수정</th>\n",
              "      <th>위반내용수정</th>\n",
              "    </tr>\n",
              "  </thead>\n",
              "  <tbody>\n",
              "    <tr>\n",
              "      <th>0</th>\n",
              "      <td>3100000</td>\n",
              "      <td>2004-09-14</td>\n",
              "      <td>일반음식점</td>\n",
              "      <td>호프/통닭</td>\n",
              "      <td>원샷</td>\n",
              "      <td>영업정지2월</td>\n",
              "      <td>청소년주류제공1차</td>\n",
              "      <td>기타</td>\n",
              "      <td>2004</td>\n",
              "      <td>영업정지</td>\n",
              "      <td>청소년 주류 제공</td>\n",
              "    </tr>\n",
              "    <tr>\n",
              "      <th>1</th>\n",
              "      <td>3100000</td>\n",
              "      <td>2005-09-23</td>\n",
              "      <td>일반음식점</td>\n",
              "      <td>분식</td>\n",
              "      <td>동호</td>\n",
              "      <td>영업정지 7일갈음 과징금 84만원</td>\n",
              "      <td>영업장면적 무단변경</td>\n",
              "      <td>수시</td>\n",
              "      <td>2005</td>\n",
              "      <td>영업정지</td>\n",
              "      <td>영업장관련</td>\n",
              "    </tr>\n",
              "    <tr>\n",
              "      <th>2</th>\n",
              "      <td>3100000</td>\n",
              "      <td>2007-08-20</td>\n",
              "      <td>일반음식점</td>\n",
              "      <td>분식</td>\n",
              "      <td>동호</td>\n",
              "      <td>시정명령</td>\n",
              "      <td>영업장외영업</td>\n",
              "      <td>기타</td>\n",
              "      <td>2007</td>\n",
              "      <td>시정명령</td>\n",
              "      <td>영업장관련</td>\n",
              "    </tr>\n",
              "    <tr>\n",
              "      <th>3</th>\n",
              "      <td>3100000</td>\n",
              "      <td>2007-10-18</td>\n",
              "      <td>일반음식점</td>\n",
              "      <td>분식</td>\n",
              "      <td>동호</td>\n",
              "      <td>과징금부과(56만원)</td>\n",
              "      <td>영업장외 영업(탁자)</td>\n",
              "      <td>수시</td>\n",
              "      <td>2007</td>\n",
              "      <td>과징금</td>\n",
              "      <td>영업장관련</td>\n",
              "    </tr>\n",
              "    <tr>\n",
              "      <th>4</th>\n",
              "      <td>3100000</td>\n",
              "      <td>2005-10-24</td>\n",
              "      <td>일반음식점</td>\n",
              "      <td>분식</td>\n",
              "      <td>천궁</td>\n",
              "      <td>시정명령</td>\n",
              "      <td>이물혼입</td>\n",
              "      <td>수시</td>\n",
              "      <td>2005</td>\n",
              "      <td>시정명령</td>\n",
              "      <td>이물혼입</td>\n",
              "    </tr>\n",
              "  </tbody>\n",
              "</table>\n",
              "</div>"
            ],
            "text/plain": [
              "     시군구코드       처분일자    업종명    업태명  ... 적발구분  Year 처분명수정     위반내용수정\n",
              "0  3100000 2004-09-14  일반음식점  호프/통닭  ...   기타  2004  영업정지  청소년 주류 제공\n",
              "1  3100000 2005-09-23  일반음식점     분식  ...   수시  2005  영업정지      영업장관련\n",
              "2  3100000 2007-08-20  일반음식점     분식  ...   기타  2007  시정명령      영업장관련\n",
              "3  3100000 2007-10-18  일반음식점     분식  ...   수시  2007   과징금      영업장관련\n",
              "4  3100000 2005-10-24  일반음식점     분식  ...   수시  2005  시정명령       이물혼입\n",
              "\n",
              "[5 rows x 11 columns]"
            ]
          },
          "metadata": {},
          "execution_count": 321
        }
      ]
    },
    {
      "cell_type": "code",
      "metadata": {
        "id": "9tggKMI0VK_5"
      },
      "source": [
        "for Violation in dfRegular['위반내용수정']: \n",
        "  print(Violation)"
      ],
      "execution_count": null,
      "outputs": []
    },
    {
      "cell_type": "code",
      "metadata": {
        "colab": {
          "base_uri": "https://localhost:8080/",
          "height": 334
        },
        "id": "tSWWF3kRIiAP",
        "outputId": "f4a00c59-d887-492b-a530-daec0cf5f239"
      },
      "source": [
        "plt.rcParams[\"figure.figsize\"] = (25, 5)\n",
        "fig = sns.countplot(x ='위반내용수정', data = dfRegular, order = dfRegular['위반내용수정'].value_counts().index)"
      ],
      "execution_count": 322,
      "outputs": [
        {
          "output_type": "display_data",
          "data": {
            "image/png": "[encoded data removed]",
            "text/plain": [
              "<Figure size 1800x360 with 1 Axes>"
            ]
          },
          "metadata": {
            "needs_background": "light"
          }
        }
      ]
    },
    {
      "cell_type": "code",
      "metadata": {
        "colab": {
          "base_uri": "https://localhost:8080/",
          "height": 334
        },
        "id": "GrMIsFCvd0DI",
        "outputId": "41951428-b6ec-4f09-fd35-1d06a76d7f94"
      },
      "source": [
        "plt.rcParams[\"figure.figsize\"] = (25, 5)\n",
        "fig = sns.countplot(x ='처분명수정', data = dfRegular, order = dfRegular['처분명수정'].value_counts().index)"
      ],
      "execution_count": 323,
      "outputs": [
        {
          "output_type": "display_data",
          "data": {
            "image/png": "[encoded data removed]",
            "text/plain": [
              "<Figure size 1800x360 with 1 Axes>"
            ]
          },
          "metadata": {
            "needs_background": "light"
          }
        }
      ]
    },
    {
      "cell_type": "code",
      "metadata": {
        "colab": {
          "base_uri": "https://localhost:8080/",
          "height": 338
        },
        "id": "Vp29KYMyX5B-",
        "outputId": "e9b9c60f-2891-47f8-8770-9b088b304974"
      },
      "source": [
        "data_dates = df['처분일자'].value_counts()\n",
        "dates = data_dates.to_frame(name='위반횟수')\n",
        "dates.index.name = '처분일자'\n",
        "dates.sort_values(by=['처분일자'])\n",
        "\n",
        "dates = dates.resample('M').sum()\n",
        "dates = dates[dates.위반횟수 != 0]\n",
        "#dates = dates.sort_values(by='위반횟수', ascending=False)\n",
        "\n",
        "plt.figure(figsize=(20, 5))\n",
        "plt.plot(dates.index, dates.위반횟수)"
      ],
      "execution_count": 325,
      "outputs": [
        {
          "output_type": "execute_result",
          "data": {
            "text/plain": [
              "[<matplotlib.lines.Line2D at 0x7f48bdca3f10>]"
            ]
          },
          "metadata": {},
          "execution_count": 325
        },
        {
          "output_type": "display_data",
          "data": {
            "image/png": "[encoded data removed]",
            "text/plain": [
              "<Figure size 1440x360 with 1 Axes>"
            ]
          },
          "metadata": {
            "needs_background": "light"
          }
        }
      ]
    }
  ]
}