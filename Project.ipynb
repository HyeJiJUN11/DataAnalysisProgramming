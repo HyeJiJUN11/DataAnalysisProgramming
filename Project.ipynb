{
  "nbformat": 4,
  "nbformat_minor": 0,
  "metadata": {
    "colab": {
      "name": "Project.ipynb",
      "provenance": [],
      "collapsed_sections": [
        "HpEduAHHbDw4"
      ],
      "authorship_tag": "ABX9TyPgPtNmJtM0eyYDbiXISEEI",
      "include_colab_link": true
    },
    "kernelspec": {
      "name": "python3",
      "display_name": "Python 3"
    },
    "language_info": {
      "name": "python"
    }
  },
  "cells": [
    {
      "cell_type": "markdown",
      "metadata": {
        "id": "view-in-github",
        "colab_type": "text"
      },
      "source": [
        "<a href=\"https://colab.research.google.com/github/HyeJiJUN11/DataAnalysisProgramming/blob/main/Project.ipynb\" target=\"_parent\"><img src=\"https://colab.research.google.com/assets/colab-badge.svg\" alt=\"Open In Colab\"/></a>"
      ]
    },
    {
      "cell_type": "markdown",
      "metadata": {
        "id": "ZkQJm9FPSvZb"
      },
      "source": [
        "#**Data Analysis Programming Project**\n",
        "\n",
        "---\n",
        "##202013340 전혜지\n",
        "내 생활과 가까운 데이터를 가지고 분석해보고자 하였음.<br/><br/>\n",
        "\n"
      ]
    },
    {
      "cell_type": "code",
      "metadata": {
        "id": "mCCgQFLJCW7B"
      },
      "source": [
        "#한글 폰트 적용\n",
        "#한글 깨짐 현상 수정 -> https://teddylee777.github.io/colab/colab-korean\n",
        "\n",
        "!sudo apt-get install -y fonts-nanum\n",
        "!sudo fc-cache -fv\n",
        "!rm ~/.cache/matplotlib -rf"
      ],
      "execution_count": null,
      "outputs": []
    },
    {
      "cell_type": "code",
      "metadata": {
        "id": "z9VVyfama7Hq"
      },
      "source": [
        "import pandas as pd\n",
        "import numpy as np\n",
        "import seaborn as sns\n",
        "import matplotlib.pyplot as plt\n",
        "\n",
        "import datetime\n",
        "plt.rc('font', family='NanumBarunGothic') "
      ],
      "execution_count": 1,
      "outputs": []
    },
    {
      "cell_type": "code",
      "source": [
        "# install packages\n",
        "!pip install dash\n",
        "!pip install jupyter_dash"
      ],
      "metadata": {
        "id": "aSeybvmqev-F"
      },
      "execution_count": null,
      "outputs": []
    },
    {
      "cell_type": "code",
      "source": [
        "#waring 무시 -> https://m.blog.naver.com/wideeyed/221817400937\n",
        "pd.set_option('mode.chained_assignment',  None)"
      ],
      "metadata": {
        "id": "PBc0sUabfOO8"
      },
      "execution_count": 12,
      "outputs": []
    },
    {
      "cell_type": "markdown",
      "source": [
        "##1. Load Raw Data\n",
        "\n",
        "\n",
        "---\n",
        "\n",
        "\n",
        "분석 데이터 : 서울시 노원구 식품위생업소 행정처분내역 현황<br/>\n",
        "http://data.seoul.go.kr/dataList/OA-10989/S/1/datasetView.do<br/><br/>\n",
        "\n",
        "\n",
        "\n",
        "\n",
        "*   `처분일자` Time-seires로 받아오기\n",
        "*   전체적인 데이터 사이즈 확인\n",
        "<br/><br/>\n"
      ],
      "metadata": {
        "id": "_q9WnKVHTbmF"
      }
    },
    {
      "cell_type": "markdown",
      "source": [
        "기간이 상당히 길고, 쓰지 않을 (모두 같은 내용이거나, NaN값이 대부분인) 열이 상당히 많음"
      ],
      "metadata": {
        "id": "ni3KcwZrA99A"
      }
    },
    {
      "cell_type": "code",
      "source": [
        "#raw data 받아오고, 처음 5줄 출력\n",
        "df = pd.read_csv('/content/서울시 노원구 식품위생업소 행정처분내역 현황.csv', encoding='euc-kr', parse_dates=['처분일자']);\n",
        "df.head()"
      ],
      "metadata": {
        "colab": {
          "base_uri": "https://localhost:8080/",
          "height": 476
        },
        "id": "GGiATbsRYwRR",
        "outputId": "27231ef1-9768-4ec4-cd71-42f95acbdb24"
      },
      "execution_count": 62,
      "outputs": [
        {
          "output_type": "execute_result",
          "data": {
            "text/html": [
              "\n",
              "  <div id=\"df-98cc4756-def3-48f2-98e6-2316b14d933a\">\n",
              "    <div class=\"colab-df-container\">\n",
              "      <div>\n",
              "<style scoped>\n",
              "    .dataframe tbody tr th:only-of-type {\n",
              "        vertical-align: middle;\n",
              "    }\n",
              "\n",
              "    .dataframe tbody tr th {\n",
              "        vertical-align: top;\n",
              "    }\n",
              "\n",
              "    .dataframe thead th {\n",
              "        text-align: right;\n",
              "    }\n",
              "</style>\n",
              "<table border=\"1\" class=\"dataframe\">\n",
              "  <thead>\n",
              "    <tr style=\"text-align: right;\">\n",
              "      <th></th>\n",
              "      <th>시군구코드</th>\n",
              "      <th>처분일자</th>\n",
              "      <th>교부번호</th>\n",
              "      <th>업종명</th>\n",
              "      <th>업태명</th>\n",
              "      <th>업소명</th>\n",
              "      <th>소재지도로명</th>\n",
              "      <th>소재지지번</th>\n",
              "      <th>지도점검일자</th>\n",
              "      <th>행정처분상태</th>\n",
              "      <th>처분명</th>\n",
              "      <th>위반내역분류</th>\n",
              "      <th>법적근거</th>\n",
              "      <th>위반일자</th>\n",
              "      <th>위반내용</th>\n",
              "      <th>처분내용</th>\n",
              "      <th>처분기간</th>\n",
              "      <th>적발구분</th>\n",
              "      <th>신고구분</th>\n",
              "      <th>적발기관명(적발기관)</th>\n",
              "      <th>외부적발접수일자</th>\n",
              "      <th>영업장면적(㎡)</th>\n",
              "      <th>운영형태</th>\n",
              "    </tr>\n",
              "  </thead>\n",
              "  <tbody>\n",
              "    <tr>\n",
              "      <th>0</th>\n",
              "      <td>3100000</td>\n",
              "      <td>2004-09-14</td>\n",
              "      <td>19990060386</td>\n",
              "      <td>일반음식점</td>\n",
              "      <td>호프/통닭</td>\n",
              "      <td>원샷</td>\n",
              "      <td>NaN</td>\n",
              "      <td>서울특별시 노원구 공릉동  411번지 18호  지하1층</td>\n",
              "      <td>20040710</td>\n",
              "      <td>처분확정</td>\n",
              "      <td>영업정지2월</td>\n",
              "      <td>NaN</td>\n",
              "      <td>식품위생법제31조</td>\n",
              "      <td>20040710</td>\n",
              "      <td>청소년주류제공1차</td>\n",
              "      <td>영업정지2월</td>\n",
              "      <td>NaN</td>\n",
              "      <td>기타</td>\n",
              "      <td>2</td>\n",
              "      <td>NaN</td>\n",
              "      <td>20040719</td>\n",
              "      <td>62.32</td>\n",
              "      <td>NaN</td>\n",
              "    </tr>\n",
              "    <tr>\n",
              "      <th>1</th>\n",
              "      <td>3100000</td>\n",
              "      <td>2005-09-23</td>\n",
              "      <td>18990059004</td>\n",
              "      <td>일반음식점</td>\n",
              "      <td>분식</td>\n",
              "      <td>동호</td>\n",
              "      <td>NaN</td>\n",
              "      <td>서울특별시 노원구 상계동  651번지 0호 109 11단지종합상가</td>\n",
              "      <td>20050816</td>\n",
              "      <td>처분확정</td>\n",
              "      <td>영업정지 7일갈음 과징금 84만원</td>\n",
              "      <td>NaN</td>\n",
              "      <td>식품위생법 제65조</td>\n",
              "      <td>20050816</td>\n",
              "      <td>영업장면적 무단변경</td>\n",
              "      <td>영업정지 7일갈음 과징금 84만원</td>\n",
              "      <td>7.0</td>\n",
              "      <td>수시</td>\n",
              "      <td></td>\n",
              "      <td>NaN</td>\n",
              "      <td></td>\n",
              "      <td>18.42</td>\n",
              "      <td>NaN</td>\n",
              "    </tr>\n",
              "    <tr>\n",
              "      <th>2</th>\n",
              "      <td>3100000</td>\n",
              "      <td>2007-08-20</td>\n",
              "      <td>18990059004</td>\n",
              "      <td>일반음식점</td>\n",
              "      <td>분식</td>\n",
              "      <td>동호</td>\n",
              "      <td>NaN</td>\n",
              "      <td>서울특별시 노원구 상계동  651번지 0호 109 11단지종합상가</td>\n",
              "      <td>20070725</td>\n",
              "      <td>처분확정</td>\n",
              "      <td>시정명령</td>\n",
              "      <td>NaN</td>\n",
              "      <td>식품위생법 제21조</td>\n",
              "      <td>20070725</td>\n",
              "      <td>영업장외영업</td>\n",
              "      <td>시정명령</td>\n",
              "      <td>NaN</td>\n",
              "      <td>기타</td>\n",
              "      <td></td>\n",
              "      <td>NaN</td>\n",
              "      <td></td>\n",
              "      <td>18.42</td>\n",
              "      <td>NaN</td>\n",
              "    </tr>\n",
              "    <tr>\n",
              "      <th>3</th>\n",
              "      <td>3100000</td>\n",
              "      <td>2007-10-18</td>\n",
              "      <td>18990059004</td>\n",
              "      <td>일반음식점</td>\n",
              "      <td>분식</td>\n",
              "      <td>동호</td>\n",
              "      <td>NaN</td>\n",
              "      <td>서울특별시 노원구 상계동  651번지 0호 109 11단지종합상가</td>\n",
              "      <td>20070831</td>\n",
              "      <td>처분확정</td>\n",
              "      <td>과징금부과(56만원)</td>\n",
              "      <td>NaN</td>\n",
              "      <td>식품위생법 제21조</td>\n",
              "      <td>20070831</td>\n",
              "      <td>영업장외 영업(탁자)</td>\n",
              "      <td>과징금부과(56만원)</td>\n",
              "      <td>7.0</td>\n",
              "      <td>수시</td>\n",
              "      <td></td>\n",
              "      <td>NaN</td>\n",
              "      <td></td>\n",
              "      <td>18.42</td>\n",
              "      <td>NaN</td>\n",
              "    </tr>\n",
              "    <tr>\n",
              "      <th>4</th>\n",
              "      <td>3100000</td>\n",
              "      <td>2005-10-24</td>\n",
              "      <td>19770059003</td>\n",
              "      <td>일반음식점</td>\n",
              "      <td>분식</td>\n",
              "      <td>천궁</td>\n",
              "      <td>NaN</td>\n",
              "      <td>서울특별시 노원구 월계동  272번지 31호</td>\n",
              "      <td>20051011</td>\n",
              "      <td>처분확정</td>\n",
              "      <td>시정명령</td>\n",
              "      <td>NaN</td>\n",
              "      <td>식품위생법 제55조</td>\n",
              "      <td>20051011</td>\n",
              "      <td>이물혼입</td>\n",
              "      <td>시정명령</td>\n",
              "      <td>NaN</td>\n",
              "      <td>수시</td>\n",
              "      <td></td>\n",
              "      <td>NaN</td>\n",
              "      <td></td>\n",
              "      <td>110.30</td>\n",
              "      <td>NaN</td>\n",
              "    </tr>\n",
              "  </tbody>\n",
              "</table>\n",
              "</div>\n",
              "      <button class=\"colab-df-convert\" onclick=\"convertToInteractive('df-98cc4756-def3-48f2-98e6-2316b14d933a')\"\n",
              "              title=\"Convert this dataframe to an interactive table.\"\n",
              "              style=\"display:none;\">\n",
              "        \n",
              "  <svg xmlns=\"http://www.w3.org/2000/svg\" height=\"24px\"viewBox=\"0 0 24 24\"\n",
              "       width=\"24px\">\n",
              "    <path d=\"M0 0h24v24H0V0z\" fill=\"none\"/>\n",
              "    <path d=\"M18.56 5.44l.94 2.06.94-2.06 2.06-.94-2.06-.94-.94-2.06-.94 2.06-2.06.94zm-11 1L8.5 8.5l.94-2.06 2.06-.94-2.06-.94L8.5 2.5l-.94 2.06-2.06.94zm10 10l.94 2.06.94-2.06 2.06-.94-2.06-.94-.94-2.06-.94 2.06-2.06.94z\"/><path d=\"M17.41 7.96l-1.37-1.37c-.4-.4-.92-.59-1.43-.59-.52 0-1.04.2-1.43.59L10.3 9.45l-7.72 7.72c-.78.78-.78 2.05 0 2.83L4 21.41c.39.39.9.59 1.41.59.51 0 1.02-.2 1.41-.59l7.78-7.78 2.81-2.81c.8-.78.8-2.07 0-2.86zM5.41 20L4 18.59l7.72-7.72 1.47 1.35L5.41 20z\"/>\n",
              "  </svg>\n",
              "      </button>\n",
              "      \n",
              "  <style>\n",
              "    .colab-df-container {\n",
              "      display:flex;\n",
              "      flex-wrap:wrap;\n",
              "      gap: 12px;\n",
              "    }\n",
              "\n",
              "    .colab-df-convert {\n",
              "      background-color: #E8F0FE;\n",
              "      border: none;\n",
              "      border-radius: 50%;\n",
              "      cursor: pointer;\n",
              "      display: none;\n",
              "      fill: #1967D2;\n",
              "      height: 32px;\n",
              "      padding: 0 0 0 0;\n",
              "      width: 32px;\n",
              "    }\n",
              "\n",
              "    .colab-df-convert:hover {\n",
              "      background-color: #E2EBFA;\n",
              "      box-shadow: 0px 1px 2px rgba(60, 64, 67, 0.3), 0px 1px 3px 1px rgba(60, 64, 67, 0.15);\n",
              "      fill: #174EA6;\n",
              "    }\n",
              "\n",
              "    [theme=dark] .colab-df-convert {\n",
              "      background-color: #3B4455;\n",
              "      fill: #D2E3FC;\n",
              "    }\n",
              "\n",
              "    [theme=dark] .colab-df-convert:hover {\n",
              "      background-color: #434B5C;\n",
              "      box-shadow: 0px 1px 3px 1px rgba(0, 0, 0, 0.15);\n",
              "      filter: drop-shadow(0px 1px 2px rgba(0, 0, 0, 0.3));\n",
              "      fill: #FFFFFF;\n",
              "    }\n",
              "  </style>\n",
              "\n",
              "      <script>\n",
              "        const buttonEl =\n",
              "          document.querySelector('#df-98cc4756-def3-48f2-98e6-2316b14d933a button.colab-df-convert');\n",
              "        buttonEl.style.display =\n",
              "          google.colab.kernel.accessAllowed ? 'block' : 'none';\n",
              "\n",
              "        async function convertToInteractive(key) {\n",
              "          const element = document.querySelector('#df-98cc4756-def3-48f2-98e6-2316b14d933a');\n",
              "          const dataTable =\n",
              "            await google.colab.kernel.invokeFunction('convertToInteractive',\n",
              "                                                     [key], {});\n",
              "          if (!dataTable) return;\n",
              "\n",
              "          const docLinkHtml = 'Like what you see? Visit the ' +\n",
              "            '<a target=\"_blank\" href=https://colab.research.google.com/notebooks/data_table.ipynb>data table notebook</a>'\n",
              "            + ' to learn more about interactive tables.';\n",
              "          element.innerHTML = '';\n",
              "          dataTable['output_type'] = 'display_data';\n",
              "          await google.colab.output.renderOutput(dataTable, element);\n",
              "          const docLink = document.createElement('div');\n",
              "          docLink.innerHTML = docLinkHtml;\n",
              "          element.appendChild(docLink);\n",
              "        }\n",
              "      </script>\n",
              "    </div>\n",
              "  </div>\n",
              "  "
            ],
            "text/plain": [
              "     시군구코드       처분일자         교부번호    업종명  ... 적발기관명(적발기관)  외부적발접수일자 영업장면적(㎡) 운영형태\n",
              "0  3100000 2004-09-14  19990060386  일반음식점  ...         NaN  20040719    62.32  NaN\n",
              "1  3100000 2005-09-23  18990059004  일반음식점  ...         NaN              18.42  NaN\n",
              "2  3100000 2007-08-20  18990059004  일반음식점  ...         NaN              18.42  NaN\n",
              "3  3100000 2007-10-18  18990059004  일반음식점  ...         NaN              18.42  NaN\n",
              "4  3100000 2005-10-24  19770059003  일반음식점  ...         NaN             110.30  NaN\n",
              "\n",
              "[5 rows x 23 columns]"
            ]
          },
          "metadata": {},
          "execution_count": 62
        }
      ]
    },
    {
      "cell_type": "code",
      "source": [
        "#데이터 사이즈 확인\n",
        "print('row X col :', len(df), 'X', len(df.columns))\n",
        "\n",
        "#날짜 확인\n",
        "print('\\n')\n",
        "print('가장 오래된 날짜 :',df['위반일자'].min())\n",
        "print('가장 최근 날짜 :',df['위반일자'].max())"
      ],
      "metadata": {
        "colab": {
          "base_uri": "https://localhost:8080/"
        },
        "id": "GPqIiCe4cGXW",
        "outputId": "fea3c01e-fb29-4d9b-95d8-f8e38e80209a"
      },
      "execution_count": 4,
      "outputs": [
        {
          "output_type": "stream",
          "name": "stdout",
          "text": [
            "row X col : 5636 X 23\n",
            "\n",
            "\n",
            "가장 오래된 날짜 : 19940301\n",
            "가장 최근 날짜 : 20211026\n"
          ]
        }
      ]
    },
    {
      "cell_type": "markdown",
      "source": [
        "##2. Data Preprocessing1\n",
        "\n",
        "\n",
        "---\n",
        "\n",
        "\n",
        "전체적 row data 전처리\n",
        "   \n",
        "\n",
        "*   분석에 필요한 열 이외엔 제거(drop)<br/>\n",
        "`처분일자` `업종명` `업태명` `처분명` `위반내용`\n",
        "*   기한은 `2000~2020`년으로 제한<br/>\n",
        "*   `처분명` `위반내용` 정리<br/>\n",
        "\n"
      ],
      "metadata": {
        "id": "tmdncVHgr5W_"
      }
    },
    {
      "cell_type": "code",
      "metadata": {
        "colab": {
          "base_uri": "https://localhost:8080/",
          "height": 206
        },
        "id": "sNuwR1sAbcp9",
        "outputId": "bb71fba4-95f9-4358-b047-347d27bce258"
      },
      "source": [
        "#쓰지 않을 colnums 제거\n",
        "df = df.drop(['교부번호', '시군구코드', '적발구분', '소재지지번', '소재지도로명', '지도점검일자', '행정처분상태', '위반일자', \n",
        "              '법적근거', '처분내용', '위반내역분류', '처분기간', '운영형태', '외부적발접수일자', '적발기관명(적발기관)', '영업장면적(㎡)', '신고구분'], axis=1)\n",
        "\n",
        "#Year로 년도만 가져오고, 2000~2020외 row삭제\n",
        "df['Year'] = df['처분일자'].dt.year \n",
        "df = df[(df.Year >= 2000) & (df.Year<2021)]\n",
        "df.head()"
      ],
      "execution_count": 63,
      "outputs": [
        {
          "output_type": "execute_result",
          "data": {
            "text/html": [
              "\n",
              "  <div id=\"df-cc1bda3a-00ff-4aee-89e9-eb41ea3103d2\">\n",
              "    <div class=\"colab-df-container\">\n",
              "      <div>\n",
              "<style scoped>\n",
              "    .dataframe tbody tr th:only-of-type {\n",
              "        vertical-align: middle;\n",
              "    }\n",
              "\n",
              "    .dataframe tbody tr th {\n",
              "        vertical-align: top;\n",
              "    }\n",
              "\n",
              "    .dataframe thead th {\n",
              "        text-align: right;\n",
              "    }\n",
              "</style>\n",
              "<table border=\"1\" class=\"dataframe\">\n",
              "  <thead>\n",
              "    <tr style=\"text-align: right;\">\n",
              "      <th></th>\n",
              "      <th>처분일자</th>\n",
              "      <th>업종명</th>\n",
              "      <th>업태명</th>\n",
              "      <th>업소명</th>\n",
              "      <th>처분명</th>\n",
              "      <th>위반내용</th>\n",
              "      <th>Year</th>\n",
              "    </tr>\n",
              "  </thead>\n",
              "  <tbody>\n",
              "    <tr>\n",
              "      <th>0</th>\n",
              "      <td>2004-09-14</td>\n",
              "      <td>일반음식점</td>\n",
              "      <td>호프/통닭</td>\n",
              "      <td>원샷</td>\n",
              "      <td>영업정지2월</td>\n",
              "      <td>청소년주류제공1차</td>\n",
              "      <td>2004</td>\n",
              "    </tr>\n",
              "    <tr>\n",
              "      <th>1</th>\n",
              "      <td>2005-09-23</td>\n",
              "      <td>일반음식점</td>\n",
              "      <td>분식</td>\n",
              "      <td>동호</td>\n",
              "      <td>영업정지 7일갈음 과징금 84만원</td>\n",
              "      <td>영업장면적 무단변경</td>\n",
              "      <td>2005</td>\n",
              "    </tr>\n",
              "    <tr>\n",
              "      <th>2</th>\n",
              "      <td>2007-08-20</td>\n",
              "      <td>일반음식점</td>\n",
              "      <td>분식</td>\n",
              "      <td>동호</td>\n",
              "      <td>시정명령</td>\n",
              "      <td>영업장외영업</td>\n",
              "      <td>2007</td>\n",
              "    </tr>\n",
              "    <tr>\n",
              "      <th>3</th>\n",
              "      <td>2007-10-18</td>\n",
              "      <td>일반음식점</td>\n",
              "      <td>분식</td>\n",
              "      <td>동호</td>\n",
              "      <td>과징금부과(56만원)</td>\n",
              "      <td>영업장외 영업(탁자)</td>\n",
              "      <td>2007</td>\n",
              "    </tr>\n",
              "    <tr>\n",
              "      <th>4</th>\n",
              "      <td>2005-10-24</td>\n",
              "      <td>일반음식점</td>\n",
              "      <td>분식</td>\n",
              "      <td>천궁</td>\n",
              "      <td>시정명령</td>\n",
              "      <td>이물혼입</td>\n",
              "      <td>2005</td>\n",
              "    </tr>\n",
              "  </tbody>\n",
              "</table>\n",
              "</div>\n",
              "      <button class=\"colab-df-convert\" onclick=\"convertToInteractive('df-cc1bda3a-00ff-4aee-89e9-eb41ea3103d2')\"\n",
              "              title=\"Convert this dataframe to an interactive table.\"\n",
              "              style=\"display:none;\">\n",
              "        \n",
              "  <svg xmlns=\"http://www.w3.org/2000/svg\" height=\"24px\"viewBox=\"0 0 24 24\"\n",
              "       width=\"24px\">\n",
              "    <path d=\"M0 0h24v24H0V0z\" fill=\"none\"/>\n",
              "    <path d=\"M18.56 5.44l.94 2.06.94-2.06 2.06-.94-2.06-.94-.94-2.06-.94 2.06-2.06.94zm-11 1L8.5 8.5l.94-2.06 2.06-.94-2.06-.94L8.5 2.5l-.94 2.06-2.06.94zm10 10l.94 2.06.94-2.06 2.06-.94-2.06-.94-.94-2.06-.94 2.06-2.06.94z\"/><path d=\"M17.41 7.96l-1.37-1.37c-.4-.4-.92-.59-1.43-.59-.52 0-1.04.2-1.43.59L10.3 9.45l-7.72 7.72c-.78.78-.78 2.05 0 2.83L4 21.41c.39.39.9.59 1.41.59.51 0 1.02-.2 1.41-.59l7.78-7.78 2.81-2.81c.8-.78.8-2.07 0-2.86zM5.41 20L4 18.59l7.72-7.72 1.47 1.35L5.41 20z\"/>\n",
              "  </svg>\n",
              "      </button>\n",
              "      \n",
              "  <style>\n",
              "    .colab-df-container {\n",
              "      display:flex;\n",
              "      flex-wrap:wrap;\n",
              "      gap: 12px;\n",
              "    }\n",
              "\n",
              "    .colab-df-convert {\n",
              "      background-color: #E8F0FE;\n",
              "      border: none;\n",
              "      border-radius: 50%;\n",
              "      cursor: pointer;\n",
              "      display: none;\n",
              "      fill: #1967D2;\n",
              "      height: 32px;\n",
              "      padding: 0 0 0 0;\n",
              "      width: 32px;\n",
              "    }\n",
              "\n",
              "    .colab-df-convert:hover {\n",
              "      background-color: #E2EBFA;\n",
              "      box-shadow: 0px 1px 2px rgba(60, 64, 67, 0.3), 0px 1px 3px 1px rgba(60, 64, 67, 0.15);\n",
              "      fill: #174EA6;\n",
              "    }\n",
              "\n",
              "    [theme=dark] .colab-df-convert {\n",
              "      background-color: #3B4455;\n",
              "      fill: #D2E3FC;\n",
              "    }\n",
              "\n",
              "    [theme=dark] .colab-df-convert:hover {\n",
              "      background-color: #434B5C;\n",
              "      box-shadow: 0px 1px 3px 1px rgba(0, 0, 0, 0.15);\n",
              "      filter: drop-shadow(0px 1px 2px rgba(0, 0, 0, 0.3));\n",
              "      fill: #FFFFFF;\n",
              "    }\n",
              "  </style>\n",
              "\n",
              "      <script>\n",
              "        const buttonEl =\n",
              "          document.querySelector('#df-cc1bda3a-00ff-4aee-89e9-eb41ea3103d2 button.colab-df-convert');\n",
              "        buttonEl.style.display =\n",
              "          google.colab.kernel.accessAllowed ? 'block' : 'none';\n",
              "\n",
              "        async function convertToInteractive(key) {\n",
              "          const element = document.querySelector('#df-cc1bda3a-00ff-4aee-89e9-eb41ea3103d2');\n",
              "          const dataTable =\n",
              "            await google.colab.kernel.invokeFunction('convertToInteractive',\n",
              "                                                     [key], {});\n",
              "          if (!dataTable) return;\n",
              "\n",
              "          const docLinkHtml = 'Like what you see? Visit the ' +\n",
              "            '<a target=\"_blank\" href=https://colab.research.google.com/notebooks/data_table.ipynb>data table notebook</a>'\n",
              "            + ' to learn more about interactive tables.';\n",
              "          element.innerHTML = '';\n",
              "          dataTable['output_type'] = 'display_data';\n",
              "          await google.colab.output.renderOutput(dataTable, element);\n",
              "          const docLink = document.createElement('div');\n",
              "          docLink.innerHTML = docLinkHtml;\n",
              "          element.appendChild(docLink);\n",
              "        }\n",
              "      </script>\n",
              "    </div>\n",
              "  </div>\n",
              "  "
            ],
            "text/plain": [
              "        처분일자    업종명    업태명 업소명                 처분명         위반내용  Year\n",
              "0 2004-09-14  일반음식점  호프/통닭  원샷              영업정지2월    청소년주류제공1차  2004\n",
              "1 2005-09-23  일반음식점     분식  동호  영업정지 7일갈음 과징금 84만원   영업장면적 무단변경  2005\n",
              "2 2007-08-20  일반음식점     분식  동호                시정명령       영업장외영업  2007\n",
              "3 2007-10-18  일반음식점     분식  동호         과징금부과(56만원)  영업장외 영업(탁자)  2007\n",
              "4 2005-10-24  일반음식점     분식  천궁                시정명령         이물혼입  2005"
            ]
          },
          "metadata": {},
          "execution_count": 63
        }
      ]
    },
    {
      "cell_type": "code",
      "source": [
        "#참고자료\n",
        "#apply -> https://developer-ping9.tistory.com/111\n",
        "#SettingWithCopyWarning -> https://emilkwak.github.io/pandas-dataframe-settingwithcopywarning\n",
        "\n",
        "#위반내용 정리\n",
        "def replace(x) :\n",
        "  x = str(x)\n",
        "  if '청소년' in x:\n",
        "    s = '청소년 주류 제공'\n",
        "\n",
        "  elif '이물' in x:\n",
        "    s = '이물혼입'\n",
        "\n",
        "  elif '영업장' in x:\n",
        "    s = '영업장관련'\n",
        "\n",
        "  elif '건강진단' in x:\n",
        "    s = '건강진단 미필'\n",
        "\n",
        "  elif '위생교육' in x:\n",
        "    s = '위생교육 미이수'\n",
        "\n",
        "  elif '노래' in x:\n",
        "    s = '반주시설'\n",
        "\n",
        "  elif '위생' in x or '청결' in x:\n",
        "    s = '위생 불량'\n",
        "  \n",
        "  elif '유흥' in x or '접객' in x:\n",
        "    s = '유흥접객 행위'\n",
        "    \n",
        "  elif '유통기한' in x :\n",
        "    s = '유통기한'\n",
        "\n",
        "  elif '가격표' in x :\n",
        "    s = '가격표 표시 누락'\n",
        "  \n",
        "  elif '체납' in x :\n",
        "    s = '세금 미체납'\n",
        "\n",
        "  elif '변경신고' in x:\n",
        "    s = '변경신고 없이 시설변경'\n",
        "  \n",
        "  elif '말소' in x:\n",
        "    s = '사업자등록 말소'\n",
        "  \n",
        "  elif '원산지' in x:\n",
        "    s = '원산지 미표기'\n",
        "\n",
        "  elif '광고' in x:\n",
        "    s = '광고'\n",
        "\n",
        "  else:\n",
        "    s = '기타'\n",
        "\n",
        "  return str(s)\n",
        "\n",
        "dfCopy1 = df['위반내용'].copy()\n",
        "dfCopy1 = dfCopy1.apply(replace)\n",
        "df['위반내용수정'] = dfCopy1"
      ],
      "metadata": {
        "id": "N2hbSA0EfqI1"
      },
      "execution_count": 64,
      "outputs": []
    },
    {
      "cell_type": "code",
      "source": [
        "#처분명 정리\n",
        "def replace2(x) :\n",
        "  x = str(x)\n",
        "  if '영업정지' in x:\n",
        "    s = '영업정지'\n",
        "\n",
        "  elif '과징금' in x:\n",
        "    s = '과징금'\n",
        "\n",
        "  elif '과태료' in x:\n",
        "    s = '과태료'\n",
        "\n",
        "  elif '시정명령' in x:\n",
        "    s = '시정명령'\n",
        "\n",
        "  elif '영업소폐쇄' in x:\n",
        "    s = '영업소폐쇄'\n",
        "\n",
        "  else:\n",
        "    s = '기타'\n",
        "\n",
        "  return str(s)\n",
        "\n",
        "dfCopy2 = df['처분명'].copy()\n",
        "dfCopy2 = dfCopy2.apply(replace2)\n",
        "df['처분명수정'] = dfCopy2"
      ],
      "metadata": {
        "id": "clBJObLcgKTm"
      },
      "execution_count": 65,
      "outputs": []
    },
    {
      "cell_type": "code",
      "source": [
        "#위반내용, 처분명 수정한 col추가\n",
        "#위반내용 처분명 제거\n",
        "df = df.drop(['처분명', '위반내용'], axis=1)\n",
        "df"
      ],
      "metadata": {
        "colab": {
          "base_uri": "https://localhost:8080/",
          "height": 423
        },
        "id": "beHQBB-Egb71",
        "outputId": "b5781f50-9589-4fbc-83d9-2a50698f66e3"
      },
      "execution_count": 66,
      "outputs": [
        {
          "output_type": "execute_result",
          "data": {
            "text/html": [
              "\n",
              "  <div id=\"df-b588b99f-0d62-4888-90bd-43e82312c0e3\">\n",
              "    <div class=\"colab-df-container\">\n",
              "      <div>\n",
              "<style scoped>\n",
              "    .dataframe tbody tr th:only-of-type {\n",
              "        vertical-align: middle;\n",
              "    }\n",
              "\n",
              "    .dataframe tbody tr th {\n",
              "        vertical-align: top;\n",
              "    }\n",
              "\n",
              "    .dataframe thead th {\n",
              "        text-align: right;\n",
              "    }\n",
              "</style>\n",
              "<table border=\"1\" class=\"dataframe\">\n",
              "  <thead>\n",
              "    <tr style=\"text-align: right;\">\n",
              "      <th></th>\n",
              "      <th>처분일자</th>\n",
              "      <th>업종명</th>\n",
              "      <th>업태명</th>\n",
              "      <th>업소명</th>\n",
              "      <th>Year</th>\n",
              "      <th>위반내용수정</th>\n",
              "      <th>처분명수정</th>\n",
              "    </tr>\n",
              "  </thead>\n",
              "  <tbody>\n",
              "    <tr>\n",
              "      <th>0</th>\n",
              "      <td>2004-09-14</td>\n",
              "      <td>일반음식점</td>\n",
              "      <td>호프/통닭</td>\n",
              "      <td>원샷</td>\n",
              "      <td>2004</td>\n",
              "      <td>청소년 주류 제공</td>\n",
              "      <td>영업정지</td>\n",
              "    </tr>\n",
              "    <tr>\n",
              "      <th>1</th>\n",
              "      <td>2005-09-23</td>\n",
              "      <td>일반음식점</td>\n",
              "      <td>분식</td>\n",
              "      <td>동호</td>\n",
              "      <td>2005</td>\n",
              "      <td>영업장관련</td>\n",
              "      <td>영업정지</td>\n",
              "    </tr>\n",
              "    <tr>\n",
              "      <th>2</th>\n",
              "      <td>2007-08-20</td>\n",
              "      <td>일반음식점</td>\n",
              "      <td>분식</td>\n",
              "      <td>동호</td>\n",
              "      <td>2007</td>\n",
              "      <td>영업장관련</td>\n",
              "      <td>시정명령</td>\n",
              "    </tr>\n",
              "    <tr>\n",
              "      <th>3</th>\n",
              "      <td>2007-10-18</td>\n",
              "      <td>일반음식점</td>\n",
              "      <td>분식</td>\n",
              "      <td>동호</td>\n",
              "      <td>2007</td>\n",
              "      <td>영업장관련</td>\n",
              "      <td>과징금</td>\n",
              "    </tr>\n",
              "    <tr>\n",
              "      <th>4</th>\n",
              "      <td>2005-10-24</td>\n",
              "      <td>일반음식점</td>\n",
              "      <td>분식</td>\n",
              "      <td>천궁</td>\n",
              "      <td>2005</td>\n",
              "      <td>이물혼입</td>\n",
              "      <td>시정명령</td>\n",
              "    </tr>\n",
              "    <tr>\n",
              "      <th>...</th>\n",
              "      <td>...</td>\n",
              "      <td>...</td>\n",
              "      <td>...</td>\n",
              "      <td>...</td>\n",
              "      <td>...</td>\n",
              "      <td>...</td>\n",
              "      <td>...</td>\n",
              "    </tr>\n",
              "    <tr>\n",
              "      <th>5630</th>\n",
              "      <td>2011-07-15</td>\n",
              "      <td>집단급식소식품판매업</td>\n",
              "      <td>집단급식소 식품판매업</td>\n",
              "      <td>(주)선명푸드</td>\n",
              "      <td>2011</td>\n",
              "      <td>기타</td>\n",
              "      <td>과징금</td>\n",
              "    </tr>\n",
              "    <tr>\n",
              "      <th>5631</th>\n",
              "      <td>2010-11-08</td>\n",
              "      <td>건강기능식품일반판매업</td>\n",
              "      <td>전자상거래(통신판매업)</td>\n",
              "      <td>유산균천사</td>\n",
              "      <td>2010</td>\n",
              "      <td>광고</td>\n",
              "      <td>영업정지</td>\n",
              "    </tr>\n",
              "    <tr>\n",
              "      <th>5632</th>\n",
              "      <td>2014-04-25</td>\n",
              "      <td>건강기능식품일반판매업</td>\n",
              "      <td>영업장판매</td>\n",
              "      <td>허브 앤 펫</td>\n",
              "      <td>2014</td>\n",
              "      <td>광고</td>\n",
              "      <td>영업정지</td>\n",
              "    </tr>\n",
              "    <tr>\n",
              "      <th>5633</th>\n",
              "      <td>2014-03-24</td>\n",
              "      <td>건강기능식품일반판매업</td>\n",
              "      <td>영업장판매</td>\n",
              "      <td>허브모아</td>\n",
              "      <td>2014</td>\n",
              "      <td>광고</td>\n",
              "      <td>영업정지</td>\n",
              "    </tr>\n",
              "    <tr>\n",
              "      <th>5634</th>\n",
              "      <td>2020-06-25</td>\n",
              "      <td>건강기능식품일반판매업</td>\n",
              "      <td>전자상거래(통신판매업)</td>\n",
              "      <td>그레이스 물댄동산(GRACE WATER GARDEN)</td>\n",
              "      <td>2020</td>\n",
              "      <td>기타</td>\n",
              "      <td>시정명령</td>\n",
              "    </tr>\n",
              "  </tbody>\n",
              "</table>\n",
              "<p>5502 rows × 7 columns</p>\n",
              "</div>\n",
              "      <button class=\"colab-df-convert\" onclick=\"convertToInteractive('df-b588b99f-0d62-4888-90bd-43e82312c0e3')\"\n",
              "              title=\"Convert this dataframe to an interactive table.\"\n",
              "              style=\"display:none;\">\n",
              "        \n",
              "  <svg xmlns=\"http://www.w3.org/2000/svg\" height=\"24px\"viewBox=\"0 0 24 24\"\n",
              "       width=\"24px\">\n",
              "    <path d=\"M0 0h24v24H0V0z\" fill=\"none\"/>\n",
              "    <path d=\"M18.56 5.44l.94 2.06.94-2.06 2.06-.94-2.06-.94-.94-2.06-.94 2.06-2.06.94zm-11 1L8.5 8.5l.94-2.06 2.06-.94-2.06-.94L8.5 2.5l-.94 2.06-2.06.94zm10 10l.94 2.06.94-2.06 2.06-.94-2.06-.94-.94-2.06-.94 2.06-2.06.94z\"/><path d=\"M17.41 7.96l-1.37-1.37c-.4-.4-.92-.59-1.43-.59-.52 0-1.04.2-1.43.59L10.3 9.45l-7.72 7.72c-.78.78-.78 2.05 0 2.83L4 21.41c.39.39.9.59 1.41.59.51 0 1.02-.2 1.41-.59l7.78-7.78 2.81-2.81c.8-.78.8-2.07 0-2.86zM5.41 20L4 18.59l7.72-7.72 1.47 1.35L5.41 20z\"/>\n",
              "  </svg>\n",
              "      </button>\n",
              "      \n",
              "  <style>\n",
              "    .colab-df-container {\n",
              "      display:flex;\n",
              "      flex-wrap:wrap;\n",
              "      gap: 12px;\n",
              "    }\n",
              "\n",
              "    .colab-df-convert {\n",
              "      background-color: #E8F0FE;\n",
              "      border: none;\n",
              "      border-radius: 50%;\n",
              "      cursor: pointer;\n",
              "      display: none;\n",
              "      fill: #1967D2;\n",
              "      height: 32px;\n",
              "      padding: 0 0 0 0;\n",
              "      width: 32px;\n",
              "    }\n",
              "\n",
              "    .colab-df-convert:hover {\n",
              "      background-color: #E2EBFA;\n",
              "      box-shadow: 0px 1px 2px rgba(60, 64, 67, 0.3), 0px 1px 3px 1px rgba(60, 64, 67, 0.15);\n",
              "      fill: #174EA6;\n",
              "    }\n",
              "\n",
              "    [theme=dark] .colab-df-convert {\n",
              "      background-color: #3B4455;\n",
              "      fill: #D2E3FC;\n",
              "    }\n",
              "\n",
              "    [theme=dark] .colab-df-convert:hover {\n",
              "      background-color: #434B5C;\n",
              "      box-shadow: 0px 1px 3px 1px rgba(0, 0, 0, 0.15);\n",
              "      filter: drop-shadow(0px 1px 2px rgba(0, 0, 0, 0.3));\n",
              "      fill: #FFFFFF;\n",
              "    }\n",
              "  </style>\n",
              "\n",
              "      <script>\n",
              "        const buttonEl =\n",
              "          document.querySelector('#df-b588b99f-0d62-4888-90bd-43e82312c0e3 button.colab-df-convert');\n",
              "        buttonEl.style.display =\n",
              "          google.colab.kernel.accessAllowed ? 'block' : 'none';\n",
              "\n",
              "        async function convertToInteractive(key) {\n",
              "          const element = document.querySelector('#df-b588b99f-0d62-4888-90bd-43e82312c0e3');\n",
              "          const dataTable =\n",
              "            await google.colab.kernel.invokeFunction('convertToInteractive',\n",
              "                                                     [key], {});\n",
              "          if (!dataTable) return;\n",
              "\n",
              "          const docLinkHtml = 'Like what you see? Visit the ' +\n",
              "            '<a target=\"_blank\" href=https://colab.research.google.com/notebooks/data_table.ipynb>data table notebook</a>'\n",
              "            + ' to learn more about interactive tables.';\n",
              "          element.innerHTML = '';\n",
              "          dataTable['output_type'] = 'display_data';\n",
              "          await google.colab.output.renderOutput(dataTable, element);\n",
              "          const docLink = document.createElement('div');\n",
              "          docLink.innerHTML = docLinkHtml;\n",
              "          element.appendChild(docLink);\n",
              "        }\n",
              "      </script>\n",
              "    </div>\n",
              "  </div>\n",
              "  "
            ],
            "text/plain": [
              "           처분일자          업종명           업태명  ...  Year     위반내용수정 처분명수정\n",
              "0    2004-09-14        일반음식점         호프/통닭  ...  2004  청소년 주류 제공  영업정지\n",
              "1    2005-09-23        일반음식점            분식  ...  2005      영업장관련  영업정지\n",
              "2    2007-08-20        일반음식점            분식  ...  2007      영업장관련  시정명령\n",
              "3    2007-10-18        일반음식점            분식  ...  2007      영업장관련   과징금\n",
              "4    2005-10-24        일반음식점            분식  ...  2005       이물혼입  시정명령\n",
              "...         ...          ...           ...  ...   ...        ...   ...\n",
              "5630 2011-07-15   집단급식소식품판매업   집단급식소 식품판매업  ...  2011         기타   과징금\n",
              "5631 2010-11-08  건강기능식품일반판매업  전자상거래(통신판매업)  ...  2010         광고  영업정지\n",
              "5632 2014-04-25  건강기능식품일반판매업         영업장판매  ...  2014         광고  영업정지\n",
              "5633 2014-03-24  건강기능식품일반판매업         영업장판매  ...  2014         광고  영업정지\n",
              "5634 2020-06-25  건강기능식품일반판매업  전자상거래(통신판매업)  ...  2020         기타  시정명령\n",
              "\n",
              "[5502 rows x 7 columns]"
            ]
          },
          "metadata": {},
          "execution_count": 66
        }
      ]
    },
    {
      "cell_type": "code",
      "source": [
        "#encoding\n",
        "\n",
        "df.loc[:, '위반내용_encoding'] = pd.factorize(df['위반내용수정'])[0].reshape(-1, 1)\n",
        "df.loc[:, '처분명_encoding'] = pd.factorize(df['처분명수정'])[0].reshape(-1, 1)\n",
        "df.loc[:, '업종명_encoding'] = pd.factorize(df['업종명'])[0].reshape(-1, 1)\n",
        "df.loc[:, '업태명_encoding'] = pd.factorize(df['업태명'])[0].reshape(-1, 1)\n",
        "df"
      ],
      "metadata": {
        "colab": {
          "base_uri": "https://localhost:8080/",
          "height": 423
        },
        "id": "x5hpNZH5k2QC",
        "outputId": "22ddc960-edae-4b62-a56e-85e16bc147a1"
      },
      "execution_count": 71,
      "outputs": [
        {
          "output_type": "execute_result",
          "data": {
            "text/html": [
              "\n",
              "  <div id=\"df-b2ef4e11-9acb-4ee9-9091-9801303c2a7f\">\n",
              "    <div class=\"colab-df-container\">\n",
              "      <div>\n",
              "<style scoped>\n",
              "    .dataframe tbody tr th:only-of-type {\n",
              "        vertical-align: middle;\n",
              "    }\n",
              "\n",
              "    .dataframe tbody tr th {\n",
              "        vertical-align: top;\n",
              "    }\n",
              "\n",
              "    .dataframe thead th {\n",
              "        text-align: right;\n",
              "    }\n",
              "</style>\n",
              "<table border=\"1\" class=\"dataframe\">\n",
              "  <thead>\n",
              "    <tr style=\"text-align: right;\">\n",
              "      <th></th>\n",
              "      <th>처분일자</th>\n",
              "      <th>업종명</th>\n",
              "      <th>업태명</th>\n",
              "      <th>업소명</th>\n",
              "      <th>Year</th>\n",
              "      <th>위반내용수정</th>\n",
              "      <th>처분명수정</th>\n",
              "      <th>위반내용_encoding</th>\n",
              "      <th>처분명_encoding</th>\n",
              "      <th>업종명_encoding</th>\n",
              "      <th>업태명_encoding</th>\n",
              "    </tr>\n",
              "  </thead>\n",
              "  <tbody>\n",
              "    <tr>\n",
              "      <th>0</th>\n",
              "      <td>2004-09-14</td>\n",
              "      <td>일반음식점</td>\n",
              "      <td>호프/통닭</td>\n",
              "      <td>원샷</td>\n",
              "      <td>2004</td>\n",
              "      <td>청소년 주류 제공</td>\n",
              "      <td>영업정지</td>\n",
              "      <td>0</td>\n",
              "      <td>0</td>\n",
              "      <td>0</td>\n",
              "      <td>0</td>\n",
              "    </tr>\n",
              "    <tr>\n",
              "      <th>1</th>\n",
              "      <td>2005-09-23</td>\n",
              "      <td>일반음식점</td>\n",
              "      <td>분식</td>\n",
              "      <td>동호</td>\n",
              "      <td>2005</td>\n",
              "      <td>영업장관련</td>\n",
              "      <td>영업정지</td>\n",
              "      <td>1</td>\n",
              "      <td>0</td>\n",
              "      <td>0</td>\n",
              "      <td>1</td>\n",
              "    </tr>\n",
              "    <tr>\n",
              "      <th>2</th>\n",
              "      <td>2007-08-20</td>\n",
              "      <td>일반음식점</td>\n",
              "      <td>분식</td>\n",
              "      <td>동호</td>\n",
              "      <td>2007</td>\n",
              "      <td>영업장관련</td>\n",
              "      <td>시정명령</td>\n",
              "      <td>1</td>\n",
              "      <td>1</td>\n",
              "      <td>0</td>\n",
              "      <td>1</td>\n",
              "    </tr>\n",
              "    <tr>\n",
              "      <th>3</th>\n",
              "      <td>2007-10-18</td>\n",
              "      <td>일반음식점</td>\n",
              "      <td>분식</td>\n",
              "      <td>동호</td>\n",
              "      <td>2007</td>\n",
              "      <td>영업장관련</td>\n",
              "      <td>과징금</td>\n",
              "      <td>1</td>\n",
              "      <td>2</td>\n",
              "      <td>0</td>\n",
              "      <td>1</td>\n",
              "    </tr>\n",
              "    <tr>\n",
              "      <th>4</th>\n",
              "      <td>2005-10-24</td>\n",
              "      <td>일반음식점</td>\n",
              "      <td>분식</td>\n",
              "      <td>천궁</td>\n",
              "      <td>2005</td>\n",
              "      <td>이물혼입</td>\n",
              "      <td>시정명령</td>\n",
              "      <td>2</td>\n",
              "      <td>1</td>\n",
              "      <td>0</td>\n",
              "      <td>1</td>\n",
              "    </tr>\n",
              "    <tr>\n",
              "      <th>...</th>\n",
              "      <td>...</td>\n",
              "      <td>...</td>\n",
              "      <td>...</td>\n",
              "      <td>...</td>\n",
              "      <td>...</td>\n",
              "      <td>...</td>\n",
              "      <td>...</td>\n",
              "      <td>...</td>\n",
              "      <td>...</td>\n",
              "      <td>...</td>\n",
              "      <td>...</td>\n",
              "    </tr>\n",
              "    <tr>\n",
              "      <th>5630</th>\n",
              "      <td>2011-07-15</td>\n",
              "      <td>집단급식소식품판매업</td>\n",
              "      <td>집단급식소 식품판매업</td>\n",
              "      <td>(주)선명푸드</td>\n",
              "      <td>2011</td>\n",
              "      <td>기타</td>\n",
              "      <td>과징금</td>\n",
              "      <td>6</td>\n",
              "      <td>2</td>\n",
              "      <td>15</td>\n",
              "      <td>53</td>\n",
              "    </tr>\n",
              "    <tr>\n",
              "      <th>5631</th>\n",
              "      <td>2010-11-08</td>\n",
              "      <td>건강기능식품일반판매업</td>\n",
              "      <td>전자상거래(통신판매업)</td>\n",
              "      <td>유산균천사</td>\n",
              "      <td>2010</td>\n",
              "      <td>광고</td>\n",
              "      <td>영업정지</td>\n",
              "      <td>15</td>\n",
              "      <td>0</td>\n",
              "      <td>16</td>\n",
              "      <td>55</td>\n",
              "    </tr>\n",
              "    <tr>\n",
              "      <th>5632</th>\n",
              "      <td>2014-04-25</td>\n",
              "      <td>건강기능식품일반판매업</td>\n",
              "      <td>영업장판매</td>\n",
              "      <td>허브 앤 펫</td>\n",
              "      <td>2014</td>\n",
              "      <td>광고</td>\n",
              "      <td>영업정지</td>\n",
              "      <td>15</td>\n",
              "      <td>0</td>\n",
              "      <td>16</td>\n",
              "      <td>54</td>\n",
              "    </tr>\n",
              "    <tr>\n",
              "      <th>5633</th>\n",
              "      <td>2014-03-24</td>\n",
              "      <td>건강기능식품일반판매업</td>\n",
              "      <td>영업장판매</td>\n",
              "      <td>허브모아</td>\n",
              "      <td>2014</td>\n",
              "      <td>광고</td>\n",
              "      <td>영업정지</td>\n",
              "      <td>15</td>\n",
              "      <td>0</td>\n",
              "      <td>16</td>\n",
              "      <td>54</td>\n",
              "    </tr>\n",
              "    <tr>\n",
              "      <th>5634</th>\n",
              "      <td>2020-06-25</td>\n",
              "      <td>건강기능식품일반판매업</td>\n",
              "      <td>전자상거래(통신판매업)</td>\n",
              "      <td>그레이스 물댄동산(GRACE WATER GARDEN)</td>\n",
              "      <td>2020</td>\n",
              "      <td>기타</td>\n",
              "      <td>시정명령</td>\n",
              "      <td>6</td>\n",
              "      <td>1</td>\n",
              "      <td>16</td>\n",
              "      <td>55</td>\n",
              "    </tr>\n",
              "  </tbody>\n",
              "</table>\n",
              "<p>5502 rows × 11 columns</p>\n",
              "</div>\n",
              "      <button class=\"colab-df-convert\" onclick=\"convertToInteractive('df-b2ef4e11-9acb-4ee9-9091-9801303c2a7f')\"\n",
              "              title=\"Convert this dataframe to an interactive table.\"\n",
              "              style=\"display:none;\">\n",
              "        \n",
              "  <svg xmlns=\"http://www.w3.org/2000/svg\" height=\"24px\"viewBox=\"0 0 24 24\"\n",
              "       width=\"24px\">\n",
              "    <path d=\"M0 0h24v24H0V0z\" fill=\"none\"/>\n",
              "    <path d=\"M18.56 5.44l.94 2.06.94-2.06 2.06-.94-2.06-.94-.94-2.06-.94 2.06-2.06.94zm-11 1L8.5 8.5l.94-2.06 2.06-.94-2.06-.94L8.5 2.5l-.94 2.06-2.06.94zm10 10l.94 2.06.94-2.06 2.06-.94-2.06-.94-.94-2.06-.94 2.06-2.06.94z\"/><path d=\"M17.41 7.96l-1.37-1.37c-.4-.4-.92-.59-1.43-.59-.52 0-1.04.2-1.43.59L10.3 9.45l-7.72 7.72c-.78.78-.78 2.05 0 2.83L4 21.41c.39.39.9.59 1.41.59.51 0 1.02-.2 1.41-.59l7.78-7.78 2.81-2.81c.8-.78.8-2.07 0-2.86zM5.41 20L4 18.59l7.72-7.72 1.47 1.35L5.41 20z\"/>\n",
              "  </svg>\n",
              "      </button>\n",
              "      \n",
              "  <style>\n",
              "    .colab-df-container {\n",
              "      display:flex;\n",
              "      flex-wrap:wrap;\n",
              "      gap: 12px;\n",
              "    }\n",
              "\n",
              "    .colab-df-convert {\n",
              "      background-color: #E8F0FE;\n",
              "      border: none;\n",
              "      border-radius: 50%;\n",
              "      cursor: pointer;\n",
              "      display: none;\n",
              "      fill: #1967D2;\n",
              "      height: 32px;\n",
              "      padding: 0 0 0 0;\n",
              "      width: 32px;\n",
              "    }\n",
              "\n",
              "    .colab-df-convert:hover {\n",
              "      background-color: #E2EBFA;\n",
              "      box-shadow: 0px 1px 2px rgba(60, 64, 67, 0.3), 0px 1px 3px 1px rgba(60, 64, 67, 0.15);\n",
              "      fill: #174EA6;\n",
              "    }\n",
              "\n",
              "    [theme=dark] .colab-df-convert {\n",
              "      background-color: #3B4455;\n",
              "      fill: #D2E3FC;\n",
              "    }\n",
              "\n",
              "    [theme=dark] .colab-df-convert:hover {\n",
              "      background-color: #434B5C;\n",
              "      box-shadow: 0px 1px 3px 1px rgba(0, 0, 0, 0.15);\n",
              "      filter: drop-shadow(0px 1px 2px rgba(0, 0, 0, 0.3));\n",
              "      fill: #FFFFFF;\n",
              "    }\n",
              "  </style>\n",
              "\n",
              "      <script>\n",
              "        const buttonEl =\n",
              "          document.querySelector('#df-b2ef4e11-9acb-4ee9-9091-9801303c2a7f button.colab-df-convert');\n",
              "        buttonEl.style.display =\n",
              "          google.colab.kernel.accessAllowed ? 'block' : 'none';\n",
              "\n",
              "        async function convertToInteractive(key) {\n",
              "          const element = document.querySelector('#df-b2ef4e11-9acb-4ee9-9091-9801303c2a7f');\n",
              "          const dataTable =\n",
              "            await google.colab.kernel.invokeFunction('convertToInteractive',\n",
              "                                                     [key], {});\n",
              "          if (!dataTable) return;\n",
              "\n",
              "          const docLinkHtml = 'Like what you see? Visit the ' +\n",
              "            '<a target=\"_blank\" href=https://colab.research.google.com/notebooks/data_table.ipynb>data table notebook</a>'\n",
              "            + ' to learn more about interactive tables.';\n",
              "          element.innerHTML = '';\n",
              "          dataTable['output_type'] = 'display_data';\n",
              "          await google.colab.output.renderOutput(dataTable, element);\n",
              "          const docLink = document.createElement('div');\n",
              "          docLink.innerHTML = docLinkHtml;\n",
              "          element.appendChild(docLink);\n",
              "        }\n",
              "      </script>\n",
              "    </div>\n",
              "  </div>\n",
              "  "
            ],
            "text/plain": [
              "           처분일자          업종명  ... 업종명_encoding 업태명_encoding\n",
              "0    2004-09-14        일반음식점  ...            0            0\n",
              "1    2005-09-23        일반음식점  ...            0            1\n",
              "2    2007-08-20        일반음식점  ...            0            1\n",
              "3    2007-10-18        일반음식점  ...            0            1\n",
              "4    2005-10-24        일반음식점  ...            0            1\n",
              "...         ...          ...  ...          ...          ...\n",
              "5630 2011-07-15   집단급식소식품판매업  ...           15           53\n",
              "5631 2010-11-08  건강기능식품일반판매업  ...           16           55\n",
              "5632 2014-04-25  건강기능식품일반판매업  ...           16           54\n",
              "5633 2014-03-24  건강기능식품일반판매업  ...           16           54\n",
              "5634 2020-06-25  건강기능식품일반판매업  ...           16           55\n",
              "\n",
              "[5502 rows x 11 columns]"
            ]
          },
          "metadata": {},
          "execution_count": 71
        }
      ]
    },
    {
      "cell_type": "markdown",
      "source": [
        "##3. Data Analysis1\n",
        "\n",
        "\n",
        "---\n",
        "\n",
        "전체적인 데이터 분석\n",
        "\n",
        "\n",
        "*   `Time Line` 분석<br/>\n",
        "*   `업종`별 분석<br/>\n",
        "*   `위반내용`별 분석<br/>\n",
        "*   `처분`별 분석<br/><br/>\n",
        "\n",
        "\n"
      ],
      "metadata": {
        "id": "bHaxo65Lx_8o"
      }
    },
    {
      "cell_type": "markdown",
      "source": [
        "Time line graph 그렸을 때, 어떠한 `Trend` 혹은 `Seasonalit`는 드러나지 않음을 확인할 수 있음."
      ],
      "metadata": {
        "id": "hOEvY_G-9Pom"
      }
    },
    {
      "cell_type": "code",
      "source": [
        "#날자별 line graph \n",
        "df_dates = df['처분일자'].value_counts()\n",
        "dates = df_dates.to_frame(name='위반횟수')\n",
        "dates.index.name = '처분일자'\n",
        "dates.sort_values(by=['처분일자'])\n",
        "dates = dates.resample('M').sum()\n",
        "dates = dates[dates.위반횟수 != 0]\n",
        "\n",
        "plt.figure(figsize=(20, 5))\n",
        "plt.plot(dates.index, dates.위반횟수)"
      ],
      "metadata": {
        "colab": {
          "base_uri": "https://localhost:8080/",
          "height": 338
        },
        "id": "tsX26hb4iVom",
        "outputId": "660a977c-8396-4edf-d872-72baf63530d9"
      },
      "execution_count": 55,
      "outputs": [
        {
          "output_type": "execute_result",
          "data": {
            "text/plain": [
              "[<matplotlib.lines.Line2D at 0x7f367fa95510>]"
            ]
          },
          "metadata": {},
          "execution_count": 55
        },
        {
          "output_type": "display_data",
          "data": {
            "image/png": "[encoded data removed]",
            "text/plain": [
              "<Figure size 1440x360 with 1 Axes>"
            ]
          },
          "metadata": {
            "needs_background": "light"
          }
        }
      ]
    },
    {
      "cell_type": "markdown",
      "source": [
        "업종별 pie chart를 그려보았을 때, `일반음식점`의 비율이 압도적으로 많음을 알 수 있음.<br/>\n",
        "효과적인 분석을 위해서, 일반음식점과 다른 업종을 구분하여 분석.\n",
        "\n"
      ],
      "metadata": {
        "id": "vxGYTd539pCx"
      }
    },
    {
      "cell_type": "code",
      "source": [
        "#업종별 pie chart\n",
        "df_count = df.groupby(by=['업종명'], as_index=False).count()\n",
        "frequency = df_count['Year'];\n",
        "label = df_count['업종명'];\n",
        "\n",
        "plt.title('업종별 위반 횟수', size=20)\n",
        "plt.rcParams[\"figure.figsize\"] = (10,10)\n",
        "lst = np.zeros(len(df_count))\n",
        "lst[12] = 0.2\n",
        "plt.pie(frequency, labels=label, autopct='%.1f%%', explode=lst)\n",
        "plt.show()"
      ],
      "metadata": {
        "colab": {
          "base_uri": "https://localhost:8080/",
          "height": 597
        },
        "id": "gQue-HDfkoaT",
        "outputId": "6ec8db6a-890e-4147-ed10-c4b75100b672"
      },
      "execution_count": 125,
      "outputs": [
        {
          "output_type": "display_data",
          "data": {
            "image/png": "[encoded data removed]",
            "text/plain": [
              "<Figure size 720x720 with 1 Axes>"
            ]
          },
          "metadata": {}
        }
      ]
    },
    {
      "cell_type": "markdown",
      "source": [
        "위반 내용별 bar chart를 그려 보았을 때,`건강진단미필`이 제일 많으며, `광고`가 제일 적음을 알 수 있다.<br/>\n",
        "기타가 2번째를 차지함을 보아, 이에 포함되지 않는 위반 내용이 상당히 많다는 것을 알 수있다."
      ],
      "metadata": {
        "id": "qc7LzK3r9-d6"
      }
    },
    {
      "cell_type": "code",
      "source": [
        "#위반내용별 위반횟수\n",
        "plt.rcParams[\"figure.figsize\"] = (25, 5)\n",
        "\n",
        "plt.title('위반내용별 위반 횟수', size=20)\n",
        "fig = sns.countplot(x ='위반내용수정', data = df, order = df['위반내용수정'].value_counts().index)"
      ],
      "metadata": {
        "colab": {
          "base_uri": "https://localhost:8080/",
          "height": 356
        },
        "id": "4IzzpzbKhLhO",
        "outputId": "72407c9d-6ded-44c6-cb8c-0c2c452ec0b2"
      },
      "execution_count": 46,
      "outputs": [
        {
          "output_type": "display_data",
          "data": {
            "image/png": "[encoded data removed]",
            "text/plain": [
              "<Figure size 1800x360 with 1 Axes>"
            ]
          },
          "metadata": {
            "needs_background": "light"
          }
        }
      ]
    },
    {
      "cell_type": "markdown",
      "source": [
        "처분별 bar chart를 그려 보았을 때, `과태료`가 가장 많고, `과징금`이 제일 적은 것을 알 수 있다."
      ],
      "metadata": {
        "id": "IEW-DB1D-SbN"
      }
    },
    {
      "cell_type": "code",
      "source": [
        "#위반내용별 위반횟수\n",
        "plt.rcParams[\"figure.figsize\"] = (25, 5)\n",
        "\n",
        "plt.title('처분별 위반 횟수', size=20)\n",
        "fig = sns.countplot(x ='처분명수정', data = df, order = df['처분명수정'].value_counts().index)"
      ],
      "metadata": {
        "colab": {
          "base_uri": "https://localhost:8080/",
          "height": 356
        },
        "id": "1g28ldGph8ME",
        "outputId": "908eafe8-e793-46b5-edb9-dbcdefafe08b"
      },
      "execution_count": 53,
      "outputs": [
        {
          "output_type": "display_data",
          "data": {
            "image/png": "[encoded data removed]",
            "text/plain": [
              "<Figure size 1800x360 with 1 Axes>"
            ]
          },
          "metadata": {
            "needs_background": "light"
          }
        }
      ]
    },
    {
      "cell_type": "markdown",
      "source": [
        "##4. Data Analysis2\n",
        "\n",
        "---\n",
        "전체분석 결과에 따라, 일반음식점과 일반음식점을 제외한 업종을 따로 분석<br/><br/>\n",
        "\n",
        "\n",
        "*   일반음식점 제외 - 간단하게\n",
        "*   일반음식점      - 자세히<br/><br/> \n",
        "\n"
      ],
      "metadata": {
        "id": "e6IA9LMU1MHL"
      }
    },
    {
      "cell_type": "markdown",
      "metadata": {
        "id": "HpEduAHHbDw4"
      },
      "source": [
        "###4-1. 일반음식점 제외\n",
        "\n",
        "---\n",
        "\n",
        "\n",
        "*   Data Preprocessing -> `일반음식점`을 제외한 업종 불러옴\n",
        "*   `업종별`분석\n",
        "<br/><br/>\n",
        "\n"
      ]
    },
    {
      "cell_type": "code",
      "metadata": {
        "colab": {
          "base_uri": "https://localhost:8080/",
          "height": 206
        },
        "id": "diQvswUnlmWb",
        "outputId": "2e258278-4970-482e-beed-1431fcb65191"
      },
      "source": [
        "#일반음식점을 제외한 데이터 받아옴\n",
        "dfDropRegular = df[df.업종명 !='일반음식점']\n",
        "dfDropRegular.head()"
      ],
      "execution_count": 107,
      "outputs": [
        {
          "output_type": "execute_result",
          "data": {
            "text/html": [
              "\n",
              "  <div id=\"df-5162226f-ee7a-46af-bcd3-8153d00c7534\">\n",
              "    <div class=\"colab-df-container\">\n",
              "      <div>\n",
              "<style scoped>\n",
              "    .dataframe tbody tr th:only-of-type {\n",
              "        vertical-align: middle;\n",
              "    }\n",
              "\n",
              "    .dataframe tbody tr th {\n",
              "        vertical-align: top;\n",
              "    }\n",
              "\n",
              "    .dataframe thead th {\n",
              "        text-align: right;\n",
              "    }\n",
              "</style>\n",
              "<table border=\"1\" class=\"dataframe\">\n",
              "  <thead>\n",
              "    <tr style=\"text-align: right;\">\n",
              "      <th></th>\n",
              "      <th>처분일자</th>\n",
              "      <th>업종명</th>\n",
              "      <th>업태명</th>\n",
              "      <th>업소명</th>\n",
              "      <th>Year</th>\n",
              "      <th>위반내용수정</th>\n",
              "      <th>처분명수정</th>\n",
              "      <th>위반내용_encoding</th>\n",
              "      <th>처분명_encoding</th>\n",
              "      <th>업종명_encoding</th>\n",
              "      <th>업태명_encoding</th>\n",
              "    </tr>\n",
              "  </thead>\n",
              "  <tbody>\n",
              "    <tr>\n",
              "      <th>2185</th>\n",
              "      <td>2002-05-01</td>\n",
              "      <td>유흥주점영업</td>\n",
              "      <td>간이주점</td>\n",
              "      <td>보스</td>\n",
              "      <td>2002</td>\n",
              "      <td>기타</td>\n",
              "      <td>시정명령</td>\n",
              "      <td>6</td>\n",
              "      <td>1</td>\n",
              "      <td>1</td>\n",
              "      <td>21</td>\n",
              "    </tr>\n",
              "    <tr>\n",
              "      <th>2186</th>\n",
              "      <td>2010-03-02</td>\n",
              "      <td>유흥주점영업</td>\n",
              "      <td>간이주점</td>\n",
              "      <td>포차 멜로디 노래타운</td>\n",
              "      <td>2010</td>\n",
              "      <td>위생교육 미이수</td>\n",
              "      <td>과태료</td>\n",
              "      <td>10</td>\n",
              "      <td>3</td>\n",
              "      <td>1</td>\n",
              "      <td>21</td>\n",
              "    </tr>\n",
              "    <tr>\n",
              "      <th>2187</th>\n",
              "      <td>2004-06-23</td>\n",
              "      <td>유흥주점영업</td>\n",
              "      <td>룸살롱</td>\n",
              "      <td>무랑루즈비즈니스</td>\n",
              "      <td>2004</td>\n",
              "      <td>기타</td>\n",
              "      <td>시정명령</td>\n",
              "      <td>6</td>\n",
              "      <td>1</td>\n",
              "      <td>1</td>\n",
              "      <td>22</td>\n",
              "    </tr>\n",
              "    <tr>\n",
              "      <th>2188</th>\n",
              "      <td>2018-01-08</td>\n",
              "      <td>유흥주점영업</td>\n",
              "      <td>룸살롱</td>\n",
              "      <td>마이웨이</td>\n",
              "      <td>2018</td>\n",
              "      <td>이물혼입</td>\n",
              "      <td>시정명령</td>\n",
              "      <td>2</td>\n",
              "      <td>1</td>\n",
              "      <td>1</td>\n",
              "      <td>22</td>\n",
              "    </tr>\n",
              "    <tr>\n",
              "      <th>2189</th>\n",
              "      <td>2002-02-01</td>\n",
              "      <td>유흥주점영업</td>\n",
              "      <td>룸살롱</td>\n",
              "      <td>24시유흥주점</td>\n",
              "      <td>2002</td>\n",
              "      <td>유통기한</td>\n",
              "      <td>영업정지</td>\n",
              "      <td>3</td>\n",
              "      <td>0</td>\n",
              "      <td>1</td>\n",
              "      <td>22</td>\n",
              "    </tr>\n",
              "  </tbody>\n",
              "</table>\n",
              "</div>\n",
              "      <button class=\"colab-df-convert\" onclick=\"convertToInteractive('df-5162226f-ee7a-46af-bcd3-8153d00c7534')\"\n",
              "              title=\"Convert this dataframe to an interactive table.\"\n",
              "              style=\"display:none;\">\n",
              "        \n",
              "  <svg xmlns=\"http://www.w3.org/2000/svg\" height=\"24px\"viewBox=\"0 0 24 24\"\n",
              "       width=\"24px\">\n",
              "    <path d=\"M0 0h24v24H0V0z\" fill=\"none\"/>\n",
              "    <path d=\"M18.56 5.44l.94 2.06.94-2.06 2.06-.94-2.06-.94-.94-2.06-.94 2.06-2.06.94zm-11 1L8.5 8.5l.94-2.06 2.06-.94-2.06-.94L8.5 2.5l-.94 2.06-2.06.94zm10 10l.94 2.06.94-2.06 2.06-.94-2.06-.94-.94-2.06-.94 2.06-2.06.94z\"/><path d=\"M17.41 7.96l-1.37-1.37c-.4-.4-.92-.59-1.43-.59-.52 0-1.04.2-1.43.59L10.3 9.45l-7.72 7.72c-.78.78-.78 2.05 0 2.83L4 21.41c.39.39.9.59 1.41.59.51 0 1.02-.2 1.41-.59l7.78-7.78 2.81-2.81c.8-.78.8-2.07 0-2.86zM5.41 20L4 18.59l7.72-7.72 1.47 1.35L5.41 20z\"/>\n",
              "  </svg>\n",
              "      </button>\n",
              "      \n",
              "  <style>\n",
              "    .colab-df-container {\n",
              "      display:flex;\n",
              "      flex-wrap:wrap;\n",
              "      gap: 12px;\n",
              "    }\n",
              "\n",
              "    .colab-df-convert {\n",
              "      background-color: #E8F0FE;\n",
              "      border: none;\n",
              "      border-radius: 50%;\n",
              "      cursor: pointer;\n",
              "      display: none;\n",
              "      fill: #1967D2;\n",
              "      height: 32px;\n",
              "      padding: 0 0 0 0;\n",
              "      width: 32px;\n",
              "    }\n",
              "\n",
              "    .colab-df-convert:hover {\n",
              "      background-color: #E2EBFA;\n",
              "      box-shadow: 0px 1px 2px rgba(60, 64, 67, 0.3), 0px 1px 3px 1px rgba(60, 64, 67, 0.15);\n",
              "      fill: #174EA6;\n",
              "    }\n",
              "\n",
              "    [theme=dark] .colab-df-convert {\n",
              "      background-color: #3B4455;\n",
              "      fill: #D2E3FC;\n",
              "    }\n",
              "\n",
              "    [theme=dark] .colab-df-convert:hover {\n",
              "      background-color: #434B5C;\n",
              "      box-shadow: 0px 1px 3px 1px rgba(0, 0, 0, 0.15);\n",
              "      filter: drop-shadow(0px 1px 2px rgba(0, 0, 0, 0.3));\n",
              "      fill: #FFFFFF;\n",
              "    }\n",
              "  </style>\n",
              "\n",
              "      <script>\n",
              "        const buttonEl =\n",
              "          document.querySelector('#df-5162226f-ee7a-46af-bcd3-8153d00c7534 button.colab-df-convert');\n",
              "        buttonEl.style.display =\n",
              "          google.colab.kernel.accessAllowed ? 'block' : 'none';\n",
              "\n",
              "        async function convertToInteractive(key) {\n",
              "          const element = document.querySelector('#df-5162226f-ee7a-46af-bcd3-8153d00c7534');\n",
              "          const dataTable =\n",
              "            await google.colab.kernel.invokeFunction('convertToInteractive',\n",
              "                                                     [key], {});\n",
              "          if (!dataTable) return;\n",
              "\n",
              "          const docLinkHtml = 'Like what you see? Visit the ' +\n",
              "            '<a target=\"_blank\" href=https://colab.research.google.com/notebooks/data_table.ipynb>data table notebook</a>'\n",
              "            + ' to learn more about interactive tables.';\n",
              "          element.innerHTML = '';\n",
              "          dataTable['output_type'] = 'display_data';\n",
              "          await google.colab.output.renderOutput(dataTable, element);\n",
              "          const docLink = document.createElement('div');\n",
              "          docLink.innerHTML = docLinkHtml;\n",
              "          element.appendChild(docLink);\n",
              "        }\n",
              "      </script>\n",
              "    </div>\n",
              "  </div>\n",
              "  "
            ],
            "text/plain": [
              "           처분일자     업종명   업태명  ... 처분명_encoding  업종명_encoding 업태명_encoding\n",
              "2185 2002-05-01  유흥주점영업  간이주점  ...            1             1           21\n",
              "2186 2010-03-02  유흥주점영업  간이주점  ...            3             1           21\n",
              "2187 2004-06-23  유흥주점영업   룸살롱  ...            1             1           22\n",
              "2188 2018-01-08  유흥주점영업   룸살롱  ...            1             1           22\n",
              "2189 2002-02-01  유흥주점영업   룸살롱  ...            0             1           22\n",
              "\n",
              "[5 rows x 11 columns]"
            ]
          },
          "metadata": {},
          "execution_count": 107
        }
      ]
    },
    {
      "cell_type": "code",
      "source": [
        "#업종별 pie chart\n",
        "dfDropRegular_count = dfDropRegular.groupby(by=['업종명'], as_index=False).count()\n",
        "frequency = dfDropRegular_count['Year'];\n",
        "label = dfDropRegular_count['업종명'];\n",
        "\n",
        "plt.title('업종별 위반 횟수', size=20)\n",
        "plt.rcParams[\"figure.figsize\"] = (10,10)\n",
        "lst = np.zeros(len(dfDropRegular_count))\n",
        "plt.pie(frequency, labels=label, autopct='%.1f%%', explode=lst)\n",
        "plt.show()"
      ],
      "metadata": {
        "colab": {
          "base_uri": "https://localhost:8080/",
          "height": 597
        },
        "id": "yoW34n2sB1cs",
        "outputId": "08984638-1aa6-474f-a600-52c7e42336fb"
      },
      "execution_count": 126,
      "outputs": [
        {
          "output_type": "display_data",
          "data": {
            "image/png": "[encoded data removed]",
            "text/plain": [
              "<Figure size 720x720 with 1 Axes>"
            ]
          },
          "metadata": {}
        }
      ]
    },
    {
      "cell_type": "code",
      "source": [
        "plt.rcParams[\"figure.figsize\"] = (25, 5)\n",
        "fig = sns.countplot(x ='위반내용수정', data = dfDropRegular, order = dfDropRegular['위반내용수정'].value_counts().index)"
      ],
      "metadata": {
        "colab": {
          "base_uri": "https://localhost:8080/",
          "height": 333
        },
        "id": "0FEjykcA_USj",
        "outputId": "0c617574-e23f-4d20-85f9-6c9354b51daf"
      },
      "execution_count": 108,
      "outputs": [
        {
          "output_type": "display_data",
          "data": {
            "image/png": "[encoded data removed]",
            "text/plain": [
              "<Figure size 1800x360 with 1 Axes>"
            ]
          },
          "metadata": {
            "needs_background": "light"
          }
        }
      ]
    },
    {
      "cell_type": "code",
      "source": [
        "plt.rcParams[\"figure.figsize\"] = (25, 5)\n",
        "fig = sns.countplot(x ='처분명수정', data = dfDropRegular, order = dfDropRegular['처분명수정'].value_counts().index)"
      ],
      "metadata": {
        "colab": {
          "base_uri": "https://localhost:8080/",
          "height": 333
        },
        "id": "CdQH7RvZ_igN",
        "outputId": "44d55d1d-e266-4775-f11f-4a675de4bc3c"
      },
      "execution_count": 110,
      "outputs": [
        {
          "output_type": "display_data",
          "data": {
            "image/png": "[encoded data removed]",
            "text/plain": [
              "<Figure size 1800x360 with 1 Axes>"
            ]
          },
          "metadata": {
            "needs_background": "light"
          }
        }
      ]
    },
    {
      "cell_type": "markdown",
      "metadata": {
        "id": "69UEkJe4bjlD"
      },
      "source": [
        "###4-2. 일반음식점\n",
        "\n",
        "---\n",
        "*   Data Preprocessing -> `일반음식점`만 불러옴\n",
        "*   ploty를 사용한 Dash Board 생성<br/><br/>"
      ]
    },
    {
      "cell_type": "code",
      "metadata": {
        "colab": {
          "base_uri": "https://localhost:8080/",
          "height": 206
        },
        "id": "PHCgqow_xq30",
        "outputId": "3541c2eb-32d5-4386-b61c-f705f39b3c12"
      },
      "source": [
        "#일반음식점만 가져옴\n",
        "dfRegular = df[df.업종명 =='일반음식점']\n",
        "dfRegular.head()"
      ],
      "execution_count": 111,
      "outputs": [
        {
          "output_type": "execute_result",
          "data": {
            "text/html": [
              "\n",
              "  <div id=\"df-92d8e3fe-45d3-46fd-bd9a-1cca76a3edf4\">\n",
              "    <div class=\"colab-df-container\">\n",
              "      <div>\n",
              "<style scoped>\n",
              "    .dataframe tbody tr th:only-of-type {\n",
              "        vertical-align: middle;\n",
              "    }\n",
              "\n",
              "    .dataframe tbody tr th {\n",
              "        vertical-align: top;\n",
              "    }\n",
              "\n",
              "    .dataframe thead th {\n",
              "        text-align: right;\n",
              "    }\n",
              "</style>\n",
              "<table border=\"1\" class=\"dataframe\">\n",
              "  <thead>\n",
              "    <tr style=\"text-align: right;\">\n",
              "      <th></th>\n",
              "      <th>처분일자</th>\n",
              "      <th>업종명</th>\n",
              "      <th>업태명</th>\n",
              "      <th>업소명</th>\n",
              "      <th>Year</th>\n",
              "      <th>위반내용수정</th>\n",
              "      <th>처분명수정</th>\n",
              "      <th>위반내용_encoding</th>\n",
              "      <th>처분명_encoding</th>\n",
              "      <th>업종명_encoding</th>\n",
              "      <th>업태명_encoding</th>\n",
              "    </tr>\n",
              "  </thead>\n",
              "  <tbody>\n",
              "    <tr>\n",
              "      <th>0</th>\n",
              "      <td>2004-09-14</td>\n",
              "      <td>일반음식점</td>\n",
              "      <td>호프/통닭</td>\n",
              "      <td>원샷</td>\n",
              "      <td>2004</td>\n",
              "      <td>청소년 주류 제공</td>\n",
              "      <td>영업정지</td>\n",
              "      <td>0</td>\n",
              "      <td>0</td>\n",
              "      <td>0</td>\n",
              "      <td>0</td>\n",
              "    </tr>\n",
              "    <tr>\n",
              "      <th>1</th>\n",
              "      <td>2005-09-23</td>\n",
              "      <td>일반음식점</td>\n",
              "      <td>분식</td>\n",
              "      <td>동호</td>\n",
              "      <td>2005</td>\n",
              "      <td>영업장관련</td>\n",
              "      <td>영업정지</td>\n",
              "      <td>1</td>\n",
              "      <td>0</td>\n",
              "      <td>0</td>\n",
              "      <td>1</td>\n",
              "    </tr>\n",
              "    <tr>\n",
              "      <th>2</th>\n",
              "      <td>2007-08-20</td>\n",
              "      <td>일반음식점</td>\n",
              "      <td>분식</td>\n",
              "      <td>동호</td>\n",
              "      <td>2007</td>\n",
              "      <td>영업장관련</td>\n",
              "      <td>시정명령</td>\n",
              "      <td>1</td>\n",
              "      <td>1</td>\n",
              "      <td>0</td>\n",
              "      <td>1</td>\n",
              "    </tr>\n",
              "    <tr>\n",
              "      <th>3</th>\n",
              "      <td>2007-10-18</td>\n",
              "      <td>일반음식점</td>\n",
              "      <td>분식</td>\n",
              "      <td>동호</td>\n",
              "      <td>2007</td>\n",
              "      <td>영업장관련</td>\n",
              "      <td>과징금</td>\n",
              "      <td>1</td>\n",
              "      <td>2</td>\n",
              "      <td>0</td>\n",
              "      <td>1</td>\n",
              "    </tr>\n",
              "    <tr>\n",
              "      <th>4</th>\n",
              "      <td>2005-10-24</td>\n",
              "      <td>일반음식점</td>\n",
              "      <td>분식</td>\n",
              "      <td>천궁</td>\n",
              "      <td>2005</td>\n",
              "      <td>이물혼입</td>\n",
              "      <td>시정명령</td>\n",
              "      <td>2</td>\n",
              "      <td>1</td>\n",
              "      <td>0</td>\n",
              "      <td>1</td>\n",
              "    </tr>\n",
              "  </tbody>\n",
              "</table>\n",
              "</div>\n",
              "      <button class=\"colab-df-convert\" onclick=\"convertToInteractive('df-92d8e3fe-45d3-46fd-bd9a-1cca76a3edf4')\"\n",
              "              title=\"Convert this dataframe to an interactive table.\"\n",
              "              style=\"display:none;\">\n",
              "        \n",
              "  <svg xmlns=\"http://www.w3.org/2000/svg\" height=\"24px\"viewBox=\"0 0 24 24\"\n",
              "       width=\"24px\">\n",
              "    <path d=\"M0 0h24v24H0V0z\" fill=\"none\"/>\n",
              "    <path d=\"M18.56 5.44l.94 2.06.94-2.06 2.06-.94-2.06-.94-.94-2.06-.94 2.06-2.06.94zm-11 1L8.5 8.5l.94-2.06 2.06-.94-2.06-.94L8.5 2.5l-.94 2.06-2.06.94zm10 10l.94 2.06.94-2.06 2.06-.94-2.06-.94-.94-2.06-.94 2.06-2.06.94z\"/><path d=\"M17.41 7.96l-1.37-1.37c-.4-.4-.92-.59-1.43-.59-.52 0-1.04.2-1.43.59L10.3 9.45l-7.72 7.72c-.78.78-.78 2.05 0 2.83L4 21.41c.39.39.9.59 1.41.59.51 0 1.02-.2 1.41-.59l7.78-7.78 2.81-2.81c.8-.78.8-2.07 0-2.86zM5.41 20L4 18.59l7.72-7.72 1.47 1.35L5.41 20z\"/>\n",
              "  </svg>\n",
              "      </button>\n",
              "      \n",
              "  <style>\n",
              "    .colab-df-container {\n",
              "      display:flex;\n",
              "      flex-wrap:wrap;\n",
              "      gap: 12px;\n",
              "    }\n",
              "\n",
              "    .colab-df-convert {\n",
              "      background-color: #E8F0FE;\n",
              "      border: none;\n",
              "      border-radius: 50%;\n",
              "      cursor: pointer;\n",
              "      display: none;\n",
              "      fill: #1967D2;\n",
              "      height: 32px;\n",
              "      padding: 0 0 0 0;\n",
              "      width: 32px;\n",
              "    }\n",
              "\n",
              "    .colab-df-convert:hover {\n",
              "      background-color: #E2EBFA;\n",
              "      box-shadow: 0px 1px 2px rgba(60, 64, 67, 0.3), 0px 1px 3px 1px rgba(60, 64, 67, 0.15);\n",
              "      fill: #174EA6;\n",
              "    }\n",
              "\n",
              "    [theme=dark] .colab-df-convert {\n",
              "      background-color: #3B4455;\n",
              "      fill: #D2E3FC;\n",
              "    }\n",
              "\n",
              "    [theme=dark] .colab-df-convert:hover {\n",
              "      background-color: #434B5C;\n",
              "      box-shadow: 0px 1px 3px 1px rgba(0, 0, 0, 0.15);\n",
              "      filter: drop-shadow(0px 1px 2px rgba(0, 0, 0, 0.3));\n",
              "      fill: #FFFFFF;\n",
              "    }\n",
              "  </style>\n",
              "\n",
              "      <script>\n",
              "        const buttonEl =\n",
              "          document.querySelector('#df-92d8e3fe-45d3-46fd-bd9a-1cca76a3edf4 button.colab-df-convert');\n",
              "        buttonEl.style.display =\n",
              "          google.colab.kernel.accessAllowed ? 'block' : 'none';\n",
              "\n",
              "        async function convertToInteractive(key) {\n",
              "          const element = document.querySelector('#df-92d8e3fe-45d3-46fd-bd9a-1cca76a3edf4');\n",
              "          const dataTable =\n",
              "            await google.colab.kernel.invokeFunction('convertToInteractive',\n",
              "                                                     [key], {});\n",
              "          if (!dataTable) return;\n",
              "\n",
              "          const docLinkHtml = 'Like what you see? Visit the ' +\n",
              "            '<a target=\"_blank\" href=https://colab.research.google.com/notebooks/data_table.ipynb>data table notebook</a>'\n",
              "            + ' to learn more about interactive tables.';\n",
              "          element.innerHTML = '';\n",
              "          dataTable['output_type'] = 'display_data';\n",
              "          await google.colab.output.renderOutput(dataTable, element);\n",
              "          const docLink = document.createElement('div');\n",
              "          docLink.innerHTML = docLinkHtml;\n",
              "          element.appendChild(docLink);\n",
              "        }\n",
              "      </script>\n",
              "    </div>\n",
              "  </div>\n",
              "  "
            ],
            "text/plain": [
              "        처분일자    업종명    업태명  ... 처분명_encoding  업종명_encoding 업태명_encoding\n",
              "0 2004-09-14  일반음식점  호프/통닭  ...            0             0            0\n",
              "1 2005-09-23  일반음식점     분식  ...            0             0            1\n",
              "2 2007-08-20  일반음식점     분식  ...            1             0            1\n",
              "3 2007-10-18  일반음식점     분식  ...            2             0            1\n",
              "4 2005-10-24  일반음식점     분식  ...            1             0            1\n",
              "\n",
              "[5 rows x 11 columns]"
            ]
          },
          "metadata": {},
          "execution_count": 111
        }
      ]
    },
    {
      "cell_type": "code",
      "metadata": {
        "colab": {
          "base_uri": "https://localhost:8080/",
          "height": 333
        },
        "id": "tSWWF3kRIiAP",
        "outputId": "5f7b72f9-e155-4ee2-8385-c55832195214"
      },
      "source": [
        "plt.rcParams[\"figure.figsize\"] = (25, 5)\n",
        "fig = sns.countplot(x ='위반내용수정', data = dfRegular, order = dfRegular['위반내용수정'].value_counts().index)"
      ],
      "execution_count": 112,
      "outputs": [
        {
          "output_type": "display_data",
          "data": {
            "image/png": "[encoded data removed]",
            "text/plain": [
              "<Figure size 1800x360 with 1 Axes>"
            ]
          },
          "metadata": {
            "needs_background": "light"
          }
        }
      ]
    },
    {
      "cell_type": "code",
      "metadata": {
        "id": "GrMIsFCvd0DI",
        "colab": {
          "base_uri": "https://localhost:8080/",
          "height": 333
        },
        "outputId": "40f7424b-59b6-462e-bc86-6d71dde75742"
      },
      "source": [
        "plt.rcParams[\"figure.figsize\"] = (25, 5)\n",
        "fig = sns.countplot(x ='처분명수정', data = dfRegular, order = dfRegular['처분명수정'].value_counts().index)"
      ],
      "execution_count": 113,
      "outputs": [
        {
          "output_type": "display_data",
          "data": {
            "image/png": "[encoded data removed]",
            "text/plain": [
              "<Figure size 1800x360 with 1 Axes>"
            ]
          },
          "metadata": {
            "needs_background": "light"
          }
        }
      ]
    },
    {
      "cell_type": "markdown",
      "source": [
        "Ploty와 dash이용해 반응형 시각화"
      ],
      "metadata": {
        "id": "6kLLhx1Sjt-U"
      }
    },
    {
      "cell_type": "code",
      "source": [
        "#plotly와 dash\n",
        "\n",
        "import dash\n",
        "from dash import dcc\n",
        "from dash import html\n",
        "from dash.dependencies import Input, Output\n",
        "from jupyter_dash import JupyterDash\n",
        "\n",
        "import plotly.express as px\n",
        "import plotly.graph_objects as go\n",
        "from plotly.subplots import make_subplots"
      ],
      "metadata": {
        "id": "LjF-MM_gD7sO"
      },
      "execution_count": 16,
      "outputs": []
    },
    {
      "cell_type": "code",
      "source": [
        "#line test\n",
        "\n",
        "data_dates = dfRegular['처분일자'].value_counts()\n",
        "dates = data_dates.to_frame(name='위반횟수')\n",
        "dates.index.name = '처분일자'\n",
        "dates = dates.resample('M').sum()\n",
        "\n",
        "fig = go.Figure(data=[go.Scatter(x=dates.index, y=dates['위반횟수'])])\n",
        "\n",
        "#fig = px.line(x=dates.index, y=dates['위반횟수'])\n",
        "#fig = px.line(x=dates.index, y=dates.위반횟수)\n",
        "\n",
        "fig.show()"
      ],
      "metadata": {
        "id": "fb5LJvg_XEtM",
        "colab": {
          "base_uri": "https://localhost:8080/",
          "height": 542
        },
        "outputId": "6397e029-ca26-496a-a855-8f89257922d5"
      },
      "execution_count": 17,
      "outputs": [
        {
          "output_type": "display_data",
          "data": {
            "text/html": [
              "<html>\n",
              "<head><meta charset=\"utf-8\" /></head>\n",
              "<body>\n",
              "    <div>            <script src=\"https://cdnjs.cloudflare.com/ajax/libs/mathjax/2.7.5/MathJax.js?config=TeX-AMS-MML_SVG\"></script><script type=\"text/javascript\">if (window.MathJax) {MathJax.Hub.Config({SVG: {font: \"STIX-Web\"}});}</script>                <script type=\"text/javascript\">window.PlotlyConfig = {MathJaxConfig: 'local'};</script>\n",
              "        <script src=\"https://cdn.plot.ly/plotly-2.6.3.min.js\"></script>                <div id=\"f0cae03a-2250-4db1-8d4e-f7d87ecc2e8c\" class=\"plotly-graph-div\" style=\"height:525px; width:100%;\"></div>            <script type=\"text/javascript\">                                    window.PLOTLYENV=window.PLOTLYENV || {};                                    if (document.getElementById(\"f0cae03a-2250-4db1-8d4e-f7d87ecc2e8c\")) {                    Plotly.newPlot(                        \"f0cae03a-2250-4db1-8d4e-f7d87ecc2e8c\",                        [{\"x\":[\"2000-01-31T00:00:00\",\"2000-02-29T00:00:00\",\"2000-03-31T00:00:00\",\"2000-04-30T00:00:00\",\"2000-05-31T00:00:00\",\"2000-06-30T00:00:00\",\"2000-07-31T00:00:00\",\"2000-08-31T00:00:00\",\"2000-09-30T00:00:00\",\"2000-10-31T00:00:00\",\"2000-11-30T00:00:00\",\"2000-12-31T00:00:00\",\"2001-01-31T00:00:00\",\"2001-02-28T00:00:00\",\"2001-03-31T00:00:00\",\"2001-04-30T00:00:00\",\"2001-05-31T00:00:00\",\"2001-06-30T00:00:00\",\"2001-07-31T00:00:00\",\"2001-08-31T00:00:00\",\"2001-09-30T00:00:00\",\"2001-10-31T00:00:00\",\"2001-11-30T00:00:00\",\"2001-12-31T00:00:00\",\"2002-01-31T00:00:00\",\"2002-02-28T00:00:00\",\"2002-03-31T00:00:00\",\"2002-04-30T00:00:00\",\"2002-05-31T00:00:00\",\"2002-06-30T00:00:00\",\"2002-07-31T00:00:00\",\"2002-08-31T00:00:00\",\"2002-09-30T00:00:00\",\"2002-10-31T00:00:00\",\"2002-11-30T00:00:00\",\"2002-12-31T00:00:00\",\"2003-01-31T00:00:00\",\"2003-02-28T00:00:00\",\"2003-03-31T00:00:00\",\"2003-04-30T00:00:00\",\"2003-05-31T00:00:00\",\"2003-06-30T00:00:00\",\"2003-07-31T00:00:00\",\"2003-08-31T00:00:00\",\"2003-09-30T00:00:00\",\"2003-10-31T00:00:00\",\"2003-11-30T00:00:00\",\"2003-12-31T00:00:00\",\"2004-01-31T00:00:00\",\"2004-02-29T00:00:00\",\"2004-03-31T00:00:00\",\"2004-04-30T00:00:00\",\"2004-05-31T00:00:00\",\"2004-06-30T00:00:00\",\"2004-07-31T00:00:00\",\"2004-08-31T00:00:00\",\"2004-09-30T00:00:00\",\"2004-10-31T00:00:00\",\"2004-11-30T00:00:00\",\"2004-12-31T00:00:00\",\"2005-01-31T00:00:00\",\"2005-02-28T00:00:00\",\"2005-03-31T00:00:00\",\"2005-04-30T00:00:00\",\"2005-05-31T00:00:00\",\"2005-06-30T00:00:00\",\"2005-07-31T00:00:00\",\"2005-08-31T00:00:00\",\"2005-09-30T00:00:00\",\"2005-10-31T00:00:00\",\"2005-11-30T00:00:00\",\"2005-12-31T00:00:00\",\"2006-01-31T00:00:00\",\"2006-02-28T00:00:00\",\"2006-03-31T00:00:00\",\"2006-04-30T00:00:00\",\"2006-05-31T00:00:00\",\"2006-06-30T00:00:00\",\"2006-07-31T00:00:00\",\"2006-08-31T00:00:00\",\"2006-09-30T00:00:00\",\"2006-10-31T00:00:00\",\"2006-11-30T00:00:00\",\"2006-12-31T00:00:00\",\"2007-01-31T00:00:00\",\"2007-02-28T00:00:00\",\"2007-03-31T00:00:00\",\"2007-04-30T00:00:00\",\"2007-05-31T00:00:00\",\"2007-06-30T00:00:00\",\"2007-07-31T00:00:00\",\"2007-08-31T00:00:00\",\"2007-09-30T00:00:00\",\"2007-10-31T00:00:00\",\"2007-11-30T00:00:00\",\"2007-12-31T00:00:00\",\"2008-01-31T00:00:00\",\"2008-02-29T00:00:00\",\"2008-03-31T00:00:00\",\"2008-04-30T00:00:00\",\"2008-05-31T00:00:00\",\"2008-06-30T00:00:00\",\"2008-07-31T00:00:00\",\"2008-08-31T00:00:00\",\"2008-09-30T00:00:00\",\"2008-10-31T00:00:00\",\"2008-11-30T00:00:00\",\"2008-12-31T00:00:00\",\"2009-01-31T00:00:00\",\"2009-02-28T00:00:00\",\"2009-03-31T00:00:00\",\"2009-04-30T00:00:00\",\"2009-05-31T00:00:00\",\"2009-06-30T00:00:00\",\"2009-07-31T00:00:00\",\"2009-08-31T00:00:00\",\"2009-09-30T00:00:00\",\"2009-10-31T00:00:00\",\"2009-11-30T00:00:00\",\"2009-12-31T00:00:00\",\"2010-01-31T00:00:00\",\"2010-02-28T00:00:00\",\"2010-03-31T00:00:00\",\"2010-04-30T00:00:00\",\"2010-05-31T00:00:00\",\"2010-06-30T00:00:00\",\"2010-07-31T00:00:00\",\"2010-08-31T00:00:00\",\"2010-09-30T00:00:00\",\"2010-10-31T00:00:00\",\"2010-11-30T00:00:00\",\"2010-12-31T00:00:00\",\"2011-01-31T00:00:00\",\"2011-02-28T00:00:00\",\"2011-03-31T00:00:00\",\"2011-04-30T00:00:00\",\"2011-05-31T00:00:00\",\"2011-06-30T00:00:00\",\"2011-07-31T00:00:00\",\"2011-08-31T00:00:00\",\"2011-09-30T00:00:00\",\"2011-10-31T00:00:00\",\"2011-11-30T00:00:00\",\"2011-12-31T00:00:00\",\"2012-01-31T00:00:00\",\"2012-02-29T00:00:00\",\"2012-03-31T00:00:00\",\"2012-04-30T00:00:00\",\"2012-05-31T00:00:00\",\"2012-06-30T00:00:00\",\"2012-07-31T00:00:00\",\"2012-08-31T00:00:00\",\"2012-09-30T00:00:00\",\"2012-10-31T00:00:00\",\"2012-11-30T00:00:00\",\"2012-12-31T00:00:00\",\"2013-01-31T00:00:00\",\"2013-02-28T00:00:00\",\"2013-03-31T00:00:00\",\"2013-04-30T00:00:00\",\"2013-05-31T00:00:00\",\"2013-06-30T00:00:00\",\"2013-07-31T00:00:00\",\"2013-08-31T00:00:00\",\"2013-09-30T00:00:00\",\"2013-10-31T00:00:00\",\"2013-11-30T00:00:00\",\"2013-12-31T00:00:00\",\"2014-01-31T00:00:00\",\"2014-02-28T00:00:00\",\"2014-03-31T00:00:00\",\"2014-04-30T00:00:00\",\"2014-05-31T00:00:00\",\"2014-06-30T00:00:00\",\"2014-07-31T00:00:00\",\"2014-08-31T00:00:00\",\"2014-09-30T00:00:00\",\"2014-10-31T00:00:00\",\"2014-11-30T00:00:00\",\"2014-12-31T00:00:00\",\"2015-01-31T00:00:00\",\"2015-02-28T00:00:00\",\"2015-03-31T00:00:00\",\"2015-04-30T00:00:00\",\"2015-05-31T00:00:00\",\"2015-06-30T00:00:00\",\"2015-07-31T00:00:00\",\"2015-08-31T00:00:00\",\"2015-09-30T00:00:00\",\"2015-10-31T00:00:00\",\"2015-11-30T00:00:00\",\"2015-12-31T00:00:00\",\"2016-01-31T00:00:00\",\"2016-02-29T00:00:00\",\"2016-03-31T00:00:00\",\"2016-04-30T00:00:00\",\"2016-05-31T00:00:00\",\"2016-06-30T00:00:00\",\"2016-07-31T00:00:00\",\"2016-08-31T00:00:00\",\"2016-09-30T00:00:00\",\"2016-10-31T00:00:00\",\"2016-11-30T00:00:00\",\"2016-12-31T00:00:00\",\"2017-01-31T00:00:00\",\"2017-02-28T00:00:00\",\"2017-03-31T00:00:00\",\"2017-04-30T00:00:00\",\"2017-05-31T00:00:00\",\"2017-06-30T00:00:00\",\"2017-07-31T00:00:00\",\"2017-08-31T00:00:00\",\"2017-09-30T00:00:00\",\"2017-10-31T00:00:00\",\"2017-11-30T00:00:00\",\"2017-12-31T00:00:00\",\"2018-01-31T00:00:00\",\"2018-02-28T00:00:00\",\"2018-03-31T00:00:00\",\"2018-04-30T00:00:00\",\"2018-05-31T00:00:00\",\"2018-06-30T00:00:00\",\"2018-07-31T00:00:00\",\"2018-08-31T00:00:00\",\"2018-09-30T00:00:00\",\"2018-10-31T00:00:00\",\"2018-11-30T00:00:00\",\"2018-12-31T00:00:00\",\"2019-01-31T00:00:00\",\"2019-02-28T00:00:00\",\"2019-03-31T00:00:00\",\"2019-04-30T00:00:00\",\"2019-05-31T00:00:00\",\"2019-06-30T00:00:00\",\"2019-07-31T00:00:00\",\"2019-08-31T00:00:00\",\"2019-09-30T00:00:00\",\"2019-10-31T00:00:00\",\"2019-11-30T00:00:00\",\"2019-12-31T00:00:00\",\"2020-01-31T00:00:00\",\"2020-02-29T00:00:00\",\"2020-03-31T00:00:00\",\"2020-04-30T00:00:00\",\"2020-05-31T00:00:00\",\"2020-06-30T00:00:00\",\"2020-07-31T00:00:00\",\"2020-08-31T00:00:00\",\"2020-09-30T00:00:00\",\"2020-10-31T00:00:00\",\"2020-11-30T00:00:00\",\"2020-12-31T00:00:00\"],\"y\":[1,0,0,0,0,1,0,0,0,0,1,0,0,0,0,0,0,0,0,0,1,10,15,15,26,23,16,13,55,38,15,8,4,14,16,82,8,9,20,13,7,12,21,13,12,6,11,113,9,7,7,16,13,13,25,14,14,10,13,68,1,2,6,13,5,10,6,11,13,14,4,6,8,4,6,9,6,99,9,16,15,13,22,3,21,30,16,6,77,28,14,19,8,7,26,10,23,50,9,13,6,8,17,10,8,8,8,8,6,9,16,8,3,3,13,7,17,16,16,17,18,5,27,13,16,18,32,35,13,21,14,21,34,12,39,10,15,51,47,21,26,21,47,28,25,32,30,8,15,21,32,47,13,18,25,36,36,16,37,24,19,7,26,23,10,15,20,22,10,9,10,84,21,41,32,16,10,14,15,16,12,34,7,6,10,15,9,11,23,18,18,21,5,7,49,48,17,12,11,14,12,17,17,13,4,7,73,17,14,17,10,19,15,8,15,20,26,6,40,14,26,18,12,22,7,8,25,22,12,19,39,24,14,19,23,9,35,16,31,20,18,14,7,13,9,51,4,2,5,2,3,5],\"type\":\"scatter\"}],                        {\"template\":{\"data\":{\"bar\":[{\"error_x\":{\"color\":\"#2a3f5f\"},\"error_y\":{\"color\":\"#2a3f5f\"},\"marker\":{\"line\":{\"color\":\"#E5ECF6\",\"width\":0.5},\"pattern\":{\"fillmode\":\"overlay\",\"size\":10,\"solidity\":0.2}},\"type\":\"bar\"}],\"barpolar\":[{\"marker\":{\"line\":{\"color\":\"#E5ECF6\",\"width\":0.5},\"pattern\":{\"fillmode\":\"overlay\",\"size\":10,\"solidity\":0.2}},\"type\":\"barpolar\"}],\"carpet\":[{\"aaxis\":{\"endlinecolor\":\"#2a3f5f\",\"gridcolor\":\"white\",\"linecolor\":\"white\",\"minorgridcolor\":\"white\",\"startlinecolor\":\"#2a3f5f\"},\"baxis\":{\"endlinecolor\":\"#2a3f5f\",\"gridcolor\":\"white\",\"linecolor\":\"white\",\"minorgridcolor\":\"white\",\"startlinecolor\":\"#2a3f5f\"},\"type\":\"carpet\"}],\"choropleth\":[{\"colorbar\":{\"outlinewidth\":0,\"ticks\":\"\"},\"type\":\"choropleth\"}],\"contour\":[{\"colorbar\":{\"outlinewidth\":0,\"ticks\":\"\"},\"colorscale\":[[0.0,\"#0d0887\"],[0.1111111111111111,\"#46039f\"],[0.2222222222222222,\"#7201a8\"],[0.3333333333333333,\"#9c179e\"],[0.4444444444444444,\"#bd3786\"],[0.5555555555555556,\"#d8576b\"],[0.6666666666666666,\"#ed7953\"],[0.7777777777777778,\"#fb9f3a\"],[0.8888888888888888,\"#fdca26\"],[1.0,\"#f0f921\"]],\"type\":\"contour\"}],\"contourcarpet\":[{\"colorbar\":{\"outlinewidth\":0,\"ticks\":\"\"},\"type\":\"contourcarpet\"}],\"heatmap\":[{\"colorbar\":{\"outlinewidth\":0,\"ticks\":\"\"},\"colorscale\":[[0.0,\"#0d0887\"],[0.1111111111111111,\"#46039f\"],[0.2222222222222222,\"#7201a8\"],[0.3333333333333333,\"#9c179e\"],[0.4444444444444444,\"#bd3786\"],[0.5555555555555556,\"#d8576b\"],[0.6666666666666666,\"#ed7953\"],[0.7777777777777778,\"#fb9f3a\"],[0.8888888888888888,\"#fdca26\"],[1.0,\"#f0f921\"]],\"type\":\"heatmap\"}],\"heatmapgl\":[{\"colorbar\":{\"outlinewidth\":0,\"ticks\":\"\"},\"colorscale\":[[0.0,\"#0d0887\"],[0.1111111111111111,\"#46039f\"],[0.2222222222222222,\"#7201a8\"],[0.3333333333333333,\"#9c179e\"],[0.4444444444444444,\"#bd3786\"],[0.5555555555555556,\"#d8576b\"],[0.6666666666666666,\"#ed7953\"],[0.7777777777777778,\"#fb9f3a\"],[0.8888888888888888,\"#fdca26\"],[1.0,\"#f0f921\"]],\"type\":\"heatmapgl\"}],\"histogram\":[{\"marker\":{\"pattern\":{\"fillmode\":\"overlay\",\"size\":10,\"solidity\":0.2}},\"type\":\"histogram\"}],\"histogram2d\":[{\"colorbar\":{\"outlinewidth\":0,\"ticks\":\"\"},\"colorscale\":[[0.0,\"#0d0887\"],[0.1111111111111111,\"#46039f\"],[0.2222222222222222,\"#7201a8\"],[0.3333333333333333,\"#9c179e\"],[0.4444444444444444,\"#bd3786\"],[0.5555555555555556,\"#d8576b\"],[0.6666666666666666,\"#ed7953\"],[0.7777777777777778,\"#fb9f3a\"],[0.8888888888888888,\"#fdca26\"],[1.0,\"#f0f921\"]],\"type\":\"histogram2d\"}],\"histogram2dcontour\":[{\"colorbar\":{\"outlinewidth\":0,\"ticks\":\"\"},\"colorscale\":[[0.0,\"#0d0887\"],[0.1111111111111111,\"#46039f\"],[0.2222222222222222,\"#7201a8\"],[0.3333333333333333,\"#9c179e\"],[0.4444444444444444,\"#bd3786\"],[0.5555555555555556,\"#d8576b\"],[0.6666666666666666,\"#ed7953\"],[0.7777777777777778,\"#fb9f3a\"],[0.8888888888888888,\"#fdca26\"],[1.0,\"#f0f921\"]],\"type\":\"histogram2dcontour\"}],\"mesh3d\":[{\"colorbar\":{\"outlinewidth\":0,\"ticks\":\"\"},\"type\":\"mesh3d\"}],\"parcoords\":[{\"line\":{\"colorbar\":{\"outlinewidth\":0,\"ticks\":\"\"}},\"type\":\"parcoords\"}],\"pie\":[{\"automargin\":true,\"type\":\"pie\"}],\"scatter\":[{\"marker\":{\"colorbar\":{\"outlinewidth\":0,\"ticks\":\"\"}},\"type\":\"scatter\"}],\"scatter3d\":[{\"line\":{\"colorbar\":{\"outlinewidth\":0,\"ticks\":\"\"}},\"marker\":{\"colorbar\":{\"outlinewidth\":0,\"ticks\":\"\"}},\"type\":\"scatter3d\"}],\"scattercarpet\":[{\"marker\":{\"colorbar\":{\"outlinewidth\":0,\"ticks\":\"\"}},\"type\":\"scattercarpet\"}],\"scattergeo\":[{\"marker\":{\"colorbar\":{\"outlinewidth\":0,\"ticks\":\"\"}},\"type\":\"scattergeo\"}],\"scattergl\":[{\"marker\":{\"colorbar\":{\"outlinewidth\":0,\"ticks\":\"\"}},\"type\":\"scattergl\"}],\"scattermapbox\":[{\"marker\":{\"colorbar\":{\"outlinewidth\":0,\"ticks\":\"\"}},\"type\":\"scattermapbox\"}],\"scatterpolar\":[{\"marker\":{\"colorbar\":{\"outlinewidth\":0,\"ticks\":\"\"}},\"type\":\"scatterpolar\"}],\"scatterpolargl\":[{\"marker\":{\"colorbar\":{\"outlinewidth\":0,\"ticks\":\"\"}},\"type\":\"scatterpolargl\"}],\"scatterternary\":[{\"marker\":{\"colorbar\":{\"outlinewidth\":0,\"ticks\":\"\"}},\"type\":\"scatterternary\"}],\"surface\":[{\"colorbar\":{\"outlinewidth\":0,\"ticks\":\"\"},\"colorscale\":[[0.0,\"#0d0887\"],[0.1111111111111111,\"#46039f\"],[0.2222222222222222,\"#7201a8\"],[0.3333333333333333,\"#9c179e\"],[0.4444444444444444,\"#bd3786\"],[0.5555555555555556,\"#d8576b\"],[0.6666666666666666,\"#ed7953\"],[0.7777777777777778,\"#fb9f3a\"],[0.8888888888888888,\"#fdca26\"],[1.0,\"#f0f921\"]],\"type\":\"surface\"}],\"table\":[{\"cells\":{\"fill\":{\"color\":\"#EBF0F8\"},\"line\":{\"color\":\"white\"}},\"header\":{\"fill\":{\"color\":\"#C8D4E3\"},\"line\":{\"color\":\"white\"}},\"type\":\"table\"}]},\"layout\":{\"annotationdefaults\":{\"arrowcolor\":\"#2a3f5f\",\"arrowhead\":0,\"arrowwidth\":1},\"autotypenumbers\":\"strict\",\"coloraxis\":{\"colorbar\":{\"outlinewidth\":0,\"ticks\":\"\"}},\"colorscale\":{\"diverging\":[[0,\"#8e0152\"],[0.1,\"#c51b7d\"],[0.2,\"#de77ae\"],[0.3,\"#f1b6da\"],[0.4,\"#fde0ef\"],[0.5,\"#f7f7f7\"],[0.6,\"#e6f5d0\"],[0.7,\"#b8e186\"],[0.8,\"#7fbc41\"],[0.9,\"#4d9221\"],[1,\"#276419\"]],\"sequential\":[[0.0,\"#0d0887\"],[0.1111111111111111,\"#46039f\"],[0.2222222222222222,\"#7201a8\"],[0.3333333333333333,\"#9c179e\"],[0.4444444444444444,\"#bd3786\"],[0.5555555555555556,\"#d8576b\"],[0.6666666666666666,\"#ed7953\"],[0.7777777777777778,\"#fb9f3a\"],[0.8888888888888888,\"#fdca26\"],[1.0,\"#f0f921\"]],\"sequentialminus\":[[0.0,\"#0d0887\"],[0.1111111111111111,\"#46039f\"],[0.2222222222222222,\"#7201a8\"],[0.3333333333333333,\"#9c179e\"],[0.4444444444444444,\"#bd3786\"],[0.5555555555555556,\"#d8576b\"],[0.6666666666666666,\"#ed7953\"],[0.7777777777777778,\"#fb9f3a\"],[0.8888888888888888,\"#fdca26\"],[1.0,\"#f0f921\"]]},\"colorway\":[\"#636efa\",\"#EF553B\",\"#00cc96\",\"#ab63fa\",\"#FFA15A\",\"#19d3f3\",\"#FF6692\",\"#B6E880\",\"#FF97FF\",\"#FECB52\"],\"font\":{\"color\":\"#2a3f5f\"},\"geo\":{\"bgcolor\":\"white\",\"lakecolor\":\"white\",\"landcolor\":\"#E5ECF6\",\"showlakes\":true,\"showland\":true,\"subunitcolor\":\"white\"},\"hoverlabel\":{\"align\":\"left\"},\"hovermode\":\"closest\",\"mapbox\":{\"style\":\"light\"},\"paper_bgcolor\":\"white\",\"plot_bgcolor\":\"#E5ECF6\",\"polar\":{\"angularaxis\":{\"gridcolor\":\"white\",\"linecolor\":\"white\",\"ticks\":\"\"},\"bgcolor\":\"#E5ECF6\",\"radialaxis\":{\"gridcolor\":\"white\",\"linecolor\":\"white\",\"ticks\":\"\"}},\"scene\":{\"xaxis\":{\"backgroundcolor\":\"#E5ECF6\",\"gridcolor\":\"white\",\"gridwidth\":2,\"linecolor\":\"white\",\"showbackground\":true,\"ticks\":\"\",\"zerolinecolor\":\"white\"},\"yaxis\":{\"backgroundcolor\":\"#E5ECF6\",\"gridcolor\":\"white\",\"gridwidth\":2,\"linecolor\":\"white\",\"showbackground\":true,\"ticks\":\"\",\"zerolinecolor\":\"white\"},\"zaxis\":{\"backgroundcolor\":\"#E5ECF6\",\"gridcolor\":\"white\",\"gridwidth\":2,\"linecolor\":\"white\",\"showbackground\":true,\"ticks\":\"\",\"zerolinecolor\":\"white\"}},\"shapedefaults\":{\"line\":{\"color\":\"#2a3f5f\"}},\"ternary\":{\"aaxis\":{\"gridcolor\":\"white\",\"linecolor\":\"white\",\"ticks\":\"\"},\"baxis\":{\"gridcolor\":\"white\",\"linecolor\":\"white\",\"ticks\":\"\"},\"bgcolor\":\"#E5ECF6\",\"caxis\":{\"gridcolor\":\"white\",\"linecolor\":\"white\",\"ticks\":\"\"}},\"title\":{\"x\":0.05},\"xaxis\":{\"automargin\":true,\"gridcolor\":\"white\",\"linecolor\":\"white\",\"ticks\":\"\",\"title\":{\"standoff\":15},\"zerolinecolor\":\"white\",\"zerolinewidth\":2},\"yaxis\":{\"automargin\":true,\"gridcolor\":\"white\",\"linecolor\":\"white\",\"ticks\":\"\",\"title\":{\"standoff\":15},\"zerolinecolor\":\"white\",\"zerolinewidth\":2}}}},                        {\"responsive\": true}                    ).then(function(){\n",
              "                            \n",
              "var gd = document.getElementById('f0cae03a-2250-4db1-8d4e-f7d87ecc2e8c');\n",
              "var x = new MutationObserver(function (mutations, observer) {{\n",
              "        var display = window.getComputedStyle(gd).display;\n",
              "        if (!display || display === 'none') {{\n",
              "            console.log([gd, 'removed!']);\n",
              "            Plotly.purge(gd);\n",
              "            observer.disconnect();\n",
              "        }}\n",
              "}});\n",
              "\n",
              "// Listen for the removal of the full notebook cells\n",
              "var notebookContainer = gd.closest('#notebook-container');\n",
              "if (notebookContainer) {{\n",
              "    x.observe(notebookContainer, {childList: true});\n",
              "}}\n",
              "\n",
              "// Listen for the clearing of the current output cell\n",
              "var outputEl = gd.closest('.output');\n",
              "if (outputEl) {{\n",
              "    x.observe(outputEl, {childList: true});\n",
              "}}\n",
              "\n",
              "                        })                };                            </script>        </div>\n",
              "</body>\n",
              "</html>"
            ]
          },
          "metadata": {}
        }
      ]
    },
    {
      "cell_type": "code",
      "source": [
        "#pie test\n",
        "\n",
        "dfRegula_count = dfRegular.groupby(by=['업태명'], as_index=False).count()\n",
        "frequency = dfRegula_count['Year'];\n",
        "label = dfRegula_count['업태명'];\n",
        "\n",
        "fig = go.Figure(data=[go.Pie(labels=label, values=frequency)])\n",
        "fig.update_traces(textposition='inside')\n",
        "\n",
        "fig.show()"
      ],
      "metadata": {
        "colab": {
          "base_uri": "https://localhost:8080/",
          "height": 542
        },
        "id": "O4P5T66FzNkl",
        "outputId": "cf9fe6c0-4bd6-445f-cf9f-888c799632e8"
      },
      "execution_count": 18,
      "outputs": [
        {
          "output_type": "display_data",
          "data": {
            "text/html": [
              "<html>\n",
              "<head><meta charset=\"utf-8\" /></head>\n",
              "<body>\n",
              "    <div>            <script src=\"https://cdnjs.cloudflare.com/ajax/libs/mathjax/2.7.5/MathJax.js?config=TeX-AMS-MML_SVG\"></script><script type=\"text/javascript\">if (window.MathJax) {MathJax.Hub.Config({SVG: {font: \"STIX-Web\"}});}</script>                <script type=\"text/javascript\">window.PlotlyConfig = {MathJaxConfig: 'local'};</script>\n",
              "        <script src=\"https://cdn.plot.ly/plotly-2.6.3.min.js\"></script>                <div id=\"648d86ed-ac59-48ab-ab93-a649a5ed3b46\" class=\"plotly-graph-div\" style=\"height:525px; width:100%;\"></div>            <script type=\"text/javascript\">                                    window.PLOTLYENV=window.PLOTLYENV || {};                                    if (document.getElementById(\"648d86ed-ac59-48ab-ab93-a649a5ed3b46\")) {                    Plotly.newPlot(                        \"648d86ed-ac59-48ab-ab93-a649a5ed3b46\",                        [{\"labels\":[\"\\uac10\\uc131\\uc8fc\\uc810\",\"\\uacbd\\uc591\\uc2dd\",\"\\uae30\\ud0c0\",\"\\uae40\\ubc25(\\ub3c4\\uc2dc\\ub77d)\",\"\\uae4c\\ud398\",\"\\ub77c\\uc774\\ube0c\\uce74\\ud398\",\"\\ubd84\\uc2dd\",\"\\ubdd4\\ud398\\uc2dd\",\"\\uc2dd\\uc721(\\uc22f\\ubd88\\uad6c\\uc774)\",\"\\uc678\\uad6d\\uc74c\\uc2dd\\uc804\\ubb38\\uc810(\\uc778\\ub3c4\\ud0dc\\uad6d\\ub4f1)\",\"\\uc77c\\uc2dd\",\"\\uc804\\ud1b5\\ucc3b\\uc9d1\",\"\\uc815\\uc885/\\ub300\\ud3ec\\uc9d1/\\uc18c\\uc8fc\\ubc29\",\"\\uc911\\uad6d\\uc2dd\",\"\\ud0a4\\uc988\\uce74\\ud398\",\"\\ud1b5\\ub2ed(\\uce58\\ud0a8)\",\"\\ud328\\ubc00\\ub9ac\\ub808\\uc2a4\\ud2b8\\ub791\",\"\\ud328\\uc2a4\\ud2b8\\ud478\\ub4dc\",\"\\ud55c\\uc2dd\",\"\\ud638\\ud504/\\ud1b5\\ub2ed\",\"\\ud68c\\uc9d1\"],\"values\":[86,206,202,12,43,26,610,30,41,3,169,2,18,241,7,223,2,45,1634,718,16],\"type\":\"pie\",\"textposition\":\"inside\"}],                        {\"template\":{\"data\":{\"bar\":[{\"error_x\":{\"color\":\"#2a3f5f\"},\"error_y\":{\"color\":\"#2a3f5f\"},\"marker\":{\"line\":{\"color\":\"#E5ECF6\",\"width\":0.5},\"pattern\":{\"fillmode\":\"overlay\",\"size\":10,\"solidity\":0.2}},\"type\":\"bar\"}],\"barpolar\":[{\"marker\":{\"line\":{\"color\":\"#E5ECF6\",\"width\":0.5},\"pattern\":{\"fillmode\":\"overlay\",\"size\":10,\"solidity\":0.2}},\"type\":\"barpolar\"}],\"carpet\":[{\"aaxis\":{\"endlinecolor\":\"#2a3f5f\",\"gridcolor\":\"white\",\"linecolor\":\"white\",\"minorgridcolor\":\"white\",\"startlinecolor\":\"#2a3f5f\"},\"baxis\":{\"endlinecolor\":\"#2a3f5f\",\"gridcolor\":\"white\",\"linecolor\":\"white\",\"minorgridcolor\":\"white\",\"startlinecolor\":\"#2a3f5f\"},\"type\":\"carpet\"}],\"choropleth\":[{\"colorbar\":{\"outlinewidth\":0,\"ticks\":\"\"},\"type\":\"choropleth\"}],\"contour\":[{\"colorbar\":{\"outlinewidth\":0,\"ticks\":\"\"},\"colorscale\":[[0.0,\"#0d0887\"],[0.1111111111111111,\"#46039f\"],[0.2222222222222222,\"#7201a8\"],[0.3333333333333333,\"#9c179e\"],[0.4444444444444444,\"#bd3786\"],[0.5555555555555556,\"#d8576b\"],[0.6666666666666666,\"#ed7953\"],[0.7777777777777778,\"#fb9f3a\"],[0.8888888888888888,\"#fdca26\"],[1.0,\"#f0f921\"]],\"type\":\"contour\"}],\"contourcarpet\":[{\"colorbar\":{\"outlinewidth\":0,\"ticks\":\"\"},\"type\":\"contourcarpet\"}],\"heatmap\":[{\"colorbar\":{\"outlinewidth\":0,\"ticks\":\"\"},\"colorscale\":[[0.0,\"#0d0887\"],[0.1111111111111111,\"#46039f\"],[0.2222222222222222,\"#7201a8\"],[0.3333333333333333,\"#9c179e\"],[0.4444444444444444,\"#bd3786\"],[0.5555555555555556,\"#d8576b\"],[0.6666666666666666,\"#ed7953\"],[0.7777777777777778,\"#fb9f3a\"],[0.8888888888888888,\"#fdca26\"],[1.0,\"#f0f921\"]],\"type\":\"heatmap\"}],\"heatmapgl\":[{\"colorbar\":{\"outlinewidth\":0,\"ticks\":\"\"},\"colorscale\":[[0.0,\"#0d0887\"],[0.1111111111111111,\"#46039f\"],[0.2222222222222222,\"#7201a8\"],[0.3333333333333333,\"#9c179e\"],[0.4444444444444444,\"#bd3786\"],[0.5555555555555556,\"#d8576b\"],[0.6666666666666666,\"#ed7953\"],[0.7777777777777778,\"#fb9f3a\"],[0.8888888888888888,\"#fdca26\"],[1.0,\"#f0f921\"]],\"type\":\"heatmapgl\"}],\"histogram\":[{\"marker\":{\"pattern\":{\"fillmode\":\"overlay\",\"size\":10,\"solidity\":0.2}},\"type\":\"histogram\"}],\"histogram2d\":[{\"colorbar\":{\"outlinewidth\":0,\"ticks\":\"\"},\"colorscale\":[[0.0,\"#0d0887\"],[0.1111111111111111,\"#46039f\"],[0.2222222222222222,\"#7201a8\"],[0.3333333333333333,\"#9c179e\"],[0.4444444444444444,\"#bd3786\"],[0.5555555555555556,\"#d8576b\"],[0.6666666666666666,\"#ed7953\"],[0.7777777777777778,\"#fb9f3a\"],[0.8888888888888888,\"#fdca26\"],[1.0,\"#f0f921\"]],\"type\":\"histogram2d\"}],\"histogram2dcontour\":[{\"colorbar\":{\"outlinewidth\":0,\"ticks\":\"\"},\"colorscale\":[[0.0,\"#0d0887\"],[0.1111111111111111,\"#46039f\"],[0.2222222222222222,\"#7201a8\"],[0.3333333333333333,\"#9c179e\"],[0.4444444444444444,\"#bd3786\"],[0.5555555555555556,\"#d8576b\"],[0.6666666666666666,\"#ed7953\"],[0.7777777777777778,\"#fb9f3a\"],[0.8888888888888888,\"#fdca26\"],[1.0,\"#f0f921\"]],\"type\":\"histogram2dcontour\"}],\"mesh3d\":[{\"colorbar\":{\"outlinewidth\":0,\"ticks\":\"\"},\"type\":\"mesh3d\"}],\"parcoords\":[{\"line\":{\"colorbar\":{\"outlinewidth\":0,\"ticks\":\"\"}},\"type\":\"parcoords\"}],\"pie\":[{\"automargin\":true,\"type\":\"pie\"}],\"scatter\":[{\"marker\":{\"colorbar\":{\"outlinewidth\":0,\"ticks\":\"\"}},\"type\":\"scatter\"}],\"scatter3d\":[{\"line\":{\"colorbar\":{\"outlinewidth\":0,\"ticks\":\"\"}},\"marker\":{\"colorbar\":{\"outlinewidth\":0,\"ticks\":\"\"}},\"type\":\"scatter3d\"}],\"scattercarpet\":[{\"marker\":{\"colorbar\":{\"outlinewidth\":0,\"ticks\":\"\"}},\"type\":\"scattercarpet\"}],\"scattergeo\":[{\"marker\":{\"colorbar\":{\"outlinewidth\":0,\"ticks\":\"\"}},\"type\":\"scattergeo\"}],\"scattergl\":[{\"marker\":{\"colorbar\":{\"outlinewidth\":0,\"ticks\":\"\"}},\"type\":\"scattergl\"}],\"scattermapbox\":[{\"marker\":{\"colorbar\":{\"outlinewidth\":0,\"ticks\":\"\"}},\"type\":\"scattermapbox\"}],\"scatterpolar\":[{\"marker\":{\"colorbar\":{\"outlinewidth\":0,\"ticks\":\"\"}},\"type\":\"scatterpolar\"}],\"scatterpolargl\":[{\"marker\":{\"colorbar\":{\"outlinewidth\":0,\"ticks\":\"\"}},\"type\":\"scatterpolargl\"}],\"scatterternary\":[{\"marker\":{\"colorbar\":{\"outlinewidth\":0,\"ticks\":\"\"}},\"type\":\"scatterternary\"}],\"surface\":[{\"colorbar\":{\"outlinewidth\":0,\"ticks\":\"\"},\"colorscale\":[[0.0,\"#0d0887\"],[0.1111111111111111,\"#46039f\"],[0.2222222222222222,\"#7201a8\"],[0.3333333333333333,\"#9c179e\"],[0.4444444444444444,\"#bd3786\"],[0.5555555555555556,\"#d8576b\"],[0.6666666666666666,\"#ed7953\"],[0.7777777777777778,\"#fb9f3a\"],[0.8888888888888888,\"#fdca26\"],[1.0,\"#f0f921\"]],\"type\":\"surface\"}],\"table\":[{\"cells\":{\"fill\":{\"color\":\"#EBF0F8\"},\"line\":{\"color\":\"white\"}},\"header\":{\"fill\":{\"color\":\"#C8D4E3\"},\"line\":{\"color\":\"white\"}},\"type\":\"table\"}]},\"layout\":{\"annotationdefaults\":{\"arrowcolor\":\"#2a3f5f\",\"arrowhead\":0,\"arrowwidth\":1},\"autotypenumbers\":\"strict\",\"coloraxis\":{\"colorbar\":{\"outlinewidth\":0,\"ticks\":\"\"}},\"colorscale\":{\"diverging\":[[0,\"#8e0152\"],[0.1,\"#c51b7d\"],[0.2,\"#de77ae\"],[0.3,\"#f1b6da\"],[0.4,\"#fde0ef\"],[0.5,\"#f7f7f7\"],[0.6,\"#e6f5d0\"],[0.7,\"#b8e186\"],[0.8,\"#7fbc41\"],[0.9,\"#4d9221\"],[1,\"#276419\"]],\"sequential\":[[0.0,\"#0d0887\"],[0.1111111111111111,\"#46039f\"],[0.2222222222222222,\"#7201a8\"],[0.3333333333333333,\"#9c179e\"],[0.4444444444444444,\"#bd3786\"],[0.5555555555555556,\"#d8576b\"],[0.6666666666666666,\"#ed7953\"],[0.7777777777777778,\"#fb9f3a\"],[0.8888888888888888,\"#fdca26\"],[1.0,\"#f0f921\"]],\"sequentialminus\":[[0.0,\"#0d0887\"],[0.1111111111111111,\"#46039f\"],[0.2222222222222222,\"#7201a8\"],[0.3333333333333333,\"#9c179e\"],[0.4444444444444444,\"#bd3786\"],[0.5555555555555556,\"#d8576b\"],[0.6666666666666666,\"#ed7953\"],[0.7777777777777778,\"#fb9f3a\"],[0.8888888888888888,\"#fdca26\"],[1.0,\"#f0f921\"]]},\"colorway\":[\"#636efa\",\"#EF553B\",\"#00cc96\",\"#ab63fa\",\"#FFA15A\",\"#19d3f3\",\"#FF6692\",\"#B6E880\",\"#FF97FF\",\"#FECB52\"],\"font\":{\"color\":\"#2a3f5f\"},\"geo\":{\"bgcolor\":\"white\",\"lakecolor\":\"white\",\"landcolor\":\"#E5ECF6\",\"showlakes\":true,\"showland\":true,\"subunitcolor\":\"white\"},\"hoverlabel\":{\"align\":\"left\"},\"hovermode\":\"closest\",\"mapbox\":{\"style\":\"light\"},\"paper_bgcolor\":\"white\",\"plot_bgcolor\":\"#E5ECF6\",\"polar\":{\"angularaxis\":{\"gridcolor\":\"white\",\"linecolor\":\"white\",\"ticks\":\"\"},\"bgcolor\":\"#E5ECF6\",\"radialaxis\":{\"gridcolor\":\"white\",\"linecolor\":\"white\",\"ticks\":\"\"}},\"scene\":{\"xaxis\":{\"backgroundcolor\":\"#E5ECF6\",\"gridcolor\":\"white\",\"gridwidth\":2,\"linecolor\":\"white\",\"showbackground\":true,\"ticks\":\"\",\"zerolinecolor\":\"white\"},\"yaxis\":{\"backgroundcolor\":\"#E5ECF6\",\"gridcolor\":\"white\",\"gridwidth\":2,\"linecolor\":\"white\",\"showbackground\":true,\"ticks\":\"\",\"zerolinecolor\":\"white\"},\"zaxis\":{\"backgroundcolor\":\"#E5ECF6\",\"gridcolor\":\"white\",\"gridwidth\":2,\"linecolor\":\"white\",\"showbackground\":true,\"ticks\":\"\",\"zerolinecolor\":\"white\"}},\"shapedefaults\":{\"line\":{\"color\":\"#2a3f5f\"}},\"ternary\":{\"aaxis\":{\"gridcolor\":\"white\",\"linecolor\":\"white\",\"ticks\":\"\"},\"baxis\":{\"gridcolor\":\"white\",\"linecolor\":\"white\",\"ticks\":\"\"},\"bgcolor\":\"#E5ECF6\",\"caxis\":{\"gridcolor\":\"white\",\"linecolor\":\"white\",\"ticks\":\"\"}},\"title\":{\"x\":0.05},\"xaxis\":{\"automargin\":true,\"gridcolor\":\"white\",\"linecolor\":\"white\",\"ticks\":\"\",\"title\":{\"standoff\":15},\"zerolinecolor\":\"white\",\"zerolinewidth\":2},\"yaxis\":{\"automargin\":true,\"gridcolor\":\"white\",\"linecolor\":\"white\",\"ticks\":\"\",\"title\":{\"standoff\":15},\"zerolinecolor\":\"white\",\"zerolinewidth\":2}}}},                        {\"responsive\": true}                    ).then(function(){\n",
              "                            \n",
              "var gd = document.getElementById('648d86ed-ac59-48ab-ab93-a649a5ed3b46');\n",
              "var x = new MutationObserver(function (mutations, observer) {{\n",
              "        var display = window.getComputedStyle(gd).display;\n",
              "        if (!display || display === 'none') {{\n",
              "            console.log([gd, 'removed!']);\n",
              "            Plotly.purge(gd);\n",
              "            observer.disconnect();\n",
              "        }}\n",
              "}});\n",
              "\n",
              "// Listen for the removal of the full notebook cells\n",
              "var notebookContainer = gd.closest('#notebook-container');\n",
              "if (notebookContainer) {{\n",
              "    x.observe(notebookContainer, {childList: true});\n",
              "}}\n",
              "\n",
              "// Listen for the clearing of the current output cell\n",
              "var outputEl = gd.closest('.output');\n",
              "if (outputEl) {{\n",
              "    x.observe(outputEl, {childList: true});\n",
              "}}\n",
              "\n",
              "                        })                };                            </script>        </div>\n",
              "</body>\n",
              "</html>"
            ]
          },
          "metadata": {}
        }
      ]
    },
    {
      "cell_type": "code",
      "source": [
        "#bar test\n",
        "\n",
        "data_dates = dfRegular['처분명수정'].value_counts()\n",
        "dates = data_dates.to_frame(name='처분명수정')\n",
        "#dates.index.name = '처분명수정'\n",
        "\n",
        "#bar color -> https://stackoverflow.com/questions/61892036/plotly-how-to-colorcode-plotly-graph-objects-bar-chart-using-python\n",
        "k=[15,30,45,60,75,90]\n",
        "fig = go.Figure(data=[go.Bar(x=dates.index, y=dates['처분명수정'],\n",
        "                             marker=dict(color = k, colorscale='viridis'))])\n",
        "\n",
        "fig.show()"
      ],
      "metadata": {
        "colab": {
          "base_uri": "https://localhost:8080/",
          "height": 542
        },
        "id": "gqOZ50vQFw9r",
        "outputId": "ef8c1858-fecf-43a1-ebc5-b040869f8bcc"
      },
      "execution_count": 19,
      "outputs": [
        {
          "output_type": "display_data",
          "data": {
            "text/html": [
              "<html>\n",
              "<head><meta charset=\"utf-8\" /></head>\n",
              "<body>\n",
              "    <div>            <script src=\"https://cdnjs.cloudflare.com/ajax/libs/mathjax/2.7.5/MathJax.js?config=TeX-AMS-MML_SVG\"></script><script type=\"text/javascript\">if (window.MathJax) {MathJax.Hub.Config({SVG: {font: \"STIX-Web\"}});}</script>                <script type=\"text/javascript\">window.PlotlyConfig = {MathJaxConfig: 'local'};</script>\n",
              "        <script src=\"https://cdn.plot.ly/plotly-2.6.3.min.js\"></script>                <div id=\"a7ce9349-af3c-49b5-980e-bbcdecff68b7\" class=\"plotly-graph-div\" style=\"height:525px; width:100%;\"></div>            <script type=\"text/javascript\">                                    window.PLOTLYENV=window.PLOTLYENV || {};                                    if (document.getElementById(\"a7ce9349-af3c-49b5-980e-bbcdecff68b7\")) {                    Plotly.newPlot(                        \"a7ce9349-af3c-49b5-980e-bbcdecff68b7\",                        [{\"marker\":{\"color\":[15,30,45,60,75,90],\"colorscale\":[[0.0,\"#440154\"],[0.1111111111111111,\"#482878\"],[0.2222222222222222,\"#3e4989\"],[0.3333333333333333,\"#31688e\"],[0.4444444444444444,\"#26828e\"],[0.5555555555555556,\"#1f9e89\"],[0.6666666666666666,\"#35b779\"],[0.7777777777777778,\"#6ece58\"],[0.8888888888888888,\"#b5de2b\"],[1.0,\"#fde725\"]]},\"x\":[\"\\uacfc\\ud0dc\\ub8cc\",\"\\uc601\\uc5c5\\uc815\\uc9c0\",\"\\uc601\\uc5c5\\uc18c\\ud3d0\\uc1c4\",\"\\uc2dc\\uc815\\uba85\\ub839\",\"\\uacfc\\uc9d5\\uae08\",\"\\uae30\\ud0c0\"],\"y\":[1542,1031,766,588,263,144],\"type\":\"bar\"}],                        {\"template\":{\"data\":{\"bar\":[{\"error_x\":{\"color\":\"#2a3f5f\"},\"error_y\":{\"color\":\"#2a3f5f\"},\"marker\":{\"line\":{\"color\":\"#E5ECF6\",\"width\":0.5},\"pattern\":{\"fillmode\":\"overlay\",\"size\":10,\"solidity\":0.2}},\"type\":\"bar\"}],\"barpolar\":[{\"marker\":{\"line\":{\"color\":\"#E5ECF6\",\"width\":0.5},\"pattern\":{\"fillmode\":\"overlay\",\"size\":10,\"solidity\":0.2}},\"type\":\"barpolar\"}],\"carpet\":[{\"aaxis\":{\"endlinecolor\":\"#2a3f5f\",\"gridcolor\":\"white\",\"linecolor\":\"white\",\"minorgridcolor\":\"white\",\"startlinecolor\":\"#2a3f5f\"},\"baxis\":{\"endlinecolor\":\"#2a3f5f\",\"gridcolor\":\"white\",\"linecolor\":\"white\",\"minorgridcolor\":\"white\",\"startlinecolor\":\"#2a3f5f\"},\"type\":\"carpet\"}],\"choropleth\":[{\"colorbar\":{\"outlinewidth\":0,\"ticks\":\"\"},\"type\":\"choropleth\"}],\"contour\":[{\"colorbar\":{\"outlinewidth\":0,\"ticks\":\"\"},\"colorscale\":[[0.0,\"#0d0887\"],[0.1111111111111111,\"#46039f\"],[0.2222222222222222,\"#7201a8\"],[0.3333333333333333,\"#9c179e\"],[0.4444444444444444,\"#bd3786\"],[0.5555555555555556,\"#d8576b\"],[0.6666666666666666,\"#ed7953\"],[0.7777777777777778,\"#fb9f3a\"],[0.8888888888888888,\"#fdca26\"],[1.0,\"#f0f921\"]],\"type\":\"contour\"}],\"contourcarpet\":[{\"colorbar\":{\"outlinewidth\":0,\"ticks\":\"\"},\"type\":\"contourcarpet\"}],\"heatmap\":[{\"colorbar\":{\"outlinewidth\":0,\"ticks\":\"\"},\"colorscale\":[[0.0,\"#0d0887\"],[0.1111111111111111,\"#46039f\"],[0.2222222222222222,\"#7201a8\"],[0.3333333333333333,\"#9c179e\"],[0.4444444444444444,\"#bd3786\"],[0.5555555555555556,\"#d8576b\"],[0.6666666666666666,\"#ed7953\"],[0.7777777777777778,\"#fb9f3a\"],[0.8888888888888888,\"#fdca26\"],[1.0,\"#f0f921\"]],\"type\":\"heatmap\"}],\"heatmapgl\":[{\"colorbar\":{\"outlinewidth\":0,\"ticks\":\"\"},\"colorscale\":[[0.0,\"#0d0887\"],[0.1111111111111111,\"#46039f\"],[0.2222222222222222,\"#7201a8\"],[0.3333333333333333,\"#9c179e\"],[0.4444444444444444,\"#bd3786\"],[0.5555555555555556,\"#d8576b\"],[0.6666666666666666,\"#ed7953\"],[0.7777777777777778,\"#fb9f3a\"],[0.8888888888888888,\"#fdca26\"],[1.0,\"#f0f921\"]],\"type\":\"heatmapgl\"}],\"histogram\":[{\"marker\":{\"pattern\":{\"fillmode\":\"overlay\",\"size\":10,\"solidity\":0.2}},\"type\":\"histogram\"}],\"histogram2d\":[{\"colorbar\":{\"outlinewidth\":0,\"ticks\":\"\"},\"colorscale\":[[0.0,\"#0d0887\"],[0.1111111111111111,\"#46039f\"],[0.2222222222222222,\"#7201a8\"],[0.3333333333333333,\"#9c179e\"],[0.4444444444444444,\"#bd3786\"],[0.5555555555555556,\"#d8576b\"],[0.6666666666666666,\"#ed7953\"],[0.7777777777777778,\"#fb9f3a\"],[0.8888888888888888,\"#fdca26\"],[1.0,\"#f0f921\"]],\"type\":\"histogram2d\"}],\"histogram2dcontour\":[{\"colorbar\":{\"outlinewidth\":0,\"ticks\":\"\"},\"colorscale\":[[0.0,\"#0d0887\"],[0.1111111111111111,\"#46039f\"],[0.2222222222222222,\"#7201a8\"],[0.3333333333333333,\"#9c179e\"],[0.4444444444444444,\"#bd3786\"],[0.5555555555555556,\"#d8576b\"],[0.6666666666666666,\"#ed7953\"],[0.7777777777777778,\"#fb9f3a\"],[0.8888888888888888,\"#fdca26\"],[1.0,\"#f0f921\"]],\"type\":\"histogram2dcontour\"}],\"mesh3d\":[{\"colorbar\":{\"outlinewidth\":0,\"ticks\":\"\"},\"type\":\"mesh3d\"}],\"parcoords\":[{\"line\":{\"colorbar\":{\"outlinewidth\":0,\"ticks\":\"\"}},\"type\":\"parcoords\"}],\"pie\":[{\"automargin\":true,\"type\":\"pie\"}],\"scatter\":[{\"marker\":{\"colorbar\":{\"outlinewidth\":0,\"ticks\":\"\"}},\"type\":\"scatter\"}],\"scatter3d\":[{\"line\":{\"colorbar\":{\"outlinewidth\":0,\"ticks\":\"\"}},\"marker\":{\"colorbar\":{\"outlinewidth\":0,\"ticks\":\"\"}},\"type\":\"scatter3d\"}],\"scattercarpet\":[{\"marker\":{\"colorbar\":{\"outlinewidth\":0,\"ticks\":\"\"}},\"type\":\"scattercarpet\"}],\"scattergeo\":[{\"marker\":{\"colorbar\":{\"outlinewidth\":0,\"ticks\":\"\"}},\"type\":\"scattergeo\"}],\"scattergl\":[{\"marker\":{\"colorbar\":{\"outlinewidth\":0,\"ticks\":\"\"}},\"type\":\"scattergl\"}],\"scattermapbox\":[{\"marker\":{\"colorbar\":{\"outlinewidth\":0,\"ticks\":\"\"}},\"type\":\"scattermapbox\"}],\"scatterpolar\":[{\"marker\":{\"colorbar\":{\"outlinewidth\":0,\"ticks\":\"\"}},\"type\":\"scatterpolar\"}],\"scatterpolargl\":[{\"marker\":{\"colorbar\":{\"outlinewidth\":0,\"ticks\":\"\"}},\"type\":\"scatterpolargl\"}],\"scatterternary\":[{\"marker\":{\"colorbar\":{\"outlinewidth\":0,\"ticks\":\"\"}},\"type\":\"scatterternary\"}],\"surface\":[{\"colorbar\":{\"outlinewidth\":0,\"ticks\":\"\"},\"colorscale\":[[0.0,\"#0d0887\"],[0.1111111111111111,\"#46039f\"],[0.2222222222222222,\"#7201a8\"],[0.3333333333333333,\"#9c179e\"],[0.4444444444444444,\"#bd3786\"],[0.5555555555555556,\"#d8576b\"],[0.6666666666666666,\"#ed7953\"],[0.7777777777777778,\"#fb9f3a\"],[0.8888888888888888,\"#fdca26\"],[1.0,\"#f0f921\"]],\"type\":\"surface\"}],\"table\":[{\"cells\":{\"fill\":{\"color\":\"#EBF0F8\"},\"line\":{\"color\":\"white\"}},\"header\":{\"fill\":{\"color\":\"#C8D4E3\"},\"line\":{\"color\":\"white\"}},\"type\":\"table\"}]},\"layout\":{\"annotationdefaults\":{\"arrowcolor\":\"#2a3f5f\",\"arrowhead\":0,\"arrowwidth\":1},\"autotypenumbers\":\"strict\",\"coloraxis\":{\"colorbar\":{\"outlinewidth\":0,\"ticks\":\"\"}},\"colorscale\":{\"diverging\":[[0,\"#8e0152\"],[0.1,\"#c51b7d\"],[0.2,\"#de77ae\"],[0.3,\"#f1b6da\"],[0.4,\"#fde0ef\"],[0.5,\"#f7f7f7\"],[0.6,\"#e6f5d0\"],[0.7,\"#b8e186\"],[0.8,\"#7fbc41\"],[0.9,\"#4d9221\"],[1,\"#276419\"]],\"sequential\":[[0.0,\"#0d0887\"],[0.1111111111111111,\"#46039f\"],[0.2222222222222222,\"#7201a8\"],[0.3333333333333333,\"#9c179e\"],[0.4444444444444444,\"#bd3786\"],[0.5555555555555556,\"#d8576b\"],[0.6666666666666666,\"#ed7953\"],[0.7777777777777778,\"#fb9f3a\"],[0.8888888888888888,\"#fdca26\"],[1.0,\"#f0f921\"]],\"sequentialminus\":[[0.0,\"#0d0887\"],[0.1111111111111111,\"#46039f\"],[0.2222222222222222,\"#7201a8\"],[0.3333333333333333,\"#9c179e\"],[0.4444444444444444,\"#bd3786\"],[0.5555555555555556,\"#d8576b\"],[0.6666666666666666,\"#ed7953\"],[0.7777777777777778,\"#fb9f3a\"],[0.8888888888888888,\"#fdca26\"],[1.0,\"#f0f921\"]]},\"colorway\":[\"#636efa\",\"#EF553B\",\"#00cc96\",\"#ab63fa\",\"#FFA15A\",\"#19d3f3\",\"#FF6692\",\"#B6E880\",\"#FF97FF\",\"#FECB52\"],\"font\":{\"color\":\"#2a3f5f\"},\"geo\":{\"bgcolor\":\"white\",\"lakecolor\":\"white\",\"landcolor\":\"#E5ECF6\",\"showlakes\":true,\"showland\":true,\"subunitcolor\":\"white\"},\"hoverlabel\":{\"align\":\"left\"},\"hovermode\":\"closest\",\"mapbox\":{\"style\":\"light\"},\"paper_bgcolor\":\"white\",\"plot_bgcolor\":\"#E5ECF6\",\"polar\":{\"angularaxis\":{\"gridcolor\":\"white\",\"linecolor\":\"white\",\"ticks\":\"\"},\"bgcolor\":\"#E5ECF6\",\"radialaxis\":{\"gridcolor\":\"white\",\"linecolor\":\"white\",\"ticks\":\"\"}},\"scene\":{\"xaxis\":{\"backgroundcolor\":\"#E5ECF6\",\"gridcolor\":\"white\",\"gridwidth\":2,\"linecolor\":\"white\",\"showbackground\":true,\"ticks\":\"\",\"zerolinecolor\":\"white\"},\"yaxis\":{\"backgroundcolor\":\"#E5ECF6\",\"gridcolor\":\"white\",\"gridwidth\":2,\"linecolor\":\"white\",\"showbackground\":true,\"ticks\":\"\",\"zerolinecolor\":\"white\"},\"zaxis\":{\"backgroundcolor\":\"#E5ECF6\",\"gridcolor\":\"white\",\"gridwidth\":2,\"linecolor\":\"white\",\"showbackground\":true,\"ticks\":\"\",\"zerolinecolor\":\"white\"}},\"shapedefaults\":{\"line\":{\"color\":\"#2a3f5f\"}},\"ternary\":{\"aaxis\":{\"gridcolor\":\"white\",\"linecolor\":\"white\",\"ticks\":\"\"},\"baxis\":{\"gridcolor\":\"white\",\"linecolor\":\"white\",\"ticks\":\"\"},\"bgcolor\":\"#E5ECF6\",\"caxis\":{\"gridcolor\":\"white\",\"linecolor\":\"white\",\"ticks\":\"\"}},\"title\":{\"x\":0.05},\"xaxis\":{\"automargin\":true,\"gridcolor\":\"white\",\"linecolor\":\"white\",\"ticks\":\"\",\"title\":{\"standoff\":15},\"zerolinecolor\":\"white\",\"zerolinewidth\":2},\"yaxis\":{\"automargin\":true,\"gridcolor\":\"white\",\"linecolor\":\"white\",\"ticks\":\"\",\"title\":{\"standoff\":15},\"zerolinecolor\":\"white\",\"zerolinewidth\":2}}}},                        {\"responsive\": true}                    ).then(function(){\n",
              "                            \n",
              "var gd = document.getElementById('a7ce9349-af3c-49b5-980e-bbcdecff68b7');\n",
              "var x = new MutationObserver(function (mutations, observer) {{\n",
              "        var display = window.getComputedStyle(gd).display;\n",
              "        if (!display || display === 'none') {{\n",
              "            console.log([gd, 'removed!']);\n",
              "            Plotly.purge(gd);\n",
              "            observer.disconnect();\n",
              "        }}\n",
              "}});\n",
              "\n",
              "// Listen for the removal of the full notebook cells\n",
              "var notebookContainer = gd.closest('#notebook-container');\n",
              "if (notebookContainer) {{\n",
              "    x.observe(notebookContainer, {childList: true});\n",
              "}}\n",
              "\n",
              "// Listen for the clearing of the current output cell\n",
              "var outputEl = gd.closest('.output');\n",
              "if (outputEl) {{\n",
              "    x.observe(outputEl, {childList: true});\n",
              "}}\n",
              "\n",
              "                        })                };                            </script>        </div>\n",
              "</body>\n",
              "</html>"
            ]
          },
          "metadata": {}
        }
      ]
    },
    {
      "cell_type": "markdown",
      "source": [
        "전반적인 분석\n",
        "\n"
      ],
      "metadata": {
        "id": "01zf05O2_Gf_"
      }
    },
    {
      "cell_type": "code",
      "source": [
        "#참고 자료(공식)\n",
        "#plotly express -> https://plotly.com/python/plotly-express/\n",
        "#plotly subplot -> https://plotly.com/python/subplots/#multiple-subplots\n",
        "#plotly line&scatter -> https://plotly.com/python/line-and-scatter/\n",
        "#plotly piechart -> https://plotly.com/python/pie-charts/\n",
        "\n",
        "#참고 자료(그외)\n",
        "#https://tariat.tistory.com/749\n",
        "\n",
        "#line, pie 들어갈 수 있게 1X2의 figure생성 + bar!\n",
        "# specs -> https://stackoverflow.com/questions/54975791/how-to-subplot-pie-chart-in-plotly\n",
        "fig = make_subplots(rows=2, cols=2, specs=[[{'type':'scatter'}, {'type': 'pie', 'rowspan':2}], [{'type':'bar'}, None]],column_widths=[0.7, 0.3],\n",
        "                    subplot_titles=(\"연도별 분석\",\"업태별 분석\", \"처분명 분석\"))\n",
        "\n",
        "\n",
        "#line 데이터 정리\n",
        "data_dates = dfRegular['처분일자'].value_counts()\n",
        "dates = data_dates.to_frame(name='위반횟수')\n",
        "dates.index.name = '처분일자'\n",
        "dates.sort_values(by=['처분일자'])\n",
        "dates = dates.resample('M').sum()\n",
        "\n",
        "#line 그래프 그려줌\n",
        "fig.add_trace(go.Scatter(x=dates.index, y=dates['위반횟수']),\n",
        "              row=1, col=1)\n",
        "\n",
        "#line 그래프 x, y축 타이틀 설정\n",
        "#설정방법 -> https://stackoverflow.com/questions/65779052/how-to-set-axis-label-in-subplots-with-dash/65779105\n",
        "fig.update_xaxes(title_text=\"날짜\", row=1, col=1)\n",
        "fig.update_yaxes(title_text=\"횟수\", row=1, col=1)\n",
        "\n",
        "#pie 데이터 정리\n",
        "dfRegula_count = dfRegular.groupby(by=['업태명'], as_index=False).count()\n",
        "frequency = dfRegula_count['Year'];\n",
        "label = dfRegula_count['업태명'];\n",
        "\n",
        "#pie 그래프 그려줌\n",
        "fig.add_trace(go.Pie(labels=label, values=frequency, ),\n",
        "              row=1, col=2)\n",
        "fig.update_traces(textposition='inside', row=1, col=2)\n",
        "\n",
        "#bar 데이터 정리\n",
        "data_dates = dfRegular['처분명수정'].value_counts()\n",
        "dates = data_dates.to_frame(name='처분명수정')\n",
        "\n",
        "#bar 그래프 그려줌\n",
        "k=[15,30,45,60,75,90]\n",
        "fig.add_trace(go.Bar(x=dates.index, y=dates['처분명수정'],\n",
        "                             marker=dict(color = k, colorscale='viridis')),\n",
        "              row=2, col=1)\n",
        "\n",
        "fig.show()"
      ],
      "metadata": {
        "colab": {
          "base_uri": "https://localhost:8080/",
          "height": 542
        },
        "id": "ca_emA2C6QZT",
        "outputId": "8fa4e79b-79f4-4b56-9273-97b8e18eb79a"
      },
      "execution_count": 20,
      "outputs": [
        {
          "output_type": "display_data",
          "data": {
            "text/html": [
              "<html>\n",
              "<head><meta charset=\"utf-8\" /></head>\n",
              "<body>\n",
              "    <div>            <script src=\"https://cdnjs.cloudflare.com/ajax/libs/mathjax/2.7.5/MathJax.js?config=TeX-AMS-MML_SVG\"></script><script type=\"text/javascript\">if (window.MathJax) {MathJax.Hub.Config({SVG: {font: \"STIX-Web\"}});}</script>                <script type=\"text/javascript\">window.PlotlyConfig = {MathJaxConfig: 'local'};</script>\n",
              "        <script src=\"https://cdn.plot.ly/plotly-2.6.3.min.js\"></script>                <div id=\"9d2795e0-8cae-411c-b54c-2a83905a3c84\" class=\"plotly-graph-div\" style=\"height:525px; width:100%;\"></div>            <script type=\"text/javascript\">                                    window.PLOTLYENV=window.PLOTLYENV || {};                                    if (document.getElementById(\"9d2795e0-8cae-411c-b54c-2a83905a3c84\")) {                    Plotly.newPlot(                        \"9d2795e0-8cae-411c-b54c-2a83905a3c84\",                        [{\"x\":[\"2000-01-31T00:00:00\",\"2000-02-29T00:00:00\",\"2000-03-31T00:00:00\",\"2000-04-30T00:00:00\",\"2000-05-31T00:00:00\",\"2000-06-30T00:00:00\",\"2000-07-31T00:00:00\",\"2000-08-31T00:00:00\",\"2000-09-30T00:00:00\",\"2000-10-31T00:00:00\",\"2000-11-30T00:00:00\",\"2000-12-31T00:00:00\",\"2001-01-31T00:00:00\",\"2001-02-28T00:00:00\",\"2001-03-31T00:00:00\",\"2001-04-30T00:00:00\",\"2001-05-31T00:00:00\",\"2001-06-30T00:00:00\",\"2001-07-31T00:00:00\",\"2001-08-31T00:00:00\",\"2001-09-30T00:00:00\",\"2001-10-31T00:00:00\",\"2001-11-30T00:00:00\",\"2001-12-31T00:00:00\",\"2002-01-31T00:00:00\",\"2002-02-28T00:00:00\",\"2002-03-31T00:00:00\",\"2002-04-30T00:00:00\",\"2002-05-31T00:00:00\",\"2002-06-30T00:00:00\",\"2002-07-31T00:00:00\",\"2002-08-31T00:00:00\",\"2002-09-30T00:00:00\",\"2002-10-31T00:00:00\",\"2002-11-30T00:00:00\",\"2002-12-31T00:00:00\",\"2003-01-31T00:00:00\",\"2003-02-28T00:00:00\",\"2003-03-31T00:00:00\",\"2003-04-30T00:00:00\",\"2003-05-31T00:00:00\",\"2003-06-30T00:00:00\",\"2003-07-31T00:00:00\",\"2003-08-31T00:00:00\",\"2003-09-30T00:00:00\",\"2003-10-31T00:00:00\",\"2003-11-30T00:00:00\",\"2003-12-31T00:00:00\",\"2004-01-31T00:00:00\",\"2004-02-29T00:00:00\",\"2004-03-31T00:00:00\",\"2004-04-30T00:00:00\",\"2004-05-31T00:00:00\",\"2004-06-30T00:00:00\",\"2004-07-31T00:00:00\",\"2004-08-31T00:00:00\",\"2004-09-30T00:00:00\",\"2004-10-31T00:00:00\",\"2004-11-30T00:00:00\",\"2004-12-31T00:00:00\",\"2005-01-31T00:00:00\",\"2005-02-28T00:00:00\",\"2005-03-31T00:00:00\",\"2005-04-30T00:00:00\",\"2005-05-31T00:00:00\",\"2005-06-30T00:00:00\",\"2005-07-31T00:00:00\",\"2005-08-31T00:00:00\",\"2005-09-30T00:00:00\",\"2005-10-31T00:00:00\",\"2005-11-30T00:00:00\",\"2005-12-31T00:00:00\",\"2006-01-31T00:00:00\",\"2006-02-28T00:00:00\",\"2006-03-31T00:00:00\",\"2006-04-30T00:00:00\",\"2006-05-31T00:00:00\",\"2006-06-30T00:00:00\",\"2006-07-31T00:00:00\",\"2006-08-31T00:00:00\",\"2006-09-30T00:00:00\",\"2006-10-31T00:00:00\",\"2006-11-30T00:00:00\",\"2006-12-31T00:00:00\",\"2007-01-31T00:00:00\",\"2007-02-28T00:00:00\",\"2007-03-31T00:00:00\",\"2007-04-30T00:00:00\",\"2007-05-31T00:00:00\",\"2007-06-30T00:00:00\",\"2007-07-31T00:00:00\",\"2007-08-31T00:00:00\",\"2007-09-30T00:00:00\",\"2007-10-31T00:00:00\",\"2007-11-30T00:00:00\",\"2007-12-31T00:00:00\",\"2008-01-31T00:00:00\",\"2008-02-29T00:00:00\",\"2008-03-31T00:00:00\",\"2008-04-30T00:00:00\",\"2008-05-31T00:00:00\",\"2008-06-30T00:00:00\",\"2008-07-31T00:00:00\",\"2008-08-31T00:00:00\",\"2008-09-30T00:00:00\",\"2008-10-31T00:00:00\",\"2008-11-30T00:00:00\",\"2008-12-31T00:00:00\",\"2009-01-31T00:00:00\",\"2009-02-28T00:00:00\",\"2009-03-31T00:00:00\",\"2009-04-30T00:00:00\",\"2009-05-31T00:00:00\",\"2009-06-30T00:00:00\",\"2009-07-31T00:00:00\",\"2009-08-31T00:00:00\",\"2009-09-30T00:00:00\",\"2009-10-31T00:00:00\",\"2009-11-30T00:00:00\",\"2009-12-31T00:00:00\",\"2010-01-31T00:00:00\",\"2010-02-28T00:00:00\",\"2010-03-31T00:00:00\",\"2010-04-30T00:00:00\",\"2010-05-31T00:00:00\",\"2010-06-30T00:00:00\",\"2010-07-31T00:00:00\",\"2010-08-31T00:00:00\",\"2010-09-30T00:00:00\",\"2010-10-31T00:00:00\",\"2010-11-30T00:00:00\",\"2010-12-31T00:00:00\",\"2011-01-31T00:00:00\",\"2011-02-28T00:00:00\",\"2011-03-31T00:00:00\",\"2011-04-30T00:00:00\",\"2011-05-31T00:00:00\",\"2011-06-30T00:00:00\",\"2011-07-31T00:00:00\",\"2011-08-31T00:00:00\",\"2011-09-30T00:00:00\",\"2011-10-31T00:00:00\",\"2011-11-30T00:00:00\",\"2011-12-31T00:00:00\",\"2012-01-31T00:00:00\",\"2012-02-29T00:00:00\",\"2012-03-31T00:00:00\",\"2012-04-30T00:00:00\",\"2012-05-31T00:00:00\",\"2012-06-30T00:00:00\",\"2012-07-31T00:00:00\",\"2012-08-31T00:00:00\",\"2012-09-30T00:00:00\",\"2012-10-31T00:00:00\",\"2012-11-30T00:00:00\",\"2012-12-31T00:00:00\",\"2013-01-31T00:00:00\",\"2013-02-28T00:00:00\",\"2013-03-31T00:00:00\",\"2013-04-30T00:00:00\",\"2013-05-31T00:00:00\",\"2013-06-30T00:00:00\",\"2013-07-31T00:00:00\",\"2013-08-31T00:00:00\",\"2013-09-30T00:00:00\",\"2013-10-31T00:00:00\",\"2013-11-30T00:00:00\",\"2013-12-31T00:00:00\",\"2014-01-31T00:00:00\",\"2014-02-28T00:00:00\",\"2014-03-31T00:00:00\",\"2014-04-30T00:00:00\",\"2014-05-31T00:00:00\",\"2014-06-30T00:00:00\",\"2014-07-31T00:00:00\",\"2014-08-31T00:00:00\",\"2014-09-30T00:00:00\",\"2014-10-31T00:00:00\",\"2014-11-30T00:00:00\",\"2014-12-31T00:00:00\",\"2015-01-31T00:00:00\",\"2015-02-28T00:00:00\",\"2015-03-31T00:00:00\",\"2015-04-30T00:00:00\",\"2015-05-31T00:00:00\",\"2015-06-30T00:00:00\",\"2015-07-31T00:00:00\",\"2015-08-31T00:00:00\",\"2015-09-30T00:00:00\",\"2015-10-31T00:00:00\",\"2015-11-30T00:00:00\",\"2015-12-31T00:00:00\",\"2016-01-31T00:00:00\",\"2016-02-29T00:00:00\",\"2016-03-31T00:00:00\",\"2016-04-30T00:00:00\",\"2016-05-31T00:00:00\",\"2016-06-30T00:00:00\",\"2016-07-31T00:00:00\",\"2016-08-31T00:00:00\",\"2016-09-30T00:00:00\",\"2016-10-31T00:00:00\",\"2016-11-30T00:00:00\",\"2016-12-31T00:00:00\",\"2017-01-31T00:00:00\",\"2017-02-28T00:00:00\",\"2017-03-31T00:00:00\",\"2017-04-30T00:00:00\",\"2017-05-31T00:00:00\",\"2017-06-30T00:00:00\",\"2017-07-31T00:00:00\",\"2017-08-31T00:00:00\",\"2017-09-30T00:00:00\",\"2017-10-31T00:00:00\",\"2017-11-30T00:00:00\",\"2017-12-31T00:00:00\",\"2018-01-31T00:00:00\",\"2018-02-28T00:00:00\",\"2018-03-31T00:00:00\",\"2018-04-30T00:00:00\",\"2018-05-31T00:00:00\",\"2018-06-30T00:00:00\",\"2018-07-31T00:00:00\",\"2018-08-31T00:00:00\",\"2018-09-30T00:00:00\",\"2018-10-31T00:00:00\",\"2018-11-30T00:00:00\",\"2018-12-31T00:00:00\",\"2019-01-31T00:00:00\",\"2019-02-28T00:00:00\",\"2019-03-31T00:00:00\",\"2019-04-30T00:00:00\",\"2019-05-31T00:00:00\",\"2019-06-30T00:00:00\",\"2019-07-31T00:00:00\",\"2019-08-31T00:00:00\",\"2019-09-30T00:00:00\",\"2019-10-31T00:00:00\",\"2019-11-30T00:00:00\",\"2019-12-31T00:00:00\",\"2020-01-31T00:00:00\",\"2020-02-29T00:00:00\",\"2020-03-31T00:00:00\",\"2020-04-30T00:00:00\",\"2020-05-31T00:00:00\",\"2020-06-30T00:00:00\",\"2020-07-31T00:00:00\",\"2020-08-31T00:00:00\",\"2020-09-30T00:00:00\",\"2020-10-31T00:00:00\",\"2020-11-30T00:00:00\",\"2020-12-31T00:00:00\"],\"y\":[1,0,0,0,0,1,0,0,0,0,1,0,0,0,0,0,0,0,0,0,1,10,15,15,26,23,16,13,55,38,15,8,4,14,16,82,8,9,20,13,7,12,21,13,12,6,11,113,9,7,7,16,13,13,25,14,14,10,13,68,1,2,6,13,5,10,6,11,13,14,4,6,8,4,6,9,6,99,9,16,15,13,22,3,21,30,16,6,77,28,14,19,8,7,26,10,23,50,9,13,6,8,17,10,8,8,8,8,6,9,16,8,3,3,13,7,17,16,16,17,18,5,27,13,16,18,32,35,13,21,14,21,34,12,39,10,15,51,47,21,26,21,47,28,25,32,30,8,15,21,32,47,13,18,25,36,36,16,37,24,19,7,26,23,10,15,20,22,10,9,10,84,21,41,32,16,10,14,15,16,12,34,7,6,10,15,9,11,23,18,18,21,5,7,49,48,17,12,11,14,12,17,17,13,4,7,73,17,14,17,10,19,15,8,15,20,26,6,40,14,26,18,12,22,7,8,25,22,12,19,39,24,14,19,23,9,35,16,31,20,18,14,7,13,9,51,4,2,5,2,3,5],\"type\":\"scatter\",\"xaxis\":\"x\",\"yaxis\":\"y\"},{\"labels\":[\"\\uac10\\uc131\\uc8fc\\uc810\",\"\\uacbd\\uc591\\uc2dd\",\"\\uae30\\ud0c0\",\"\\uae40\\ubc25(\\ub3c4\\uc2dc\\ub77d)\",\"\\uae4c\\ud398\",\"\\ub77c\\uc774\\ube0c\\uce74\\ud398\",\"\\ubd84\\uc2dd\",\"\\ubdd4\\ud398\\uc2dd\",\"\\uc2dd\\uc721(\\uc22f\\ubd88\\uad6c\\uc774)\",\"\\uc678\\uad6d\\uc74c\\uc2dd\\uc804\\ubb38\\uc810(\\uc778\\ub3c4\\ud0dc\\uad6d\\ub4f1)\",\"\\uc77c\\uc2dd\",\"\\uc804\\ud1b5\\ucc3b\\uc9d1\",\"\\uc815\\uc885/\\ub300\\ud3ec\\uc9d1/\\uc18c\\uc8fc\\ubc29\",\"\\uc911\\uad6d\\uc2dd\",\"\\ud0a4\\uc988\\uce74\\ud398\",\"\\ud1b5\\ub2ed(\\uce58\\ud0a8)\",\"\\ud328\\ubc00\\ub9ac\\ub808\\uc2a4\\ud2b8\\ub791\",\"\\ud328\\uc2a4\\ud2b8\\ud478\\ub4dc\",\"\\ud55c\\uc2dd\",\"\\ud638\\ud504/\\ud1b5\\ub2ed\",\"\\ud68c\\uc9d1\"],\"values\":[86,206,202,12,43,26,610,30,41,3,169,2,18,241,7,223,2,45,1634,718,16],\"type\":\"pie\",\"domain\":{\"x\":[0.73,1.0],\"y\":[0.0,1.0]},\"textposition\":\"inside\"},{\"marker\":{\"color\":[15,30,45,60,75,90],\"colorscale\":[[0.0,\"#440154\"],[0.1111111111111111,\"#482878\"],[0.2222222222222222,\"#3e4989\"],[0.3333333333333333,\"#31688e\"],[0.4444444444444444,\"#26828e\"],[0.5555555555555556,\"#1f9e89\"],[0.6666666666666666,\"#35b779\"],[0.7777777777777778,\"#6ece58\"],[0.8888888888888888,\"#b5de2b\"],[1.0,\"#fde725\"]]},\"x\":[\"\\uacfc\\ud0dc\\ub8cc\",\"\\uc601\\uc5c5\\uc815\\uc9c0\",\"\\uc601\\uc5c5\\uc18c\\ud3d0\\uc1c4\",\"\\uc2dc\\uc815\\uba85\\ub839\",\"\\uacfc\\uc9d5\\uae08\",\"\\uae30\\ud0c0\"],\"y\":[1542,1031,766,588,263,144],\"type\":\"bar\",\"xaxis\":\"x2\",\"yaxis\":\"y2\"}],                        {\"template\":{\"data\":{\"bar\":[{\"error_x\":{\"color\":\"#2a3f5f\"},\"error_y\":{\"color\":\"#2a3f5f\"},\"marker\":{\"line\":{\"color\":\"#E5ECF6\",\"width\":0.5},\"pattern\":{\"fillmode\":\"overlay\",\"size\":10,\"solidity\":0.2}},\"type\":\"bar\"}],\"barpolar\":[{\"marker\":{\"line\":{\"color\":\"#E5ECF6\",\"width\":0.5},\"pattern\":{\"fillmode\":\"overlay\",\"size\":10,\"solidity\":0.2}},\"type\":\"barpolar\"}],\"carpet\":[{\"aaxis\":{\"endlinecolor\":\"#2a3f5f\",\"gridcolor\":\"white\",\"linecolor\":\"white\",\"minorgridcolor\":\"white\",\"startlinecolor\":\"#2a3f5f\"},\"baxis\":{\"endlinecolor\":\"#2a3f5f\",\"gridcolor\":\"white\",\"linecolor\":\"white\",\"minorgridcolor\":\"white\",\"startlinecolor\":\"#2a3f5f\"},\"type\":\"carpet\"}],\"choropleth\":[{\"colorbar\":{\"outlinewidth\":0,\"ticks\":\"\"},\"type\":\"choropleth\"}],\"contour\":[{\"colorbar\":{\"outlinewidth\":0,\"ticks\":\"\"},\"colorscale\":[[0.0,\"#0d0887\"],[0.1111111111111111,\"#46039f\"],[0.2222222222222222,\"#7201a8\"],[0.3333333333333333,\"#9c179e\"],[0.4444444444444444,\"#bd3786\"],[0.5555555555555556,\"#d8576b\"],[0.6666666666666666,\"#ed7953\"],[0.7777777777777778,\"#fb9f3a\"],[0.8888888888888888,\"#fdca26\"],[1.0,\"#f0f921\"]],\"type\":\"contour\"}],\"contourcarpet\":[{\"colorbar\":{\"outlinewidth\":0,\"ticks\":\"\"},\"type\":\"contourcarpet\"}],\"heatmap\":[{\"colorbar\":{\"outlinewidth\":0,\"ticks\":\"\"},\"colorscale\":[[0.0,\"#0d0887\"],[0.1111111111111111,\"#46039f\"],[0.2222222222222222,\"#7201a8\"],[0.3333333333333333,\"#9c179e\"],[0.4444444444444444,\"#bd3786\"],[0.5555555555555556,\"#d8576b\"],[0.6666666666666666,\"#ed7953\"],[0.7777777777777778,\"#fb9f3a\"],[0.8888888888888888,\"#fdca26\"],[1.0,\"#f0f921\"]],\"type\":\"heatmap\"}],\"heatmapgl\":[{\"colorbar\":{\"outlinewidth\":0,\"ticks\":\"\"},\"colorscale\":[[0.0,\"#0d0887\"],[0.1111111111111111,\"#46039f\"],[0.2222222222222222,\"#7201a8\"],[0.3333333333333333,\"#9c179e\"],[0.4444444444444444,\"#bd3786\"],[0.5555555555555556,\"#d8576b\"],[0.6666666666666666,\"#ed7953\"],[0.7777777777777778,\"#fb9f3a\"],[0.8888888888888888,\"#fdca26\"],[1.0,\"#f0f921\"]],\"type\":\"heatmapgl\"}],\"histogram\":[{\"marker\":{\"pattern\":{\"fillmode\":\"overlay\",\"size\":10,\"solidity\":0.2}},\"type\":\"histogram\"}],\"histogram2d\":[{\"colorbar\":{\"outlinewidth\":0,\"ticks\":\"\"},\"colorscale\":[[0.0,\"#0d0887\"],[0.1111111111111111,\"#46039f\"],[0.2222222222222222,\"#7201a8\"],[0.3333333333333333,\"#9c179e\"],[0.4444444444444444,\"#bd3786\"],[0.5555555555555556,\"#d8576b\"],[0.6666666666666666,\"#ed7953\"],[0.7777777777777778,\"#fb9f3a\"],[0.8888888888888888,\"#fdca26\"],[1.0,\"#f0f921\"]],\"type\":\"histogram2d\"}],\"histogram2dcontour\":[{\"colorbar\":{\"outlinewidth\":0,\"ticks\":\"\"},\"colorscale\":[[0.0,\"#0d0887\"],[0.1111111111111111,\"#46039f\"],[0.2222222222222222,\"#7201a8\"],[0.3333333333333333,\"#9c179e\"],[0.4444444444444444,\"#bd3786\"],[0.5555555555555556,\"#d8576b\"],[0.6666666666666666,\"#ed7953\"],[0.7777777777777778,\"#fb9f3a\"],[0.8888888888888888,\"#fdca26\"],[1.0,\"#f0f921\"]],\"type\":\"histogram2dcontour\"}],\"mesh3d\":[{\"colorbar\":{\"outlinewidth\":0,\"ticks\":\"\"},\"type\":\"mesh3d\"}],\"parcoords\":[{\"line\":{\"colorbar\":{\"outlinewidth\":0,\"ticks\":\"\"}},\"type\":\"parcoords\"}],\"pie\":[{\"automargin\":true,\"type\":\"pie\"}],\"scatter\":[{\"marker\":{\"colorbar\":{\"outlinewidth\":0,\"ticks\":\"\"}},\"type\":\"scatter\"}],\"scatter3d\":[{\"line\":{\"colorbar\":{\"outlinewidth\":0,\"ticks\":\"\"}},\"marker\":{\"colorbar\":{\"outlinewidth\":0,\"ticks\":\"\"}},\"type\":\"scatter3d\"}],\"scattercarpet\":[{\"marker\":{\"colorbar\":{\"outlinewidth\":0,\"ticks\":\"\"}},\"type\":\"scattercarpet\"}],\"scattergeo\":[{\"marker\":{\"colorbar\":{\"outlinewidth\":0,\"ticks\":\"\"}},\"type\":\"scattergeo\"}],\"scattergl\":[{\"marker\":{\"colorbar\":{\"outlinewidth\":0,\"ticks\":\"\"}},\"type\":\"scattergl\"}],\"scattermapbox\":[{\"marker\":{\"colorbar\":{\"outlinewidth\":0,\"ticks\":\"\"}},\"type\":\"scattermapbox\"}],\"scatterpolar\":[{\"marker\":{\"colorbar\":{\"outlinewidth\":0,\"ticks\":\"\"}},\"type\":\"scatterpolar\"}],\"scatterpolargl\":[{\"marker\":{\"colorbar\":{\"outlinewidth\":0,\"ticks\":\"\"}},\"type\":\"scatterpolargl\"}],\"scatterternary\":[{\"marker\":{\"colorbar\":{\"outlinewidth\":0,\"ticks\":\"\"}},\"type\":\"scatterternary\"}],\"surface\":[{\"colorbar\":{\"outlinewidth\":0,\"ticks\":\"\"},\"colorscale\":[[0.0,\"#0d0887\"],[0.1111111111111111,\"#46039f\"],[0.2222222222222222,\"#7201a8\"],[0.3333333333333333,\"#9c179e\"],[0.4444444444444444,\"#bd3786\"],[0.5555555555555556,\"#d8576b\"],[0.6666666666666666,\"#ed7953\"],[0.7777777777777778,\"#fb9f3a\"],[0.8888888888888888,\"#fdca26\"],[1.0,\"#f0f921\"]],\"type\":\"surface\"}],\"table\":[{\"cells\":{\"fill\":{\"color\":\"#EBF0F8\"},\"line\":{\"color\":\"white\"}},\"header\":{\"fill\":{\"color\":\"#C8D4E3\"},\"line\":{\"color\":\"white\"}},\"type\":\"table\"}]},\"layout\":{\"annotationdefaults\":{\"arrowcolor\":\"#2a3f5f\",\"arrowhead\":0,\"arrowwidth\":1},\"autotypenumbers\":\"strict\",\"coloraxis\":{\"colorbar\":{\"outlinewidth\":0,\"ticks\":\"\"}},\"colorscale\":{\"diverging\":[[0,\"#8e0152\"],[0.1,\"#c51b7d\"],[0.2,\"#de77ae\"],[0.3,\"#f1b6da\"],[0.4,\"#fde0ef\"],[0.5,\"#f7f7f7\"],[0.6,\"#e6f5d0\"],[0.7,\"#b8e186\"],[0.8,\"#7fbc41\"],[0.9,\"#4d9221\"],[1,\"#276419\"]],\"sequential\":[[0.0,\"#0d0887\"],[0.1111111111111111,\"#46039f\"],[0.2222222222222222,\"#7201a8\"],[0.3333333333333333,\"#9c179e\"],[0.4444444444444444,\"#bd3786\"],[0.5555555555555556,\"#d8576b\"],[0.6666666666666666,\"#ed7953\"],[0.7777777777777778,\"#fb9f3a\"],[0.8888888888888888,\"#fdca26\"],[1.0,\"#f0f921\"]],\"sequentialminus\":[[0.0,\"#0d0887\"],[0.1111111111111111,\"#46039f\"],[0.2222222222222222,\"#7201a8\"],[0.3333333333333333,\"#9c179e\"],[0.4444444444444444,\"#bd3786\"],[0.5555555555555556,\"#d8576b\"],[0.6666666666666666,\"#ed7953\"],[0.7777777777777778,\"#fb9f3a\"],[0.8888888888888888,\"#fdca26\"],[1.0,\"#f0f921\"]]},\"colorway\":[\"#636efa\",\"#EF553B\",\"#00cc96\",\"#ab63fa\",\"#FFA15A\",\"#19d3f3\",\"#FF6692\",\"#B6E880\",\"#FF97FF\",\"#FECB52\"],\"font\":{\"color\":\"#2a3f5f\"},\"geo\":{\"bgcolor\":\"white\",\"lakecolor\":\"white\",\"landcolor\":\"#E5ECF6\",\"showlakes\":true,\"showland\":true,\"subunitcolor\":\"white\"},\"hoverlabel\":{\"align\":\"left\"},\"hovermode\":\"closest\",\"mapbox\":{\"style\":\"light\"},\"paper_bgcolor\":\"white\",\"plot_bgcolor\":\"#E5ECF6\",\"polar\":{\"angularaxis\":{\"gridcolor\":\"white\",\"linecolor\":\"white\",\"ticks\":\"\"},\"bgcolor\":\"#E5ECF6\",\"radialaxis\":{\"gridcolor\":\"white\",\"linecolor\":\"white\",\"ticks\":\"\"}},\"scene\":{\"xaxis\":{\"backgroundcolor\":\"#E5ECF6\",\"gridcolor\":\"white\",\"gridwidth\":2,\"linecolor\":\"white\",\"showbackground\":true,\"ticks\":\"\",\"zerolinecolor\":\"white\"},\"yaxis\":{\"backgroundcolor\":\"#E5ECF6\",\"gridcolor\":\"white\",\"gridwidth\":2,\"linecolor\":\"white\",\"showbackground\":true,\"ticks\":\"\",\"zerolinecolor\":\"white\"},\"zaxis\":{\"backgroundcolor\":\"#E5ECF6\",\"gridcolor\":\"white\",\"gridwidth\":2,\"linecolor\":\"white\",\"showbackground\":true,\"ticks\":\"\",\"zerolinecolor\":\"white\"}},\"shapedefaults\":{\"line\":{\"color\":\"#2a3f5f\"}},\"ternary\":{\"aaxis\":{\"gridcolor\":\"white\",\"linecolor\":\"white\",\"ticks\":\"\"},\"baxis\":{\"gridcolor\":\"white\",\"linecolor\":\"white\",\"ticks\":\"\"},\"bgcolor\":\"#E5ECF6\",\"caxis\":{\"gridcolor\":\"white\",\"linecolor\":\"white\",\"ticks\":\"\"}},\"title\":{\"x\":0.05},\"xaxis\":{\"automargin\":true,\"gridcolor\":\"white\",\"linecolor\":\"white\",\"ticks\":\"\",\"title\":{\"standoff\":15},\"zerolinecolor\":\"white\",\"zerolinewidth\":2},\"yaxis\":{\"automargin\":true,\"gridcolor\":\"white\",\"linecolor\":\"white\",\"ticks\":\"\",\"title\":{\"standoff\":15},\"zerolinecolor\":\"white\",\"zerolinewidth\":2}}},\"xaxis\":{\"anchor\":\"y\",\"domain\":[0.0,0.63],\"title\":{\"text\":\"\\ub0a0\\uc9dc\"}},\"yaxis\":{\"anchor\":\"x\",\"domain\":[0.625,1.0],\"title\":{\"text\":\"\\ud69f\\uc218\"}},\"xaxis2\":{\"anchor\":\"y2\",\"domain\":[0.0,0.63]},\"yaxis2\":{\"anchor\":\"x2\",\"domain\":[0.0,0.375]},\"annotations\":[{\"font\":{\"size\":16},\"showarrow\":false,\"text\":\"\\uc5f0\\ub3c4\\ubcc4 \\ubd84\\uc11d\",\"x\":0.315,\"xanchor\":\"center\",\"xref\":\"paper\",\"y\":1.0,\"yanchor\":\"bottom\",\"yref\":\"paper\"},{\"font\":{\"size\":16},\"showarrow\":false,\"text\":\"\\uc5c5\\ud0dc\\ubcc4 \\ubd84\\uc11d\",\"x\":0.865,\"xanchor\":\"center\",\"xref\":\"paper\",\"y\":1.0,\"yanchor\":\"bottom\",\"yref\":\"paper\"},{\"font\":{\"size\":16},\"showarrow\":false,\"text\":\"\\ucc98\\ubd84\\uba85 \\ubd84\\uc11d\",\"x\":0.315,\"xanchor\":\"center\",\"xref\":\"paper\",\"y\":0.375,\"yanchor\":\"bottom\",\"yref\":\"paper\"}]},                        {\"responsive\": true}                    ).then(function(){\n",
              "                            \n",
              "var gd = document.getElementById('9d2795e0-8cae-411c-b54c-2a83905a3c84');\n",
              "var x = new MutationObserver(function (mutations, observer) {{\n",
              "        var display = window.getComputedStyle(gd).display;\n",
              "        if (!display || display === 'none') {{\n",
              "            console.log([gd, 'removed!']);\n",
              "            Plotly.purge(gd);\n",
              "            observer.disconnect();\n",
              "        }}\n",
              "}});\n",
              "\n",
              "// Listen for the removal of the full notebook cells\n",
              "var notebookContainer = gd.closest('#notebook-container');\n",
              "if (notebookContainer) {{\n",
              "    x.observe(notebookContainer, {childList: true});\n",
              "}}\n",
              "\n",
              "// Listen for the clearing of the current output cell\n",
              "var outputEl = gd.closest('.output');\n",
              "if (outputEl) {{\n",
              "    x.observe(outputEl, {childList: true});\n",
              "}}\n",
              "\n",
              "                        })                };                            </script>        </div>\n",
              "</body>\n",
              "</html>"
            ]
          },
          "metadata": {}
        }
      ]
    },
    {
      "cell_type": "markdown",
      "source": [
        "위반 내용별 분석 -> Dash Board"
      ],
      "metadata": {
        "id": "FnCc42Y64al4"
      }
    },
    {
      "cell_type": "code",
      "source": [
        "#위반 내용별 분석을 위해, '기타'제외한 위반내용 뽑아옴\n",
        "\n",
        "available_in = dfRegular['위반내용수정'].unique()\n",
        "available_in = np.delete(available_in, np.where( available_in == '기타'))\n",
        "available_in"
      ],
      "metadata": {
        "colab": {
          "base_uri": "https://localhost:8080/"
        },
        "id": "21GnYP6anF8s",
        "outputId": "66ad7462-e864-481b-e526-7402a3804905"
      },
      "execution_count": 21,
      "outputs": [
        {
          "output_type": "execute_result",
          "data": {
            "text/plain": [
              "array(['청소년 주류 제공', '영업장관련', '이물혼입', '유통기한', '위생 불량', '건강진단 미필',\n",
              "       '유흥접객 행위', '세금 미체납', '변경신고 없이 시설변경', '위생교육 미이수', '사업자등록 말소',\n",
              "       '가격표 표시 누락', '원산지 미표기', '반주시설'], dtype=object)"
            ]
          },
          "metadata": {},
          "execution_count": 21
        }
      ]
    },
    {
      "cell_type": "code",
      "source": [
        "# 참고자료\n",
        "#4주차 과제 마지막 Dash\n",
        "#https://medium.com/plotly/introducing-dash-5ecf7191b503\n",
        "#위 링크 안 소스코드 -> https://gist.github.com/chriddyp/9b2b3e8a6c67697279d3724dce5dab3c\n",
        "\n",
        "#전체분석과 같은 툴로 대시보드 생성\n",
        "\n",
        "app = JupyterDash()\n",
        "\n",
        "app.layout = html.Div(id = 'parent',\n",
        "    children = [html.H1(id='title', children = '위반 종류별 분석',\n",
        "                            style = {'textAlign':'center', 'marginTop' : 40, 'marginBottom':40}),\n",
        "\n",
        "                    dcc.Dropdown(id='dropdown',\n",
        "                                   options = [{'label':i, 'value':i} for i in available_in],                                              \n",
        "                                   value='청소년 주류 제공'),\n",
        "                    dcc.Graph(id = 'plot')\n",
        "      ])\n",
        "\n",
        "@app.callback(Output(component_id='plot', component_property= 'figure'),\n",
        "              [Input(component_id='dropdown', component_property= 'value')])\n",
        "\n",
        "def graph_update(dropdown_value):\n",
        "  dfRegular_contents = dfRegular[dfRegular.위반내용수정==dropdown_value]\n",
        "\n",
        "  fig = make_subplots(rows=2, cols=2, specs=[[{'type':'scatter'}, {'type': 'pie', 'rowspan':2}], [{'type':'bar'}, None]],column_widths=[0.7, 0.3],\n",
        "                      subplot_titles=(\"연도별 분석\",\"업태별 분석\", \"처분명 분석\"))\n",
        "\n",
        "\n",
        "  #line 데이터 정리\n",
        "  data_dates = dfRegular_contents['처분일자'].value_counts()\n",
        "  dates = data_dates.to_frame(name='위반횟수')\n",
        "  dates.index.name = '처분일자'\n",
        "  dates.sort_values(by=['처분일자'])\n",
        "  dates = dates.resample('M').sum()\n",
        "\n",
        "  #line 그래프 그려줌\n",
        "  fig.add_trace(go.Scatter(x=dates.index, y=dates['위반횟수']),\n",
        "                row=1, col=1)\n",
        "\n",
        "  #line 그래프 x, y축 타이틀 설정\n",
        "  fig.update_xaxes(title_text=\"날짜\", row=1, col=1)\n",
        "  fig.update_yaxes(title_text=\"횟수\", row=1, col=1)\n",
        "\n",
        "  #pie 데이터 정리\n",
        "  dfRegula_count = dfRegular_contents.groupby(by=['업태명'], as_index=False).count()\n",
        "  frequency = dfRegula_count['Year'];\n",
        "  label = dfRegula_count['업태명'];\n",
        "\n",
        "  #pie 그래프 그려줌\n",
        "  fig.add_trace(go.Pie(labels=label, values=frequency, ),\n",
        "                row=1, col=2)\n",
        "  fig.update_traces(textposition='inside', row=1, col=2)\n",
        "\n",
        "  #bar 데이터 정리\n",
        "  data_dates = dfRegular_contents['처분명수정'].value_counts()\n",
        "  dates = data_dates.to_frame(name='처분명수정')\n",
        "\n",
        "  #bar 그래프 그려줌\n",
        "  k=[15,30,45,60,75,90]\n",
        "  fig.add_trace(go.Bar(x=dates.index, y=dates['처분명수정'],\n",
        "                               marker=dict(color = k, colorscale='viridis')),\n",
        "                row=2, col=1)\n",
        "  \n",
        "  return fig \n",
        "\n",
        "if __name__ == '__main__': \n",
        "    app.run_server()"
      ],
      "metadata": {
        "colab": {
          "base_uri": "https://localhost:8080/",
          "height": 52
        },
        "id": "9RvlDRzMe7N-",
        "outputId": "87fa40b0-89d9-4280-f76e-55465f9cee21"
      },
      "execution_count": 22,
      "outputs": [
        {
          "output_type": "stream",
          "name": "stdout",
          "text": [
            "Dash app running on:\n"
          ]
        },
        {
          "output_type": "display_data",
          "data": {
            "application/javascript": [
              "(async (port, path, text, element) => {\n",
              "    if (!google.colab.kernel.accessAllowed) {\n",
              "      return;\n",
              "    }\n",
              "    element.appendChild(document.createTextNode(''));\n",
              "    const url = await google.colab.kernel.proxyPort(port);\n",
              "    const anchor = document.createElement('a');\n",
              "    anchor.href = new URL(path, url).toString();\n",
              "    anchor.target = '_blank';\n",
              "    anchor.setAttribute('data-href', url + path);\n",
              "    anchor.textContent = text;\n",
              "    element.appendChild(anchor);\n",
              "  })(8050, \"/\", \"http://127.0.0.1:8050/\", window.element)"
            ],
            "text/plain": [
              "<IPython.core.display.Javascript object>"
            ]
          },
          "metadata": {}
        }
      ]
    },
    {
      "cell_type": "markdown",
      "source": [
        "##5. Learning Mahnine(Multiple Linear Regression)\n",
        "\n",
        "\n",
        "---\n",
        "\n",
        "* `위반내용` `처분명` `업태명`으로 어느 업종인지 예측할 수 있는 모델<br/><br/>"
      ],
      "metadata": {
        "id": "5JIECg2yjCTS"
      }
    },
    {
      "cell_type": "markdown",
      "source": [
        "세 변수의 연관도를 알아보기 위한 pairplot<br/>\n",
        "거의다 퍼져서 분포하지만, incodeing결과가 Ordinal이므로 뭉쳐있을시 판단 어려움"
      ],
      "metadata": {
        "id": "EkmxEG0oEwaK"
      }
    },
    {
      "cell_type": "code",
      "source": [
        "#incoding한 결과의 pairplot\n",
        "\n",
        "sns.pairplot(data=df[['위반내용_encoding', '처분명_encoding', '업태명_encoding']], height=3)"
      ],
      "metadata": {
        "colab": {
          "base_uri": "https://localhost:8080/",
          "height": 675
        },
        "id": "-buUwKFLAJHW",
        "outputId": "fd5f0a73-73c9-4b73-e996-67d194d642e1"
      },
      "execution_count": 114,
      "outputs": [
        {
          "output_type": "execute_result",
          "data": {
            "text/plain": [
              "<seaborn.axisgrid.PairGrid at 0x7f367bd18450>"
            ]
          },
          "metadata": {},
          "execution_count": 114
        },
        {
          "output_type": "display_data",
          "data": {
            "image/png": "[encoded data removed]",
            "text/plain": [
              "<Figure size 648x648 with 12 Axes>"
            ]
          },
          "metadata": {
            "needs_background": "light"
          }
        }
      ]
    },
    {
      "cell_type": "markdown",
      "source": [
        "실행할 때 마다 결과가 바뀌기 때문에 random_state로 나누는 랜덤값 고정."
      ],
      "metadata": {
        "id": "_ye50aRoFZIz"
      }
    },
    {
      "cell_type": "code",
      "source": [
        "#업종명 찾는 Regression\n",
        "#8주차 과제, 추가참고 -> https://hleecaster.com/ml-linear-regression-example/\n",
        "\n",
        "X = df[['위반내용_encoding', '처분명_encoding', '업태명_encoding']]\n",
        "y = df.업종명_encoding\n",
        "\n",
        "from sklearn.model_selection import train_test_split\n",
        "\n",
        "X_train, X_test, y_train, y_test = train_test_split(\n",
        "    X, y, test_size=0.1, random_state=42)"
      ],
      "metadata": {
        "id": "uO3SF8QpAmdQ"
      },
      "execution_count": 127,
      "outputs": []
    },
    {
      "cell_type": "code",
      "source": [
        "# Multiple linear regression\n",
        "\n",
        "from sklearn import datasets, linear_model\n",
        "from sklearn.metrics import mean_squared_error, r2_score\n",
        "\n",
        "LR = LinearRegression()\n",
        "LR.fit(X_train, y_train)\n",
        "y_prediction =  LR.predict(X_test)"
      ],
      "metadata": {
        "id": "cE63k4TcAw7I"
      },
      "execution_count": 128,
      "outputs": []
    },
    {
      "cell_type": "code",
      "source": [
        "#변수 4개 이므로 그래프그리기 불가능 -> coefficient찾는것으로 대체\n",
        "\n",
        "print('Coefficient')\n",
        "print('위반내용 : %.4f'%LR.coef_[0])\n",
        "print('처분명 : %.4f'%LR.coef_[1])\n",
        "print('업태명 : %.4f'%LR.coef_[2])"
      ],
      "metadata": {
        "colab": {
          "base_uri": "https://localhost:8080/"
        },
        "id": "wOfxRCjaAyBA",
        "outputId": "89b795c2-5bcc-4568-8a7d-0a25f9080c81"
      },
      "execution_count": 129,
      "outputs": [
        {
          "output_type": "stream",
          "name": "stdout",
          "text": [
            "Coefficient\n",
            "위반내용 : -0.0392\n",
            "처분명 : 0.0035\n",
            "업태명 : 0.1682\n"
          ]
        }
      ]
    },
    {
      "cell_type": "code",
      "source": [
        "#Evaluating\n",
        "from sklearn.metrics import r2_score\n",
        "from sklearn.metrics import mean_squared_error\n",
        "\n",
        "# predicting the accuracy score\n",
        "score=r2_score(y_test,y_prediction)\n",
        "\n",
        "print('정확도 : %.4f'%score)"
      ],
      "metadata": {
        "colab": {
          "base_uri": "https://localhost:8080/"
        },
        "id": "Ls01lwUiBcYA",
        "outputId": "6c8b22ee-8008-4ab2-ebe3-5851d27b7b6c"
      },
      "execution_count": 130,
      "outputs": [
        {
          "output_type": "stream",
          "name": "stdout",
          "text": [
            "정확도 : 0.7650\n"
          ]
        }
      ]
    }
  ]
}