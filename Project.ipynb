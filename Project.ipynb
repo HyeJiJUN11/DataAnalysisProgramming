{
  "nbformat": 4,
  "nbformat_minor": 0,
  "metadata": {
    "colab": {
      "name": "Project.ipynb",
      "provenance": [],
      "collapsed_sections": [
        "HpEduAHHbDw4"
      ],
      "toc_visible": true,
      "authorship_tag": "ABX9TyOm0eftiVpaLu9GszNHPxKe",
      "include_colab_link": true
    },
    "kernelspec": {
      "name": "python3",
      "display_name": "Python 3"
    },
    "language_info": {
      "name": "python"
    }
  },
  "cells": [
    {
      "cell_type": "markdown",
      "metadata": {
        "id": "view-in-github",
        "colab_type": "text"
      },
      "source": [
        "<a href=\"https://colab.research.google.com/github/HyeJiJUN11/DataAnalysisProgramming/blob/main/Project.ipynb\" target=\"_parent\"><img src=\"https://colab.research.google.com/assets/colab-badge.svg\" alt=\"Open In Colab\"/></a>"
      ]
    },
    {
      "cell_type": "code",
      "metadata": {
        "id": "mCCgQFLJCW7B"
      },
      "source": [
        "#한글 폰트 적용\n",
        "#한글 깨짐 현상 수정 -> https://teddylee777.github.io/colab/colab-korean\n",
        "\n",
        "!sudo apt-get install -y fonts-nanum\n",
        "!sudo fc-cache -fv\n",
        "!rm ~/.cache/matplotlib -rf"
      ],
      "execution_count": null,
      "outputs": []
    },
    {
      "cell_type": "code",
      "metadata": {
        "id": "z9VVyfama7Hq"
      },
      "source": [
        "import pandas as pd\n",
        "import numpy as np\n",
        "import seaborn as sns\n",
        "import matplotlib.pyplot as plt\n",
        "\n",
        "import datetime\n",
        "plt.rc('font', family='NanumBarunGothic') "
      ],
      "execution_count": 55,
      "outputs": []
    },
    {
      "cell_type": "code",
      "source": [
        "# install packages\n",
        "!pip install dash\n",
        "!pip install jupyter_dash"
      ],
      "metadata": {
        "id": "aSeybvmqev-F"
      },
      "execution_count": null,
      "outputs": []
    },
    {
      "cell_type": "markdown",
      "metadata": {
        "id": "ZkQJm9FPSvZb"
      },
      "source": [
        "# **Project**\n",
        "\n",
        "---\n",
        "\n",
        "\n",
        "202013340 전혜지\n"
      ]
    },
    {
      "cell_type": "markdown",
      "source": [
        "##1. Load Raw Data\n",
        "\n",
        "\n",
        "---\n",
        "\n",
        "\n",
        "분석 데이터 : 서울시 노원구 식품위생업소 행정처분내역 현황<br/>\n",
        "http://data.seoul.go.kr/dataList/OA-10989/S/1/datasetView.do<br/><br/>\n",
        "\n",
        "\n",
        "\n",
        "\n",
        "*   `처분일자` Time-seires로 받아오기\n",
        "*   전체적인 데이터 사이즈 확인\n",
        "<br/><br/>\n",
        "\n"
      ],
      "metadata": {
        "id": "_q9WnKVHTbmF"
      }
    },
    {
      "cell_type": "code",
      "source": [
        "#raw data 받아오고, 처음 5줄 출력\n",
        "df = pd.read_csv('/content/서울시 노원구 식품위생업소 행정처분내역 현황.csv', encoding='euc-kr', parse_dates=['처분일자']);\n",
        "df.head()"
      ],
      "metadata": {
        "colab": {
          "base_uri": "https://localhost:8080/",
          "height": 640
        },
        "id": "GGiATbsRYwRR",
        "outputId": "c557bf43-d36f-41d4-829d-d181b21dfe42"
      },
      "execution_count": 105,
      "outputs": [
        {
          "output_type": "execute_result",
          "data": {
            "text/html": [
              "<div>\n",
              "<style scoped>\n",
              "    .dataframe tbody tr th:only-of-type {\n",
              "        vertical-align: middle;\n",
              "    }\n",
              "\n",
              "    .dataframe tbody tr th {\n",
              "        vertical-align: top;\n",
              "    }\n",
              "\n",
              "    .dataframe thead th {\n",
              "        text-align: right;\n",
              "    }\n",
              "</style>\n",
              "<table border=\"1\" class=\"dataframe\">\n",
              "  <thead>\n",
              "    <tr style=\"text-align: right;\">\n",
              "      <th></th>\n",
              "      <th>시군구코드</th>\n",
              "      <th>처분일자</th>\n",
              "      <th>교부번호</th>\n",
              "      <th>업종명</th>\n",
              "      <th>업태명</th>\n",
              "      <th>업소명</th>\n",
              "      <th>소재지도로명</th>\n",
              "      <th>소재지지번</th>\n",
              "      <th>지도점검일자</th>\n",
              "      <th>행정처분상태</th>\n",
              "      <th>처분명</th>\n",
              "      <th>위반내역분류</th>\n",
              "      <th>법적근거</th>\n",
              "      <th>위반일자</th>\n",
              "      <th>위반내용</th>\n",
              "      <th>처분내용</th>\n",
              "      <th>처분기간</th>\n",
              "      <th>적발구분</th>\n",
              "      <th>신고구분</th>\n",
              "      <th>적발기관명(적발기관)</th>\n",
              "      <th>외부적발접수일자</th>\n",
              "      <th>영업장면적(㎡)</th>\n",
              "      <th>운영형태</th>\n",
              "    </tr>\n",
              "  </thead>\n",
              "  <tbody>\n",
              "    <tr>\n",
              "      <th>0</th>\n",
              "      <td>3100000</td>\n",
              "      <td>2004-09-14</td>\n",
              "      <td>19990060386</td>\n",
              "      <td>일반음식점</td>\n",
              "      <td>호프/통닭</td>\n",
              "      <td>원샷</td>\n",
              "      <td>NaN</td>\n",
              "      <td>서울특별시 노원구 공릉동  411번지 18호  지하1층</td>\n",
              "      <td>20040710</td>\n",
              "      <td>처분확정</td>\n",
              "      <td>영업정지2월</td>\n",
              "      <td>NaN</td>\n",
              "      <td>식품위생법제31조</td>\n",
              "      <td>20040710</td>\n",
              "      <td>청소년주류제공1차</td>\n",
              "      <td>영업정지2월</td>\n",
              "      <td>NaN</td>\n",
              "      <td>기타</td>\n",
              "      <td>2</td>\n",
              "      <td>NaN</td>\n",
              "      <td>20040719</td>\n",
              "      <td>62.32</td>\n",
              "      <td>NaN</td>\n",
              "    </tr>\n",
              "    <tr>\n",
              "      <th>1</th>\n",
              "      <td>3100000</td>\n",
              "      <td>2005-09-23</td>\n",
              "      <td>18990059004</td>\n",
              "      <td>일반음식점</td>\n",
              "      <td>분식</td>\n",
              "      <td>동호</td>\n",
              "      <td>NaN</td>\n",
              "      <td>서울특별시 노원구 상계동  651번지 0호 109 11단지종합상가</td>\n",
              "      <td>20050816</td>\n",
              "      <td>처분확정</td>\n",
              "      <td>영업정지 7일갈음 과징금 84만원</td>\n",
              "      <td>NaN</td>\n",
              "      <td>식품위생법 제65조</td>\n",
              "      <td>20050816</td>\n",
              "      <td>영업장면적 무단변경</td>\n",
              "      <td>영업정지 7일갈음 과징금 84만원</td>\n",
              "      <td>7.0</td>\n",
              "      <td>수시</td>\n",
              "      <td></td>\n",
              "      <td>NaN</td>\n",
              "      <td></td>\n",
              "      <td>18.42</td>\n",
              "      <td>NaN</td>\n",
              "    </tr>\n",
              "    <tr>\n",
              "      <th>2</th>\n",
              "      <td>3100000</td>\n",
              "      <td>2007-08-20</td>\n",
              "      <td>18990059004</td>\n",
              "      <td>일반음식점</td>\n",
              "      <td>분식</td>\n",
              "      <td>동호</td>\n",
              "      <td>NaN</td>\n",
              "      <td>서울특별시 노원구 상계동  651번지 0호 109 11단지종합상가</td>\n",
              "      <td>20070725</td>\n",
              "      <td>처분확정</td>\n",
              "      <td>시정명령</td>\n",
              "      <td>NaN</td>\n",
              "      <td>식품위생법 제21조</td>\n",
              "      <td>20070725</td>\n",
              "      <td>영업장외영업</td>\n",
              "      <td>시정명령</td>\n",
              "      <td>NaN</td>\n",
              "      <td>기타</td>\n",
              "      <td></td>\n",
              "      <td>NaN</td>\n",
              "      <td></td>\n",
              "      <td>18.42</td>\n",
              "      <td>NaN</td>\n",
              "    </tr>\n",
              "    <tr>\n",
              "      <th>3</th>\n",
              "      <td>3100000</td>\n",
              "      <td>2007-10-18</td>\n",
              "      <td>18990059004</td>\n",
              "      <td>일반음식점</td>\n",
              "      <td>분식</td>\n",
              "      <td>동호</td>\n",
              "      <td>NaN</td>\n",
              "      <td>서울특별시 노원구 상계동  651번지 0호 109 11단지종합상가</td>\n",
              "      <td>20070831</td>\n",
              "      <td>처분확정</td>\n",
              "      <td>과징금부과(56만원)</td>\n",
              "      <td>NaN</td>\n",
              "      <td>식품위생법 제21조</td>\n",
              "      <td>20070831</td>\n",
              "      <td>영업장외 영업(탁자)</td>\n",
              "      <td>과징금부과(56만원)</td>\n",
              "      <td>7.0</td>\n",
              "      <td>수시</td>\n",
              "      <td></td>\n",
              "      <td>NaN</td>\n",
              "      <td></td>\n",
              "      <td>18.42</td>\n",
              "      <td>NaN</td>\n",
              "    </tr>\n",
              "    <tr>\n",
              "      <th>4</th>\n",
              "      <td>3100000</td>\n",
              "      <td>2005-10-24</td>\n",
              "      <td>19770059003</td>\n",
              "      <td>일반음식점</td>\n",
              "      <td>분식</td>\n",
              "      <td>천궁</td>\n",
              "      <td>NaN</td>\n",
              "      <td>서울특별시 노원구 월계동  272번지 31호</td>\n",
              "      <td>20051011</td>\n",
              "      <td>처분확정</td>\n",
              "      <td>시정명령</td>\n",
              "      <td>NaN</td>\n",
              "      <td>식품위생법 제55조</td>\n",
              "      <td>20051011</td>\n",
              "      <td>이물혼입</td>\n",
              "      <td>시정명령</td>\n",
              "      <td>NaN</td>\n",
              "      <td>수시</td>\n",
              "      <td></td>\n",
              "      <td>NaN</td>\n",
              "      <td></td>\n",
              "      <td>110.30</td>\n",
              "      <td>NaN</td>\n",
              "    </tr>\n",
              "  </tbody>\n",
              "</table>\n",
              "</div>"
            ],
            "text/plain": [
              "     시군구코드       처분일자         교부번호    업종명  ... 적발기관명(적발기관)  외부적발접수일자 영업장면적(㎡) 운영형태\n",
              "0  3100000 2004-09-14  19990060386  일반음식점  ...         NaN  20040719    62.32  NaN\n",
              "1  3100000 2005-09-23  18990059004  일반음식점  ...         NaN              18.42  NaN\n",
              "2  3100000 2007-08-20  18990059004  일반음식점  ...         NaN              18.42  NaN\n",
              "3  3100000 2007-10-18  18990059004  일반음식점  ...         NaN              18.42  NaN\n",
              "4  3100000 2005-10-24  19770059003  일반음식점  ...         NaN             110.30  NaN\n",
              "\n",
              "[5 rows x 23 columns]"
            ]
          },
          "metadata": {},
          "execution_count": 105
        }
      ]
    },
    {
      "cell_type": "code",
      "source": [
        "#데이터 사이즈 확인\n",
        "print('row X col :', len(df), 'X', len(df.columns))\n",
        "\n",
        "#날짜 확인\n",
        "print('\\n')\n",
        "print('가장 오래된 날짜 :',df['위반일자'].min())\n",
        "print('가장 최근 날짜 :',df['위반일자'].max())"
      ],
      "metadata": {
        "colab": {
          "base_uri": "https://localhost:8080/"
        },
        "id": "GPqIiCe4cGXW",
        "outputId": "9d77bd8c-7456-420b-9e51-ce66f97c853f"
      },
      "execution_count": 106,
      "outputs": [
        {
          "output_type": "stream",
          "name": "stdout",
          "text": [
            "row X col : 5636 X 23\n",
            "\n",
            "\n",
            "가장 오래된 날짜 : 19940301\n",
            "가장 최근 날짜 : 20211026\n"
          ]
        }
      ]
    },
    {
      "cell_type": "markdown",
      "source": [
        "##2. Data Preprocessing1\n",
        "\n",
        "\n",
        "---\n",
        "\n",
        "\n",
        "전체적 row data 전처리\n",
        "   \n",
        "\n",
        "*   분석에 필요한 열 이외엔 제거(drop)<br/>\n",
        "`처분일자` `업종명` `업태명` `처분명` `위반내용`\n",
        "*   기한은 `2000~2020`년으로 제한<br/><br/>\n",
        " \n",
        "\n"
      ],
      "metadata": {
        "id": "tmdncVHgr5W_"
      }
    },
    {
      "cell_type": "code",
      "metadata": {
        "colab": {
          "base_uri": "https://localhost:8080/",
          "height": 206
        },
        "id": "sNuwR1sAbcp9",
        "outputId": "5518eca7-d75c-4ead-9050-04b595da0788"
      },
      "source": [
        "#쓰지 않을 colnums 제거\n",
        "df = df.drop(['교부번호', '시군구코드', '적발구분', '소재지지번', '소재지도로명', '지도점검일자', '행정처분상태', '위반일자', \n",
        "              '법적근거', '처분내용', '위반내역분류', '처분기간', '운영형태', '외부적발접수일자', '적발기관명(적발기관)', '영업장면적(㎡)', '신고구분'], axis=1)\n",
        "\n",
        "#Year로 년도만 가져오고, 2000~2020외 row삭제\n",
        "df['Year'] = df['처분일자'].dt.year \n",
        "df = df[(df.Year >= 2000) & (df.Year<2021)]\n",
        "df.head()"
      ],
      "execution_count": 107,
      "outputs": [
        {
          "output_type": "execute_result",
          "data": {
            "text/html": [
              "<div>\n",
              "<style scoped>\n",
              "    .dataframe tbody tr th:only-of-type {\n",
              "        vertical-align: middle;\n",
              "    }\n",
              "\n",
              "    .dataframe tbody tr th {\n",
              "        vertical-align: top;\n",
              "    }\n",
              "\n",
              "    .dataframe thead th {\n",
              "        text-align: right;\n",
              "    }\n",
              "</style>\n",
              "<table border=\"1\" class=\"dataframe\">\n",
              "  <thead>\n",
              "    <tr style=\"text-align: right;\">\n",
              "      <th></th>\n",
              "      <th>처분일자</th>\n",
              "      <th>업종명</th>\n",
              "      <th>업태명</th>\n",
              "      <th>업소명</th>\n",
              "      <th>처분명</th>\n",
              "      <th>위반내용</th>\n",
              "      <th>Year</th>\n",
              "    </tr>\n",
              "  </thead>\n",
              "  <tbody>\n",
              "    <tr>\n",
              "      <th>0</th>\n",
              "      <td>2004-09-14</td>\n",
              "      <td>일반음식점</td>\n",
              "      <td>호프/통닭</td>\n",
              "      <td>원샷</td>\n",
              "      <td>영업정지2월</td>\n",
              "      <td>청소년주류제공1차</td>\n",
              "      <td>2004</td>\n",
              "    </tr>\n",
              "    <tr>\n",
              "      <th>1</th>\n",
              "      <td>2005-09-23</td>\n",
              "      <td>일반음식점</td>\n",
              "      <td>분식</td>\n",
              "      <td>동호</td>\n",
              "      <td>영업정지 7일갈음 과징금 84만원</td>\n",
              "      <td>영업장면적 무단변경</td>\n",
              "      <td>2005</td>\n",
              "    </tr>\n",
              "    <tr>\n",
              "      <th>2</th>\n",
              "      <td>2007-08-20</td>\n",
              "      <td>일반음식점</td>\n",
              "      <td>분식</td>\n",
              "      <td>동호</td>\n",
              "      <td>시정명령</td>\n",
              "      <td>영업장외영업</td>\n",
              "      <td>2007</td>\n",
              "    </tr>\n",
              "    <tr>\n",
              "      <th>3</th>\n",
              "      <td>2007-10-18</td>\n",
              "      <td>일반음식점</td>\n",
              "      <td>분식</td>\n",
              "      <td>동호</td>\n",
              "      <td>과징금부과(56만원)</td>\n",
              "      <td>영업장외 영업(탁자)</td>\n",
              "      <td>2007</td>\n",
              "    </tr>\n",
              "    <tr>\n",
              "      <th>4</th>\n",
              "      <td>2005-10-24</td>\n",
              "      <td>일반음식점</td>\n",
              "      <td>분식</td>\n",
              "      <td>천궁</td>\n",
              "      <td>시정명령</td>\n",
              "      <td>이물혼입</td>\n",
              "      <td>2005</td>\n",
              "    </tr>\n",
              "  </tbody>\n",
              "</table>\n",
              "</div>"
            ],
            "text/plain": [
              "        처분일자    업종명    업태명 업소명                 처분명         위반내용  Year\n",
              "0 2004-09-14  일반음식점  호프/통닭  원샷              영업정지2월    청소년주류제공1차  2004\n",
              "1 2005-09-23  일반음식점     분식  동호  영업정지 7일갈음 과징금 84만원   영업장면적 무단변경  2005\n",
              "2 2007-08-20  일반음식점     분식  동호                시정명령       영업장외영업  2007\n",
              "3 2007-10-18  일반음식점     분식  동호         과징금부과(56만원)  영업장외 영업(탁자)  2007\n",
              "4 2005-10-24  일반음식점     분식  천궁                시정명령         이물혼입  2005"
            ]
          },
          "metadata": {},
          "execution_count": 107
        }
      ]
    },
    {
      "cell_type": "markdown",
      "source": [
        "##3. Data Analysis1\n",
        "\n",
        "\n",
        "---\n",
        "\n",
        "전체적인 데이터 분석\n",
        "\n",
        "\n",
        "*   `업종별` 분석<br/>\n",
        "(line graph보다, pie chart가 더 한눈에 들어오기 때문에, 분석에 pie chart선택)\n",
        "<br/><br/>\n",
        "pie chart를 봤을 때, 일반음식점이 압도적으로 많음 -> 일반음식점/그외 따로 분석<br/><br/>\n",
        "\n"
      ],
      "metadata": {
        "id": "bHaxo65Lx_8o"
      }
    },
    {
      "cell_type": "code",
      "source": [
        "#업종별 pie chart\n",
        "df_count = df.groupby(by=['업종명'], as_index=False).count()\n",
        "frequency = df_count['Year'];\n",
        "label = df_count['업종명'];\n",
        "\n",
        "plt.title('업종별 위반 횟수', size=30)\n",
        "plt.rcParams[\"figure.figsize\"] = (10, 10)\n",
        "lst = np.zeros(len(df_count))\n",
        "lst[12] = 0.2\n",
        "plt.pie(frequency, labels=label, autopct='%.1f%%', explode=lst)\n",
        "plt.show()"
      ],
      "metadata": {
        "colab": {
          "base_uri": "https://localhost:8080/",
          "height": 877
        },
        "id": "gQue-HDfkoaT",
        "outputId": "77105a22-f2f9-4ef4-d83a-0e8f0bb26ad6"
      },
      "execution_count": 110,
      "outputs": [
        {
          "output_type": "display_data",
          "data": {
            "image/png": "[encoded data removed]",
            "text/plain": [
              "<Figure size 1080x1080 with 1 Axes>"
            ]
          },
          "metadata": {}
        }
      ]
    },
    {
      "cell_type": "code",
      "metadata": {
        "id": "17rGM-Pmwug0",
        "colab": {
          "base_uri": "https://localhost:8080/",
          "height": 332
        },
        "outputId": "d526f487-e4a9-472f-e9c0-6f409aafb906"
      },
      "source": [
        "#업종별 bar plot\n",
        "plt.rcParams[\"figure.figsize\"] = (25, 5)\n",
        "plt.rc('font', family='NanumBarunGothic') \n",
        "fig = sns.countplot(x ='업종명', data = df, order = df['업종명'].value_counts().index)"
      ],
      "execution_count": 111,
      "outputs": [
        {
          "output_type": "display_data",
          "data": {
            "image/png": "[encoded data removed]",
            "text/plain": [
              "<Figure size 1800x360 with 1 Axes>"
            ]
          },
          "metadata": {
            "needs_background": "light"
          }
        }
      ]
    },
    {
      "cell_type": "markdown",
      "source": [
        "##4. Data Analysis2\n",
        "\n",
        "---\n",
        "\n",
        "일반음식점과, 일반음식점을 제외해서 분석<br/><br/>\n",
        "\n",
        "\n",
        "*   일반음식점 제외 - 간단하게\n",
        "*   일반음식점      - 자세히<br/><br/> \n",
        "\n"
      ],
      "metadata": {
        "id": "e6IA9LMU1MHL"
      }
    },
    {
      "cell_type": "markdown",
      "metadata": {
        "id": "HpEduAHHbDw4"
      },
      "source": [
        "###4-1. 일반음식점 제외\n",
        "\n",
        "---\n",
        "\n",
        "\n",
        "*   Data Preprocessing -> `일반음식점`을 제외한 업종 불러옴\n",
        "*   `업종별`분석\n",
        "<br/><br/>\n",
        "\n"
      ]
    },
    {
      "cell_type": "code",
      "metadata": {
        "colab": {
          "base_uri": "https://localhost:8080/",
          "height": 206
        },
        "id": "diQvswUnlmWb",
        "outputId": "2b21b636-e434-456c-bed5-17d9e061ebf1"
      },
      "source": [
        "#일반음식점을 제외한 데이터 받아옴\n",
        "dfDropRegular = df[df.업종명 !='일반음식점']\n",
        "dfDropRegular.head()"
      ],
      "execution_count": 85,
      "outputs": [
        {
          "output_type": "execute_result",
          "data": {
            "text/html": [
              "<div>\n",
              "<style scoped>\n",
              "    .dataframe tbody tr th:only-of-type {\n",
              "        vertical-align: middle;\n",
              "    }\n",
              "\n",
              "    .dataframe tbody tr th {\n",
              "        vertical-align: top;\n",
              "    }\n",
              "\n",
              "    .dataframe thead th {\n",
              "        text-align: right;\n",
              "    }\n",
              "</style>\n",
              "<table border=\"1\" class=\"dataframe\">\n",
              "  <thead>\n",
              "    <tr style=\"text-align: right;\">\n",
              "      <th></th>\n",
              "      <th>처분일자</th>\n",
              "      <th>업종명</th>\n",
              "      <th>업태명</th>\n",
              "      <th>업소명</th>\n",
              "      <th>처분명</th>\n",
              "      <th>위반내용</th>\n",
              "      <th>Year</th>\n",
              "    </tr>\n",
              "  </thead>\n",
              "  <tbody>\n",
              "    <tr>\n",
              "      <th>2185</th>\n",
              "      <td>2002-05-01</td>\n",
              "      <td>유흥주점영업</td>\n",
              "      <td>간이주점</td>\n",
              "      <td>보스</td>\n",
              "      <td>시정명령(2002.05.15까지)</td>\n",
              "      <td>종업원명부미기재</td>\n",
              "      <td>2002</td>\n",
              "    </tr>\n",
              "    <tr>\n",
              "      <th>2186</th>\n",
              "      <td>2010-03-02</td>\n",
              "      <td>유흥주점영업</td>\n",
              "      <td>간이주점</td>\n",
              "      <td>포차 멜로디 노래타운</td>\n",
              "      <td>과태료 20만원 부과</td>\n",
              "      <td>영업자 위생교육 미필</td>\n",
              "      <td>2010</td>\n",
              "    </tr>\n",
              "    <tr>\n",
              "      <th>2187</th>\n",
              "      <td>2004-06-23</td>\n",
              "      <td>유흥주점영업</td>\n",
              "      <td>룸살롱</td>\n",
              "      <td>무랑루즈비즈니스</td>\n",
              "      <td>시정명령</td>\n",
              "      <td>업종 미표시</td>\n",
              "      <td>2004</td>\n",
              "    </tr>\n",
              "    <tr>\n",
              "      <th>2188</th>\n",
              "      <td>2018-01-08</td>\n",
              "      <td>유흥주점영업</td>\n",
              "      <td>룸살롱</td>\n",
              "      <td>마이웨이</td>\n",
              "      <td>시정명령</td>\n",
              "      <td>이물이 혼입된 경우(플라스틱 병뚜껑)</td>\n",
              "      <td>2018</td>\n",
              "    </tr>\n",
              "    <tr>\n",
              "      <th>2189</th>\n",
              "      <td>2002-02-01</td>\n",
              "      <td>유흥주점영업</td>\n",
              "      <td>룸살롱</td>\n",
              "      <td>24시유흥주점</td>\n",
              "      <td>영업정지15일(2002.02.05-02.19)</td>\n",
              "      <td>유통기한경과제품조리판매목적보관</td>\n",
              "      <td>2002</td>\n",
              "    </tr>\n",
              "  </tbody>\n",
              "</table>\n",
              "</div>"
            ],
            "text/plain": [
              "           처분일자     업종명  ...                  위반내용  Year\n",
              "2185 2002-05-01  유흥주점영업  ...              종업원명부미기재  2002\n",
              "2186 2010-03-02  유흥주점영업  ...           영업자 위생교육 미필  2010\n",
              "2187 2004-06-23  유흥주점영업  ...                업종 미표시  2004\n",
              "2188 2018-01-08  유흥주점영업  ...  이물이 혼입된 경우(플라스틱 병뚜껑)  2018\n",
              "2189 2002-02-01  유흥주점영업  ...      유통기한경과제품조리판매목적보관  2002\n",
              "\n",
              "[5 rows x 7 columns]"
            ]
          },
          "metadata": {},
          "execution_count": 85
        }
      ]
    },
    {
      "cell_type": "code",
      "metadata": {
        "colab": {
          "base_uri": "https://localhost:8080/",
          "height": 333
        },
        "id": "yXOYMC96xDg9",
        "outputId": "ad681dd7-5a91-47b6-edab-1cdf7fa7d25e"
      },
      "source": [
        "plt.rcParams[\"figure.figsize\"] = (25, 5)\n",
        "fig = sns.countplot(x ='업종명', data = dfDropRegular, order = dfDropRegular['업종명'].value_counts().index)"
      ],
      "execution_count": 86,
      "outputs": [
        {
          "output_type": "display_data",
          "data": {
            "image/png": "[encoded data removed]",
            "text/plain": [
              "<Figure size 1800x360 with 1 Axes>"
            ]
          },
          "metadata": {
            "needs_background": "light"
          }
        }
      ]
    },
    {
      "cell_type": "markdown",
      "metadata": {
        "id": "69UEkJe4bjlD"
      },
      "source": [
        "###4-2. 일반음식점\n",
        "\n",
        "---\n",
        "1. Data Preprocessing<br/>\n",
        "일반음식점만 뽑아오기, `위반내용` `처분명` 수정\n",
        "2. Data Analysis<br/>\n",
        "ploty를 사용한 Dash Board 생성<br/><br/>"
      ]
    },
    {
      "cell_type": "code",
      "metadata": {
        "colab": {
          "base_uri": "https://localhost:8080/",
          "height": 206
        },
        "id": "PHCgqow_xq30",
        "outputId": "75a1d68e-96cc-499a-cc6e-68e7f0cda387"
      },
      "source": [
        "#일반음식점만 가져옴\n",
        "dfRegular = df[df.업종명 =='일반음식점']\n",
        "dfRegular.head()"
      ],
      "execution_count": 117,
      "outputs": [
        {
          "output_type": "execute_result",
          "data": {
            "text/html": [
              "<div>\n",
              "<style scoped>\n",
              "    .dataframe tbody tr th:only-of-type {\n",
              "        vertical-align: middle;\n",
              "    }\n",
              "\n",
              "    .dataframe tbody tr th {\n",
              "        vertical-align: top;\n",
              "    }\n",
              "\n",
              "    .dataframe thead th {\n",
              "        text-align: right;\n",
              "    }\n",
              "</style>\n",
              "<table border=\"1\" class=\"dataframe\">\n",
              "  <thead>\n",
              "    <tr style=\"text-align: right;\">\n",
              "      <th></th>\n",
              "      <th>처분일자</th>\n",
              "      <th>업종명</th>\n",
              "      <th>업태명</th>\n",
              "      <th>업소명</th>\n",
              "      <th>처분명</th>\n",
              "      <th>위반내용</th>\n",
              "      <th>Year</th>\n",
              "    </tr>\n",
              "  </thead>\n",
              "  <tbody>\n",
              "    <tr>\n",
              "      <th>0</th>\n",
              "      <td>2004-09-14</td>\n",
              "      <td>일반음식점</td>\n",
              "      <td>호프/통닭</td>\n",
              "      <td>원샷</td>\n",
              "      <td>영업정지2월</td>\n",
              "      <td>청소년주류제공1차</td>\n",
              "      <td>2004</td>\n",
              "    </tr>\n",
              "    <tr>\n",
              "      <th>1</th>\n",
              "      <td>2005-09-23</td>\n",
              "      <td>일반음식점</td>\n",
              "      <td>분식</td>\n",
              "      <td>동호</td>\n",
              "      <td>영업정지 7일갈음 과징금 84만원</td>\n",
              "      <td>영업장면적 무단변경</td>\n",
              "      <td>2005</td>\n",
              "    </tr>\n",
              "    <tr>\n",
              "      <th>2</th>\n",
              "      <td>2007-08-20</td>\n",
              "      <td>일반음식점</td>\n",
              "      <td>분식</td>\n",
              "      <td>동호</td>\n",
              "      <td>시정명령</td>\n",
              "      <td>영업장외영업</td>\n",
              "      <td>2007</td>\n",
              "    </tr>\n",
              "    <tr>\n",
              "      <th>3</th>\n",
              "      <td>2007-10-18</td>\n",
              "      <td>일반음식점</td>\n",
              "      <td>분식</td>\n",
              "      <td>동호</td>\n",
              "      <td>과징금부과(56만원)</td>\n",
              "      <td>영업장외 영업(탁자)</td>\n",
              "      <td>2007</td>\n",
              "    </tr>\n",
              "    <tr>\n",
              "      <th>4</th>\n",
              "      <td>2005-10-24</td>\n",
              "      <td>일반음식점</td>\n",
              "      <td>분식</td>\n",
              "      <td>천궁</td>\n",
              "      <td>시정명령</td>\n",
              "      <td>이물혼입</td>\n",
              "      <td>2005</td>\n",
              "    </tr>\n",
              "  </tbody>\n",
              "</table>\n",
              "</div>"
            ],
            "text/plain": [
              "        처분일자    업종명    업태명 업소명                 처분명         위반내용  Year\n",
              "0 2004-09-14  일반음식점  호프/통닭  원샷              영업정지2월    청소년주류제공1차  2004\n",
              "1 2005-09-23  일반음식점     분식  동호  영업정지 7일갈음 과징금 84만원   영업장면적 무단변경  2005\n",
              "2 2007-08-20  일반음식점     분식  동호                시정명령       영업장외영업  2007\n",
              "3 2007-10-18  일반음식점     분식  동호         과징금부과(56만원)  영업장외 영업(탁자)  2007\n",
              "4 2005-10-24  일반음식점     분식  천궁                시정명령         이물혼입  2005"
            ]
          },
          "metadata": {},
          "execution_count": 117
        }
      ]
    },
    {
      "cell_type": "code",
      "metadata": {
        "id": "YJlN6i3myUDk",
        "colab": {
          "base_uri": "https://localhost:8080/",
          "height": 332
        },
        "outputId": "b7262f18-d384-4504-84a6-7e6aacb0ae31"
      },
      "source": [
        "#일반음식점 업종별 분석\n",
        "plt.rcParams[\"figure.figsize\"] = (25, 5)\n",
        "fig = sns.countplot(x ='업태명', data = dfRegular, order = dfRegular['업태명'].value_counts().index)"
      ],
      "execution_count": 113,
      "outputs": [
        {
          "output_type": "display_data",
          "data": {
            "image/png": "[encoded data removed]",
            "text/plain": [
              "<Figure size 1800x360 with 1 Axes>"
            ]
          },
          "metadata": {
            "needs_background": "light"
          }
        }
      ]
    },
    {
      "cell_type": "code",
      "source": [
        "#위반내용 목록\n",
        "for Violation in dfRegular['위반내용']: \n",
        "  print(Violation)"
      ],
      "metadata": {
        "id": "8UQpWKMReski"
      },
      "execution_count": null,
      "outputs": []
    },
    {
      "cell_type": "code",
      "source": [
        "#처분 목록\n",
        "for Violation in dfRegular['처분명']: \n",
        "  print(Violation)"
      ],
      "metadata": {
        "id": "ERsL1xHketO6"
      },
      "execution_count": null,
      "outputs": []
    },
    {
      "cell_type": "code",
      "metadata": {
        "colab": {
          "base_uri": "https://localhost:8080/"
        },
        "id": "RzJETpk1OH68",
        "outputId": "4e92beb1-90b8-43d0-842a-e9ee0ea4803d"
      },
      "source": [
        "#참고자료\n",
        "#apply -> https://developer-ping9.tistory.com/111\n",
        "#SettingWithCopyWarning -> https://emilkwak.github.io/pandas-dataframe-settingwithcopywarning\n",
        "\n",
        "#위반내용 정리\n",
        "def replace(x) :\n",
        "  x = str(x)\n",
        "  if '청소년' in x:\n",
        "    s = '청소년 주류 제공'\n",
        "\n",
        "  elif '이물' in x:\n",
        "    s = '이물혼입'\n",
        "\n",
        "  elif '영업장' in x:\n",
        "    s = '영업장관련'\n",
        "\n",
        "  elif '건강진단' in x:\n",
        "    s = '건강진단 미필'\n",
        "\n",
        "  elif '위생교육' in x:\n",
        "    s = '위생교육 미이수'\n",
        "\n",
        "  elif '노래' in x:\n",
        "    s = '반주시설'\n",
        "\n",
        "  elif '위생' in x or '청결' in x:\n",
        "    s = '위생 불량'\n",
        "  \n",
        "  elif '유흥' in x or '접객' in x:\n",
        "    s = '유흥접객 행위'\n",
        "    \n",
        "  elif '유통기한' in x :\n",
        "    s = '유통기한'\n",
        "\n",
        "  elif '가격표' in x :\n",
        "    s = '가격표 표시 누락'\n",
        "  \n",
        "  elif '체납' in x :\n",
        "    s = '세금 미체납'\n",
        "\n",
        "  elif '변경신고' in x:\n",
        "    s = '변경신고 없이 시설변경'\n",
        "  \n",
        "  elif '말소' in x:\n",
        "    s = '사업자등록 말소'\n",
        "  \n",
        "  elif '원산지' in x:\n",
        "    s = '원산지 미표기'\n",
        "  else:\n",
        "    s = '기타'\n",
        "\n",
        "  return str(s)\n",
        "\n",
        "dfRegularCopy = dfRegular['위반내용'].copy()\n",
        "dfRegularCopy = dfRegularCopy.apply(replace)\n",
        "dfRegular['위반내용수정'] = dfRegularCopy"
      ],
      "execution_count": 118,
      "outputs": [
        {
          "output_type": "stream",
          "name": "stderr",
          "text": [
            "/usr/local/lib/python3.7/dist-packages/ipykernel_launcher.py:56: SettingWithCopyWarning:\n",
            "\n",
            "\n",
            "A value is trying to be set on a copy of a slice from a DataFrame.\n",
            "Try using .loc[row_indexer,col_indexer] = value instead\n",
            "\n",
            "See the caveats in the documentation: https://pandas.pydata.org/pandas-docs/stable/user_guide/indexing.html#returning-a-view-versus-a-copy\n",
            "\n"
          ]
        }
      ]
    },
    {
      "cell_type": "code",
      "metadata": {
        "colab": {
          "base_uri": "https://localhost:8080/"
        },
        "id": "VP8VL82HcqFw",
        "outputId": "b2e9f026-3b20-4eff-cbfb-e1f1d34a8a1c"
      },
      "source": [
        "#처분명 정리\n",
        "def replace2(x) :\n",
        "  x = str(x)\n",
        "  if '영업정지' in x:\n",
        "    s = '영업정지'\n",
        "\n",
        "  elif '과징금' in x:\n",
        "    s = '과징금'\n",
        "\n",
        "  elif '과태료' in x:\n",
        "    s = '과태료'\n",
        "\n",
        "  elif '시정명령' in x:\n",
        "    s = '시정명령'\n",
        "\n",
        "  elif '영업소폐쇄' in x:\n",
        "    s = '영업소폐쇄'\n",
        "\n",
        "  else:\n",
        "    s = '기타'\n",
        "\n",
        "  return str(s)\n",
        "\n",
        "dfRegularCopy = dfRegular['처분명'].copy()\n",
        "dfRegularCopy = dfRegularCopy.apply(replace2)\n",
        "dfRegular['처분명수정'] = dfRegularCopy"
      ],
      "execution_count": 119,
      "outputs": [
        {
          "output_type": "stream",
          "name": "stderr",
          "text": [
            "/usr/local/lib/python3.7/dist-packages/ipykernel_launcher.py:26: SettingWithCopyWarning:\n",
            "\n",
            "\n",
            "A value is trying to be set on a copy of a slice from a DataFrame.\n",
            "Try using .loc[row_indexer,col_indexer] = value instead\n",
            "\n",
            "See the caveats in the documentation: https://pandas.pydata.org/pandas-docs/stable/user_guide/indexing.html#returning-a-view-versus-a-copy\n",
            "\n"
          ]
        }
      ]
    },
    {
      "cell_type": "code",
      "metadata": {
        "colab": {
          "base_uri": "https://localhost:8080/",
          "height": 206
        },
        "id": "QDznicXHVBuz",
        "outputId": "d4988d43-0950-4558-daec-754d5cbb13ed"
      },
      "source": [
        "#위반내용, 처분명 수정한 col추가한 데이터\n",
        "dfRegular.head()"
      ],
      "execution_count": 120,
      "outputs": [
        {
          "output_type": "execute_result",
          "data": {
            "text/html": [
              "<div>\n",
              "<style scoped>\n",
              "    .dataframe tbody tr th:only-of-type {\n",
              "        vertical-align: middle;\n",
              "    }\n",
              "\n",
              "    .dataframe tbody tr th {\n",
              "        vertical-align: top;\n",
              "    }\n",
              "\n",
              "    .dataframe thead th {\n",
              "        text-align: right;\n",
              "    }\n",
              "</style>\n",
              "<table border=\"1\" class=\"dataframe\">\n",
              "  <thead>\n",
              "    <tr style=\"text-align: right;\">\n",
              "      <th></th>\n",
              "      <th>처분일자</th>\n",
              "      <th>업종명</th>\n",
              "      <th>업태명</th>\n",
              "      <th>업소명</th>\n",
              "      <th>처분명</th>\n",
              "      <th>위반내용</th>\n",
              "      <th>Year</th>\n",
              "      <th>위반내용수정</th>\n",
              "      <th>처분명수정</th>\n",
              "    </tr>\n",
              "  </thead>\n",
              "  <tbody>\n",
              "    <tr>\n",
              "      <th>0</th>\n",
              "      <td>2004-09-14</td>\n",
              "      <td>일반음식점</td>\n",
              "      <td>호프/통닭</td>\n",
              "      <td>원샷</td>\n",
              "      <td>영업정지2월</td>\n",
              "      <td>청소년주류제공1차</td>\n",
              "      <td>2004</td>\n",
              "      <td>청소년 주류 제공</td>\n",
              "      <td>영업정지</td>\n",
              "    </tr>\n",
              "    <tr>\n",
              "      <th>1</th>\n",
              "      <td>2005-09-23</td>\n",
              "      <td>일반음식점</td>\n",
              "      <td>분식</td>\n",
              "      <td>동호</td>\n",
              "      <td>영업정지 7일갈음 과징금 84만원</td>\n",
              "      <td>영업장면적 무단변경</td>\n",
              "      <td>2005</td>\n",
              "      <td>영업장관련</td>\n",
              "      <td>영업정지</td>\n",
              "    </tr>\n",
              "    <tr>\n",
              "      <th>2</th>\n",
              "      <td>2007-08-20</td>\n",
              "      <td>일반음식점</td>\n",
              "      <td>분식</td>\n",
              "      <td>동호</td>\n",
              "      <td>시정명령</td>\n",
              "      <td>영업장외영업</td>\n",
              "      <td>2007</td>\n",
              "      <td>영업장관련</td>\n",
              "      <td>시정명령</td>\n",
              "    </tr>\n",
              "    <tr>\n",
              "      <th>3</th>\n",
              "      <td>2007-10-18</td>\n",
              "      <td>일반음식점</td>\n",
              "      <td>분식</td>\n",
              "      <td>동호</td>\n",
              "      <td>과징금부과(56만원)</td>\n",
              "      <td>영업장외 영업(탁자)</td>\n",
              "      <td>2007</td>\n",
              "      <td>영업장관련</td>\n",
              "      <td>과징금</td>\n",
              "    </tr>\n",
              "    <tr>\n",
              "      <th>4</th>\n",
              "      <td>2005-10-24</td>\n",
              "      <td>일반음식점</td>\n",
              "      <td>분식</td>\n",
              "      <td>천궁</td>\n",
              "      <td>시정명령</td>\n",
              "      <td>이물혼입</td>\n",
              "      <td>2005</td>\n",
              "      <td>이물혼입</td>\n",
              "      <td>시정명령</td>\n",
              "    </tr>\n",
              "  </tbody>\n",
              "</table>\n",
              "</div>"
            ],
            "text/plain": [
              "        처분일자    업종명    업태명 업소명  ...         위반내용  Year     위반내용수정 처분명수정\n",
              "0 2004-09-14  일반음식점  호프/통닭  원샷  ...    청소년주류제공1차  2004  청소년 주류 제공  영업정지\n",
              "1 2005-09-23  일반음식점     분식  동호  ...   영업장면적 무단변경  2005      영업장관련  영업정지\n",
              "2 2007-08-20  일반음식점     분식  동호  ...       영업장외영업  2007      영업장관련  시정명령\n",
              "3 2007-10-18  일반음식점     분식  동호  ...  영업장외 영업(탁자)  2007      영업장관련   과징금\n",
              "4 2005-10-24  일반음식점     분식  천궁  ...         이물혼입  2005       이물혼입  시정명령\n",
              "\n",
              "[5 rows x 9 columns]"
            ]
          },
          "metadata": {},
          "execution_count": 120
        }
      ]
    },
    {
      "cell_type": "markdown",
      "source": [
        "처리한 데이터 (`위반내용수정` `처분명수정`) 의 countplot"
      ],
      "metadata": {
        "id": "bX7j901r3yQ7"
      }
    },
    {
      "cell_type": "code",
      "metadata": {
        "colab": {
          "base_uri": "https://localhost:8080/",
          "height": 332
        },
        "id": "tSWWF3kRIiAP",
        "outputId": "c7c64754-fc7c-4b1f-ac53-baa47a93f25c"
      },
      "source": [
        "plt.rcParams[\"figure.figsize\"] = (25, 5)\n",
        "fig = sns.countplot(x ='위반내용수정', data = dfRegular, order = dfRegular['위반내용수정'].value_counts().index)"
      ],
      "execution_count": 121,
      "outputs": [
        {
          "output_type": "display_data",
          "data": {
            "image/png": "[encoded data removed]",
            "text/plain": [
              "<Figure size 1800x360 with 1 Axes>"
            ]
          },
          "metadata": {
            "needs_background": "light"
          }
        }
      ]
    },
    {
      "cell_type": "code",
      "metadata": {
        "id": "GrMIsFCvd0DI",
        "colab": {
          "base_uri": "https://localhost:8080/",
          "height": 332
        },
        "outputId": "a5f7f466-ffd8-48cd-993d-2b73d5e0e8f2"
      },
      "source": [
        "plt.rcParams[\"figure.figsize\"] = (25, 5)\n",
        "fig = sns.countplot(x ='처분명수정', data = dfRegular, order = dfRegular['처분명수정'].value_counts().index)"
      ],
      "execution_count": 122,
      "outputs": [
        {
          "output_type": "display_data",
          "data": {
            "image/png": "[encoded data removed]",
            "text/plain": [
              "<Figure size 1800x360 with 1 Axes>"
            ]
          },
          "metadata": {
            "needs_background": "light"
          }
        }
      ]
    },
    {
      "cell_type": "markdown",
      "source": [
        "Ploty와 dash이용해 반응형 시각화"
      ],
      "metadata": {
        "id": "6kLLhx1Sjt-U"
      }
    },
    {
      "cell_type": "code",
      "source": [
        "#plotly와 dash\n",
        "\n",
        "import dash\n",
        "from dash import dcc\n",
        "from dash import html\n",
        "from dash.dependencies import Input, Output\n",
        "from jupyter_dash import JupyterDash\n",
        "\n",
        "import plotly.express as px\n",
        "import plotly.graph_objects as go\n",
        "from plotly.subplots import make_subplots"
      ],
      "metadata": {
        "id": "LjF-MM_gD7sO"
      },
      "execution_count": 96,
      "outputs": []
    },
    {
      "cell_type": "code",
      "source": [
        "#line test\n",
        "\n",
        "data_dates = dfRegular['처분일자'].value_counts()\n",
        "dates = data_dates.to_frame(name='위반횟수')\n",
        "dates.index.name = '처분일자'\n",
        "dates = dates.resample('M').sum()\n",
        "\n",
        "fig = go.Figure(data=[go.Scatter(x=dates.index, y=dates['위반횟수'])])\n",
        "\n",
        "#fig = px.line(x=dates.index, y=dates['위반횟수'])\n",
        "#fig = px.line(x=dates.index, y=dates.위반횟수)\n",
        "\n",
        "fig.show()"
      ],
      "metadata": {
        "id": "fb5LJvg_XEtM",
        "colab": {
          "base_uri": "https://localhost:8080/",
          "height": 542
        },
        "outputId": "cf3b109c-3244-44a6-ea72-80ea53c09eac"
      },
      "execution_count": 97,
      "outputs": [
        {
          "output_type": "display_data",
          "data": {
            "text/html": [
              "<html>\n",
              "<head><meta charset=\"utf-8\" /></head>\n",
              "<body>\n",
              "    <div>            <script src=\"https://cdnjs.cloudflare.com/ajax/libs/mathjax/2.7.5/MathJax.js?config=TeX-AMS-MML_SVG\"></script><script type=\"text/javascript\">if (window.MathJax) {MathJax.Hub.Config({SVG: {font: \"STIX-Web\"}});}</script>                <script type=\"text/javascript\">window.PlotlyConfig = {MathJaxConfig: 'local'};</script>\n",
              "        <script src=\"https://cdn.plot.ly/plotly-2.6.3.min.js\"></script>                <div id=\"1390d50c-f91a-40d3-9794-55d7019a16ec\" class=\"plotly-graph-div\" style=\"height:525px; width:100%;\"></div>            <script type=\"text/javascript\">                                    window.PLOTLYENV=window.PLOTLYENV || {};                                    if (document.getElementById(\"1390d50c-f91a-40d3-9794-55d7019a16ec\")) {                    Plotly.newPlot(                        \"1390d50c-f91a-40d3-9794-55d7019a16ec\",                        [{\"x\":[\"2000-01-31T00:00:00\",\"2000-02-29T00:00:00\",\"2000-03-31T00:00:00\",\"2000-04-30T00:00:00\",\"2000-05-31T00:00:00\",\"2000-06-30T00:00:00\",\"2000-07-31T00:00:00\",\"2000-08-31T00:00:00\",\"2000-09-30T00:00:00\",\"2000-10-31T00:00:00\",\"2000-11-30T00:00:00\",\"2000-12-31T00:00:00\",\"2001-01-31T00:00:00\",\"2001-02-28T00:00:00\",\"2001-03-31T00:00:00\",\"2001-04-30T00:00:00\",\"2001-05-31T00:00:00\",\"2001-06-30T00:00:00\",\"2001-07-31T00:00:00\",\"2001-08-31T00:00:00\",\"2001-09-30T00:00:00\",\"2001-10-31T00:00:00\",\"2001-11-30T00:00:00\",\"2001-12-31T00:00:00\",\"2002-01-31T00:00:00\",\"2002-02-28T00:00:00\",\"2002-03-31T00:00:00\",\"2002-04-30T00:00:00\",\"2002-05-31T00:00:00\",\"2002-06-30T00:00:00\",\"2002-07-31T00:00:00\",\"2002-08-31T00:00:00\",\"2002-09-30T00:00:00\",\"2002-10-31T00:00:00\",\"2002-11-30T00:00:00\",\"2002-12-31T00:00:00\",\"2003-01-31T00:00:00\",\"2003-02-28T00:00:00\",\"2003-03-31T00:00:00\",\"2003-04-30T00:00:00\",\"2003-05-31T00:00:00\",\"2003-06-30T00:00:00\",\"2003-07-31T00:00:00\",\"2003-08-31T00:00:00\",\"2003-09-30T00:00:00\",\"2003-10-31T00:00:00\",\"2003-11-30T00:00:00\",\"2003-12-31T00:00:00\",\"2004-01-31T00:00:00\",\"2004-02-29T00:00:00\",\"2004-03-31T00:00:00\",\"2004-04-30T00:00:00\",\"2004-05-31T00:00:00\",\"2004-06-30T00:00:00\",\"2004-07-31T00:00:00\",\"2004-08-31T00:00:00\",\"2004-09-30T00:00:00\",\"2004-10-31T00:00:00\",\"2004-11-30T00:00:00\",\"2004-12-31T00:00:00\",\"2005-01-31T00:00:00\",\"2005-02-28T00:00:00\",\"2005-03-31T00:00:00\",\"2005-04-30T00:00:00\",\"2005-05-31T00:00:00\",\"2005-06-30T00:00:00\",\"2005-07-31T00:00:00\",\"2005-08-31T00:00:00\",\"2005-09-30T00:00:00\",\"2005-10-31T00:00:00\",\"2005-11-30T00:00:00\",\"2005-12-31T00:00:00\",\"2006-01-31T00:00:00\",\"2006-02-28T00:00:00\",\"2006-03-31T00:00:00\",\"2006-04-30T00:00:00\",\"2006-05-31T00:00:00\",\"2006-06-30T00:00:00\",\"2006-07-31T00:00:00\",\"2006-08-31T00:00:00\",\"2006-09-30T00:00:00\",\"2006-10-31T00:00:00\",\"2006-11-30T00:00:00\",\"2006-12-31T00:00:00\",\"2007-01-31T00:00:00\",\"2007-02-28T00:00:00\",\"2007-03-31T00:00:00\",\"2007-04-30T00:00:00\",\"2007-05-31T00:00:00\",\"2007-06-30T00:00:00\",\"2007-07-31T00:00:00\",\"2007-08-31T00:00:00\",\"2007-09-30T00:00:00\",\"2007-10-31T00:00:00\",\"2007-11-30T00:00:00\",\"2007-12-31T00:00:00\",\"2008-01-31T00:00:00\",\"2008-02-29T00:00:00\",\"2008-03-31T00:00:00\",\"2008-04-30T00:00:00\",\"2008-05-31T00:00:00\",\"2008-06-30T00:00:00\",\"2008-07-31T00:00:00\",\"2008-08-31T00:00:00\",\"2008-09-30T00:00:00\",\"2008-10-31T00:00:00\",\"2008-11-30T00:00:00\",\"2008-12-31T00:00:00\",\"2009-01-31T00:00:00\",\"2009-02-28T00:00:00\",\"2009-03-31T00:00:00\",\"2009-04-30T00:00:00\",\"2009-05-31T00:00:00\",\"2009-06-30T00:00:00\",\"2009-07-31T00:00:00\",\"2009-08-31T00:00:00\",\"2009-09-30T00:00:00\",\"2009-10-31T00:00:00\",\"2009-11-30T00:00:00\",\"2009-12-31T00:00:00\",\"2010-01-31T00:00:00\",\"2010-02-28T00:00:00\",\"2010-03-31T00:00:00\",\"2010-04-30T00:00:00\",\"2010-05-31T00:00:00\",\"2010-06-30T00:00:00\",\"2010-07-31T00:00:00\",\"2010-08-31T00:00:00\",\"2010-09-30T00:00:00\",\"2010-10-31T00:00:00\",\"2010-11-30T00:00:00\",\"2010-12-31T00:00:00\",\"2011-01-31T00:00:00\",\"2011-02-28T00:00:00\",\"2011-03-31T00:00:00\",\"2011-04-30T00:00:00\",\"2011-05-31T00:00:00\",\"2011-06-30T00:00:00\",\"2011-07-31T00:00:00\",\"2011-08-31T00:00:00\",\"2011-09-30T00:00:00\",\"2011-10-31T00:00:00\",\"2011-11-30T00:00:00\",\"2011-12-31T00:00:00\",\"2012-01-31T00:00:00\",\"2012-02-29T00:00:00\",\"2012-03-31T00:00:00\",\"2012-04-30T00:00:00\",\"2012-05-31T00:00:00\",\"2012-06-30T00:00:00\",\"2012-07-31T00:00:00\",\"2012-08-31T00:00:00\",\"2012-09-30T00:00:00\",\"2012-10-31T00:00:00\",\"2012-11-30T00:00:00\",\"2012-12-31T00:00:00\",\"2013-01-31T00:00:00\",\"2013-02-28T00:00:00\",\"2013-03-31T00:00:00\",\"2013-04-30T00:00:00\",\"2013-05-31T00:00:00\",\"2013-06-30T00:00:00\",\"2013-07-31T00:00:00\",\"2013-08-31T00:00:00\",\"2013-09-30T00:00:00\",\"2013-10-31T00:00:00\",\"2013-11-30T00:00:00\",\"2013-12-31T00:00:00\",\"2014-01-31T00:00:00\",\"2014-02-28T00:00:00\",\"2014-03-31T00:00:00\",\"2014-04-30T00:00:00\",\"2014-05-31T00:00:00\",\"2014-06-30T00:00:00\",\"2014-07-31T00:00:00\",\"2014-08-31T00:00:00\",\"2014-09-30T00:00:00\",\"2014-10-31T00:00:00\",\"2014-11-30T00:00:00\",\"2014-12-31T00:00:00\",\"2015-01-31T00:00:00\",\"2015-02-28T00:00:00\",\"2015-03-31T00:00:00\",\"2015-04-30T00:00:00\",\"2015-05-31T00:00:00\",\"2015-06-30T00:00:00\",\"2015-07-31T00:00:00\",\"2015-08-31T00:00:00\",\"2015-09-30T00:00:00\",\"2015-10-31T00:00:00\",\"2015-11-30T00:00:00\",\"2015-12-31T00:00:00\",\"2016-01-31T00:00:00\",\"2016-02-29T00:00:00\",\"2016-03-31T00:00:00\",\"2016-04-30T00:00:00\",\"2016-05-31T00:00:00\",\"2016-06-30T00:00:00\",\"2016-07-31T00:00:00\",\"2016-08-31T00:00:00\",\"2016-09-30T00:00:00\",\"2016-10-31T00:00:00\",\"2016-11-30T00:00:00\",\"2016-12-31T00:00:00\",\"2017-01-31T00:00:00\",\"2017-02-28T00:00:00\",\"2017-03-31T00:00:00\",\"2017-04-30T00:00:00\",\"2017-05-31T00:00:00\",\"2017-06-30T00:00:00\",\"2017-07-31T00:00:00\",\"2017-08-31T00:00:00\",\"2017-09-30T00:00:00\",\"2017-10-31T00:00:00\",\"2017-11-30T00:00:00\",\"2017-12-31T00:00:00\",\"2018-01-31T00:00:00\",\"2018-02-28T00:00:00\",\"2018-03-31T00:00:00\",\"2018-04-30T00:00:00\",\"2018-05-31T00:00:00\",\"2018-06-30T00:00:00\",\"2018-07-31T00:00:00\",\"2018-08-31T00:00:00\",\"2018-09-30T00:00:00\",\"2018-10-31T00:00:00\",\"2018-11-30T00:00:00\",\"2018-12-31T00:00:00\",\"2019-01-31T00:00:00\",\"2019-02-28T00:00:00\",\"2019-03-31T00:00:00\",\"2019-04-30T00:00:00\",\"2019-05-31T00:00:00\",\"2019-06-30T00:00:00\",\"2019-07-31T00:00:00\",\"2019-08-31T00:00:00\",\"2019-09-30T00:00:00\",\"2019-10-31T00:00:00\",\"2019-11-30T00:00:00\",\"2019-12-31T00:00:00\",\"2020-01-31T00:00:00\",\"2020-02-29T00:00:00\",\"2020-03-31T00:00:00\",\"2020-04-30T00:00:00\",\"2020-05-31T00:00:00\",\"2020-06-30T00:00:00\",\"2020-07-31T00:00:00\",\"2020-08-31T00:00:00\",\"2020-09-30T00:00:00\",\"2020-10-31T00:00:00\",\"2020-11-30T00:00:00\",\"2020-12-31T00:00:00\"],\"y\":[1,0,0,0,0,1,0,0,0,0,1,0,0,0,0,0,0,0,0,0,1,10,15,15,26,23,16,13,55,38,15,8,4,14,16,82,8,9,20,13,7,12,21,13,12,6,11,113,9,7,7,16,13,13,25,14,14,10,13,68,1,2,6,13,5,10,6,11,13,14,4,6,8,4,6,9,6,99,9,16,15,13,22,3,21,30,16,6,77,28,14,19,8,7,26,10,23,50,9,13,6,8,17,10,8,8,8,8,6,9,16,8,3,3,13,7,17,16,16,17,18,5,27,13,16,18,32,35,13,21,14,21,34,12,39,10,15,51,47,21,26,21,47,28,25,32,30,8,15,21,32,47,13,18,25,36,36,16,37,24,19,7,26,23,10,15,20,22,10,9,10,84,21,41,32,16,10,14,15,16,12,34,7,6,10,15,9,11,23,18,18,21,5,7,49,48,17,12,11,14,12,17,17,13,4,7,73,17,14,17,10,19,15,8,15,20,26,6,40,14,26,18,12,22,7,8,25,22,12,19,39,24,14,19,23,9,35,16,31,20,18,14,7,13,9,51,4,2,5,2,3,5],\"type\":\"scatter\"}],                        {\"template\":{\"data\":{\"bar\":[{\"error_x\":{\"color\":\"#2a3f5f\"},\"error_y\":{\"color\":\"#2a3f5f\"},\"marker\":{\"line\":{\"color\":\"#E5ECF6\",\"width\":0.5},\"pattern\":{\"fillmode\":\"overlay\",\"size\":10,\"solidity\":0.2}},\"type\":\"bar\"}],\"barpolar\":[{\"marker\":{\"line\":{\"color\":\"#E5ECF6\",\"width\":0.5},\"pattern\":{\"fillmode\":\"overlay\",\"size\":10,\"solidity\":0.2}},\"type\":\"barpolar\"}],\"carpet\":[{\"aaxis\":{\"endlinecolor\":\"#2a3f5f\",\"gridcolor\":\"white\",\"linecolor\":\"white\",\"minorgridcolor\":\"white\",\"startlinecolor\":\"#2a3f5f\"},\"baxis\":{\"endlinecolor\":\"#2a3f5f\",\"gridcolor\":\"white\",\"linecolor\":\"white\",\"minorgridcolor\":\"white\",\"startlinecolor\":\"#2a3f5f\"},\"type\":\"carpet\"}],\"choropleth\":[{\"colorbar\":{\"outlinewidth\":0,\"ticks\":\"\"},\"type\":\"choropleth\"}],\"contour\":[{\"colorbar\":{\"outlinewidth\":0,\"ticks\":\"\"},\"colorscale\":[[0.0,\"#0d0887\"],[0.1111111111111111,\"#46039f\"],[0.2222222222222222,\"#7201a8\"],[0.3333333333333333,\"#9c179e\"],[0.4444444444444444,\"#bd3786\"],[0.5555555555555556,\"#d8576b\"],[0.6666666666666666,\"#ed7953\"],[0.7777777777777778,\"#fb9f3a\"],[0.8888888888888888,\"#fdca26\"],[1.0,\"#f0f921\"]],\"type\":\"contour\"}],\"contourcarpet\":[{\"colorbar\":{\"outlinewidth\":0,\"ticks\":\"\"},\"type\":\"contourcarpet\"}],\"heatmap\":[{\"colorbar\":{\"outlinewidth\":0,\"ticks\":\"\"},\"colorscale\":[[0.0,\"#0d0887\"],[0.1111111111111111,\"#46039f\"],[0.2222222222222222,\"#7201a8\"],[0.3333333333333333,\"#9c179e\"],[0.4444444444444444,\"#bd3786\"],[0.5555555555555556,\"#d8576b\"],[0.6666666666666666,\"#ed7953\"],[0.7777777777777778,\"#fb9f3a\"],[0.8888888888888888,\"#fdca26\"],[1.0,\"#f0f921\"]],\"type\":\"heatmap\"}],\"heatmapgl\":[{\"colorbar\":{\"outlinewidth\":0,\"ticks\":\"\"},\"colorscale\":[[0.0,\"#0d0887\"],[0.1111111111111111,\"#46039f\"],[0.2222222222222222,\"#7201a8\"],[0.3333333333333333,\"#9c179e\"],[0.4444444444444444,\"#bd3786\"],[0.5555555555555556,\"#d8576b\"],[0.6666666666666666,\"#ed7953\"],[0.7777777777777778,\"#fb9f3a\"],[0.8888888888888888,\"#fdca26\"],[1.0,\"#f0f921\"]],\"type\":\"heatmapgl\"}],\"histogram\":[{\"marker\":{\"pattern\":{\"fillmode\":\"overlay\",\"size\":10,\"solidity\":0.2}},\"type\":\"histogram\"}],\"histogram2d\":[{\"colorbar\":{\"outlinewidth\":0,\"ticks\":\"\"},\"colorscale\":[[0.0,\"#0d0887\"],[0.1111111111111111,\"#46039f\"],[0.2222222222222222,\"#7201a8\"],[0.3333333333333333,\"#9c179e\"],[0.4444444444444444,\"#bd3786\"],[0.5555555555555556,\"#d8576b\"],[0.6666666666666666,\"#ed7953\"],[0.7777777777777778,\"#fb9f3a\"],[0.8888888888888888,\"#fdca26\"],[1.0,\"#f0f921\"]],\"type\":\"histogram2d\"}],\"histogram2dcontour\":[{\"colorbar\":{\"outlinewidth\":0,\"ticks\":\"\"},\"colorscale\":[[0.0,\"#0d0887\"],[0.1111111111111111,\"#46039f\"],[0.2222222222222222,\"#7201a8\"],[0.3333333333333333,\"#9c179e\"],[0.4444444444444444,\"#bd3786\"],[0.5555555555555556,\"#d8576b\"],[0.6666666666666666,\"#ed7953\"],[0.7777777777777778,\"#fb9f3a\"],[0.8888888888888888,\"#fdca26\"],[1.0,\"#f0f921\"]],\"type\":\"histogram2dcontour\"}],\"mesh3d\":[{\"colorbar\":{\"outlinewidth\":0,\"ticks\":\"\"},\"type\":\"mesh3d\"}],\"parcoords\":[{\"line\":{\"colorbar\":{\"outlinewidth\":0,\"ticks\":\"\"}},\"type\":\"parcoords\"}],\"pie\":[{\"automargin\":true,\"type\":\"pie\"}],\"scatter\":[{\"marker\":{\"colorbar\":{\"outlinewidth\":0,\"ticks\":\"\"}},\"type\":\"scatter\"}],\"scatter3d\":[{\"line\":{\"colorbar\":{\"outlinewidth\":0,\"ticks\":\"\"}},\"marker\":{\"colorbar\":{\"outlinewidth\":0,\"ticks\":\"\"}},\"type\":\"scatter3d\"}],\"scattercarpet\":[{\"marker\":{\"colorbar\":{\"outlinewidth\":0,\"ticks\":\"\"}},\"type\":\"scattercarpet\"}],\"scattergeo\":[{\"marker\":{\"colorbar\":{\"outlinewidth\":0,\"ticks\":\"\"}},\"type\":\"scattergeo\"}],\"scattergl\":[{\"marker\":{\"colorbar\":{\"outlinewidth\":0,\"ticks\":\"\"}},\"type\":\"scattergl\"}],\"scattermapbox\":[{\"marker\":{\"colorbar\":{\"outlinewidth\":0,\"ticks\":\"\"}},\"type\":\"scattermapbox\"}],\"scatterpolar\":[{\"marker\":{\"colorbar\":{\"outlinewidth\":0,\"ticks\":\"\"}},\"type\":\"scatterpolar\"}],\"scatterpolargl\":[{\"marker\":{\"colorbar\":{\"outlinewidth\":0,\"ticks\":\"\"}},\"type\":\"scatterpolargl\"}],\"scatterternary\":[{\"marker\":{\"colorbar\":{\"outlinewidth\":0,\"ticks\":\"\"}},\"type\":\"scatterternary\"}],\"surface\":[{\"colorbar\":{\"outlinewidth\":0,\"ticks\":\"\"},\"colorscale\":[[0.0,\"#0d0887\"],[0.1111111111111111,\"#46039f\"],[0.2222222222222222,\"#7201a8\"],[0.3333333333333333,\"#9c179e\"],[0.4444444444444444,\"#bd3786\"],[0.5555555555555556,\"#d8576b\"],[0.6666666666666666,\"#ed7953\"],[0.7777777777777778,\"#fb9f3a\"],[0.8888888888888888,\"#fdca26\"],[1.0,\"#f0f921\"]],\"type\":\"surface\"}],\"table\":[{\"cells\":{\"fill\":{\"color\":\"#EBF0F8\"},\"line\":{\"color\":\"white\"}},\"header\":{\"fill\":{\"color\":\"#C8D4E3\"},\"line\":{\"color\":\"white\"}},\"type\":\"table\"}]},\"layout\":{\"annotationdefaults\":{\"arrowcolor\":\"#2a3f5f\",\"arrowhead\":0,\"arrowwidth\":1},\"autotypenumbers\":\"strict\",\"coloraxis\":{\"colorbar\":{\"outlinewidth\":0,\"ticks\":\"\"}},\"colorscale\":{\"diverging\":[[0,\"#8e0152\"],[0.1,\"#c51b7d\"],[0.2,\"#de77ae\"],[0.3,\"#f1b6da\"],[0.4,\"#fde0ef\"],[0.5,\"#f7f7f7\"],[0.6,\"#e6f5d0\"],[0.7,\"#b8e186\"],[0.8,\"#7fbc41\"],[0.9,\"#4d9221\"],[1,\"#276419\"]],\"sequential\":[[0.0,\"#0d0887\"],[0.1111111111111111,\"#46039f\"],[0.2222222222222222,\"#7201a8\"],[0.3333333333333333,\"#9c179e\"],[0.4444444444444444,\"#bd3786\"],[0.5555555555555556,\"#d8576b\"],[0.6666666666666666,\"#ed7953\"],[0.7777777777777778,\"#fb9f3a\"],[0.8888888888888888,\"#fdca26\"],[1.0,\"#f0f921\"]],\"sequentialminus\":[[0.0,\"#0d0887\"],[0.1111111111111111,\"#46039f\"],[0.2222222222222222,\"#7201a8\"],[0.3333333333333333,\"#9c179e\"],[0.4444444444444444,\"#bd3786\"],[0.5555555555555556,\"#d8576b\"],[0.6666666666666666,\"#ed7953\"],[0.7777777777777778,\"#fb9f3a\"],[0.8888888888888888,\"#fdca26\"],[1.0,\"#f0f921\"]]},\"colorway\":[\"#636efa\",\"#EF553B\",\"#00cc96\",\"#ab63fa\",\"#FFA15A\",\"#19d3f3\",\"#FF6692\",\"#B6E880\",\"#FF97FF\",\"#FECB52\"],\"font\":{\"color\":\"#2a3f5f\"},\"geo\":{\"bgcolor\":\"white\",\"lakecolor\":\"white\",\"landcolor\":\"#E5ECF6\",\"showlakes\":true,\"showland\":true,\"subunitcolor\":\"white\"},\"hoverlabel\":{\"align\":\"left\"},\"hovermode\":\"closest\",\"mapbox\":{\"style\":\"light\"},\"paper_bgcolor\":\"white\",\"plot_bgcolor\":\"#E5ECF6\",\"polar\":{\"angularaxis\":{\"gridcolor\":\"white\",\"linecolor\":\"white\",\"ticks\":\"\"},\"bgcolor\":\"#E5ECF6\",\"radialaxis\":{\"gridcolor\":\"white\",\"linecolor\":\"white\",\"ticks\":\"\"}},\"scene\":{\"xaxis\":{\"backgroundcolor\":\"#E5ECF6\",\"gridcolor\":\"white\",\"gridwidth\":2,\"linecolor\":\"white\",\"showbackground\":true,\"ticks\":\"\",\"zerolinecolor\":\"white\"},\"yaxis\":{\"backgroundcolor\":\"#E5ECF6\",\"gridcolor\":\"white\",\"gridwidth\":2,\"linecolor\":\"white\",\"showbackground\":true,\"ticks\":\"\",\"zerolinecolor\":\"white\"},\"zaxis\":{\"backgroundcolor\":\"#E5ECF6\",\"gridcolor\":\"white\",\"gridwidth\":2,\"linecolor\":\"white\",\"showbackground\":true,\"ticks\":\"\",\"zerolinecolor\":\"white\"}},\"shapedefaults\":{\"line\":{\"color\":\"#2a3f5f\"}},\"ternary\":{\"aaxis\":{\"gridcolor\":\"white\",\"linecolor\":\"white\",\"ticks\":\"\"},\"baxis\":{\"gridcolor\":\"white\",\"linecolor\":\"white\",\"ticks\":\"\"},\"bgcolor\":\"#E5ECF6\",\"caxis\":{\"gridcolor\":\"white\",\"linecolor\":\"white\",\"ticks\":\"\"}},\"title\":{\"x\":0.05},\"xaxis\":{\"automargin\":true,\"gridcolor\":\"white\",\"linecolor\":\"white\",\"ticks\":\"\",\"title\":{\"standoff\":15},\"zerolinecolor\":\"white\",\"zerolinewidth\":2},\"yaxis\":{\"automargin\":true,\"gridcolor\":\"white\",\"linecolor\":\"white\",\"ticks\":\"\",\"title\":{\"standoff\":15},\"zerolinecolor\":\"white\",\"zerolinewidth\":2}}}},                        {\"responsive\": true}                    ).then(function(){\n",
              "                            \n",
              "var gd = document.getElementById('1390d50c-f91a-40d3-9794-55d7019a16ec');\n",
              "var x = new MutationObserver(function (mutations, observer) {{\n",
              "        var display = window.getComputedStyle(gd).display;\n",
              "        if (!display || display === 'none') {{\n",
              "            console.log([gd, 'removed!']);\n",
              "            Plotly.purge(gd);\n",
              "            observer.disconnect();\n",
              "        }}\n",
              "}});\n",
              "\n",
              "// Listen for the removal of the full notebook cells\n",
              "var notebookContainer = gd.closest('#notebook-container');\n",
              "if (notebookContainer) {{\n",
              "    x.observe(notebookContainer, {childList: true});\n",
              "}}\n",
              "\n",
              "// Listen for the clearing of the current output cell\n",
              "var outputEl = gd.closest('.output');\n",
              "if (outputEl) {{\n",
              "    x.observe(outputEl, {childList: true});\n",
              "}}\n",
              "\n",
              "                        })                };                            </script>        </div>\n",
              "</body>\n",
              "</html>"
            ]
          },
          "metadata": {}
        }
      ]
    },
    {
      "cell_type": "code",
      "source": [
        "#pie test\n",
        "\n",
        "dfRegula_count = dfRegular.groupby(by=['업태명'], as_index=False).count()\n",
        "frequency = dfRegula_count['Year'];\n",
        "label = dfRegula_count['업태명'];\n",
        "\n",
        "fig = go.Figure(data=[go.Pie(labels=label, values=frequency)])\n",
        "fig.update_traces(textposition='inside')\n",
        "\n",
        "fig.show()"
      ],
      "metadata": {
        "colab": {
          "base_uri": "https://localhost:8080/",
          "height": 542
        },
        "id": "O4P5T66FzNkl",
        "outputId": "b2d8ca7f-37f8-4e16-f0bf-9a336d0e1b79"
      },
      "execution_count": 98,
      "outputs": [
        {
          "output_type": "display_data",
          "data": {
            "text/html": [
              "<html>\n",
              "<head><meta charset=\"utf-8\" /></head>\n",
              "<body>\n",
              "    <div>            <script src=\"https://cdnjs.cloudflare.com/ajax/libs/mathjax/2.7.5/MathJax.js?config=TeX-AMS-MML_SVG\"></script><script type=\"text/javascript\">if (window.MathJax) {MathJax.Hub.Config({SVG: {font: \"STIX-Web\"}});}</script>                <script type=\"text/javascript\">window.PlotlyConfig = {MathJaxConfig: 'local'};</script>\n",
              "        <script src=\"https://cdn.plot.ly/plotly-2.6.3.min.js\"></script>                <div id=\"e6829663-1edd-4b5b-b8be-21e645449274\" class=\"plotly-graph-div\" style=\"height:525px; width:100%;\"></div>            <script type=\"text/javascript\">                                    window.PLOTLYENV=window.PLOTLYENV || {};                                    if (document.getElementById(\"e6829663-1edd-4b5b-b8be-21e645449274\")) {                    Plotly.newPlot(                        \"e6829663-1edd-4b5b-b8be-21e645449274\",                        [{\"labels\":[\"\\uac10\\uc131\\uc8fc\\uc810\",\"\\uacbd\\uc591\\uc2dd\",\"\\uae30\\ud0c0\",\"\\uae40\\ubc25(\\ub3c4\\uc2dc\\ub77d)\",\"\\uae4c\\ud398\",\"\\ub77c\\uc774\\ube0c\\uce74\\ud398\",\"\\ubd84\\uc2dd\",\"\\ubdd4\\ud398\\uc2dd\",\"\\uc2dd\\uc721(\\uc22f\\ubd88\\uad6c\\uc774)\",\"\\uc678\\uad6d\\uc74c\\uc2dd\\uc804\\ubb38\\uc810(\\uc778\\ub3c4\\ud0dc\\uad6d\\ub4f1)\",\"\\uc77c\\uc2dd\",\"\\uc804\\ud1b5\\ucc3b\\uc9d1\",\"\\uc815\\uc885/\\ub300\\ud3ec\\uc9d1/\\uc18c\\uc8fc\\ubc29\",\"\\uc911\\uad6d\\uc2dd\",\"\\ud0a4\\uc988\\uce74\\ud398\",\"\\ud1b5\\ub2ed(\\uce58\\ud0a8)\",\"\\ud328\\ubc00\\ub9ac\\ub808\\uc2a4\\ud2b8\\ub791\",\"\\ud328\\uc2a4\\ud2b8\\ud478\\ub4dc\",\"\\ud55c\\uc2dd\",\"\\ud638\\ud504/\\ud1b5\\ub2ed\",\"\\ud68c\\uc9d1\"],\"values\":[86,206,202,12,43,26,610,30,41,3,169,2,18,241,7,223,2,45,1634,718,16],\"type\":\"pie\",\"textposition\":\"inside\"}],                        {\"template\":{\"data\":{\"bar\":[{\"error_x\":{\"color\":\"#2a3f5f\"},\"error_y\":{\"color\":\"#2a3f5f\"},\"marker\":{\"line\":{\"color\":\"#E5ECF6\",\"width\":0.5},\"pattern\":{\"fillmode\":\"overlay\",\"size\":10,\"solidity\":0.2}},\"type\":\"bar\"}],\"barpolar\":[{\"marker\":{\"line\":{\"color\":\"#E5ECF6\",\"width\":0.5},\"pattern\":{\"fillmode\":\"overlay\",\"size\":10,\"solidity\":0.2}},\"type\":\"barpolar\"}],\"carpet\":[{\"aaxis\":{\"endlinecolor\":\"#2a3f5f\",\"gridcolor\":\"white\",\"linecolor\":\"white\",\"minorgridcolor\":\"white\",\"startlinecolor\":\"#2a3f5f\"},\"baxis\":{\"endlinecolor\":\"#2a3f5f\",\"gridcolor\":\"white\",\"linecolor\":\"white\",\"minorgridcolor\":\"white\",\"startlinecolor\":\"#2a3f5f\"},\"type\":\"carpet\"}],\"choropleth\":[{\"colorbar\":{\"outlinewidth\":0,\"ticks\":\"\"},\"type\":\"choropleth\"}],\"contour\":[{\"colorbar\":{\"outlinewidth\":0,\"ticks\":\"\"},\"colorscale\":[[0.0,\"#0d0887\"],[0.1111111111111111,\"#46039f\"],[0.2222222222222222,\"#7201a8\"],[0.3333333333333333,\"#9c179e\"],[0.4444444444444444,\"#bd3786\"],[0.5555555555555556,\"#d8576b\"],[0.6666666666666666,\"#ed7953\"],[0.7777777777777778,\"#fb9f3a\"],[0.8888888888888888,\"#fdca26\"],[1.0,\"#f0f921\"]],\"type\":\"contour\"}],\"contourcarpet\":[{\"colorbar\":{\"outlinewidth\":0,\"ticks\":\"\"},\"type\":\"contourcarpet\"}],\"heatmap\":[{\"colorbar\":{\"outlinewidth\":0,\"ticks\":\"\"},\"colorscale\":[[0.0,\"#0d0887\"],[0.1111111111111111,\"#46039f\"],[0.2222222222222222,\"#7201a8\"],[0.3333333333333333,\"#9c179e\"],[0.4444444444444444,\"#bd3786\"],[0.5555555555555556,\"#d8576b\"],[0.6666666666666666,\"#ed7953\"],[0.7777777777777778,\"#fb9f3a\"],[0.8888888888888888,\"#fdca26\"],[1.0,\"#f0f921\"]],\"type\":\"heatmap\"}],\"heatmapgl\":[{\"colorbar\":{\"outlinewidth\":0,\"ticks\":\"\"},\"colorscale\":[[0.0,\"#0d0887\"],[0.1111111111111111,\"#46039f\"],[0.2222222222222222,\"#7201a8\"],[0.3333333333333333,\"#9c179e\"],[0.4444444444444444,\"#bd3786\"],[0.5555555555555556,\"#d8576b\"],[0.6666666666666666,\"#ed7953\"],[0.7777777777777778,\"#fb9f3a\"],[0.8888888888888888,\"#fdca26\"],[1.0,\"#f0f921\"]],\"type\":\"heatmapgl\"}],\"histogram\":[{\"marker\":{\"pattern\":{\"fillmode\":\"overlay\",\"size\":10,\"solidity\":0.2}},\"type\":\"histogram\"}],\"histogram2d\":[{\"colorbar\":{\"outlinewidth\":0,\"ticks\":\"\"},\"colorscale\":[[0.0,\"#0d0887\"],[0.1111111111111111,\"#46039f\"],[0.2222222222222222,\"#7201a8\"],[0.3333333333333333,\"#9c179e\"],[0.4444444444444444,\"#bd3786\"],[0.5555555555555556,\"#d8576b\"],[0.6666666666666666,\"#ed7953\"],[0.7777777777777778,\"#fb9f3a\"],[0.8888888888888888,\"#fdca26\"],[1.0,\"#f0f921\"]],\"type\":\"histogram2d\"}],\"histogram2dcontour\":[{\"colorbar\":{\"outlinewidth\":0,\"ticks\":\"\"},\"colorscale\":[[0.0,\"#0d0887\"],[0.1111111111111111,\"#46039f\"],[0.2222222222222222,\"#7201a8\"],[0.3333333333333333,\"#9c179e\"],[0.4444444444444444,\"#bd3786\"],[0.5555555555555556,\"#d8576b\"],[0.6666666666666666,\"#ed7953\"],[0.7777777777777778,\"#fb9f3a\"],[0.8888888888888888,\"#fdca26\"],[1.0,\"#f0f921\"]],\"type\":\"histogram2dcontour\"}],\"mesh3d\":[{\"colorbar\":{\"outlinewidth\":0,\"ticks\":\"\"},\"type\":\"mesh3d\"}],\"parcoords\":[{\"line\":{\"colorbar\":{\"outlinewidth\":0,\"ticks\":\"\"}},\"type\":\"parcoords\"}],\"pie\":[{\"automargin\":true,\"type\":\"pie\"}],\"scatter\":[{\"marker\":{\"colorbar\":{\"outlinewidth\":0,\"ticks\":\"\"}},\"type\":\"scatter\"}],\"scatter3d\":[{\"line\":{\"colorbar\":{\"outlinewidth\":0,\"ticks\":\"\"}},\"marker\":{\"colorbar\":{\"outlinewidth\":0,\"ticks\":\"\"}},\"type\":\"scatter3d\"}],\"scattercarpet\":[{\"marker\":{\"colorbar\":{\"outlinewidth\":0,\"ticks\":\"\"}},\"type\":\"scattercarpet\"}],\"scattergeo\":[{\"marker\":{\"colorbar\":{\"outlinewidth\":0,\"ticks\":\"\"}},\"type\":\"scattergeo\"}],\"scattergl\":[{\"marker\":{\"colorbar\":{\"outlinewidth\":0,\"ticks\":\"\"}},\"type\":\"scattergl\"}],\"scattermapbox\":[{\"marker\":{\"colorbar\":{\"outlinewidth\":0,\"ticks\":\"\"}},\"type\":\"scattermapbox\"}],\"scatterpolar\":[{\"marker\":{\"colorbar\":{\"outlinewidth\":0,\"ticks\":\"\"}},\"type\":\"scatterpolar\"}],\"scatterpolargl\":[{\"marker\":{\"colorbar\":{\"outlinewidth\":0,\"ticks\":\"\"}},\"type\":\"scatterpolargl\"}],\"scatterternary\":[{\"marker\":{\"colorbar\":{\"outlinewidth\":0,\"ticks\":\"\"}},\"type\":\"scatterternary\"}],\"surface\":[{\"colorbar\":{\"outlinewidth\":0,\"ticks\":\"\"},\"colorscale\":[[0.0,\"#0d0887\"],[0.1111111111111111,\"#46039f\"],[0.2222222222222222,\"#7201a8\"],[0.3333333333333333,\"#9c179e\"],[0.4444444444444444,\"#bd3786\"],[0.5555555555555556,\"#d8576b\"],[0.6666666666666666,\"#ed7953\"],[0.7777777777777778,\"#fb9f3a\"],[0.8888888888888888,\"#fdca26\"],[1.0,\"#f0f921\"]],\"type\":\"surface\"}],\"table\":[{\"cells\":{\"fill\":{\"color\":\"#EBF0F8\"},\"line\":{\"color\":\"white\"}},\"header\":{\"fill\":{\"color\":\"#C8D4E3\"},\"line\":{\"color\":\"white\"}},\"type\":\"table\"}]},\"layout\":{\"annotationdefaults\":{\"arrowcolor\":\"#2a3f5f\",\"arrowhead\":0,\"arrowwidth\":1},\"autotypenumbers\":\"strict\",\"coloraxis\":{\"colorbar\":{\"outlinewidth\":0,\"ticks\":\"\"}},\"colorscale\":{\"diverging\":[[0,\"#8e0152\"],[0.1,\"#c51b7d\"],[0.2,\"#de77ae\"],[0.3,\"#f1b6da\"],[0.4,\"#fde0ef\"],[0.5,\"#f7f7f7\"],[0.6,\"#e6f5d0\"],[0.7,\"#b8e186\"],[0.8,\"#7fbc41\"],[0.9,\"#4d9221\"],[1,\"#276419\"]],\"sequential\":[[0.0,\"#0d0887\"],[0.1111111111111111,\"#46039f\"],[0.2222222222222222,\"#7201a8\"],[0.3333333333333333,\"#9c179e\"],[0.4444444444444444,\"#bd3786\"],[0.5555555555555556,\"#d8576b\"],[0.6666666666666666,\"#ed7953\"],[0.7777777777777778,\"#fb9f3a\"],[0.8888888888888888,\"#fdca26\"],[1.0,\"#f0f921\"]],\"sequentialminus\":[[0.0,\"#0d0887\"],[0.1111111111111111,\"#46039f\"],[0.2222222222222222,\"#7201a8\"],[0.3333333333333333,\"#9c179e\"],[0.4444444444444444,\"#bd3786\"],[0.5555555555555556,\"#d8576b\"],[0.6666666666666666,\"#ed7953\"],[0.7777777777777778,\"#fb9f3a\"],[0.8888888888888888,\"#fdca26\"],[1.0,\"#f0f921\"]]},\"colorway\":[\"#636efa\",\"#EF553B\",\"#00cc96\",\"#ab63fa\",\"#FFA15A\",\"#19d3f3\",\"#FF6692\",\"#B6E880\",\"#FF97FF\",\"#FECB52\"],\"font\":{\"color\":\"#2a3f5f\"},\"geo\":{\"bgcolor\":\"white\",\"lakecolor\":\"white\",\"landcolor\":\"#E5ECF6\",\"showlakes\":true,\"showland\":true,\"subunitcolor\":\"white\"},\"hoverlabel\":{\"align\":\"left\"},\"hovermode\":\"closest\",\"mapbox\":{\"style\":\"light\"},\"paper_bgcolor\":\"white\",\"plot_bgcolor\":\"#E5ECF6\",\"polar\":{\"angularaxis\":{\"gridcolor\":\"white\",\"linecolor\":\"white\",\"ticks\":\"\"},\"bgcolor\":\"#E5ECF6\",\"radialaxis\":{\"gridcolor\":\"white\",\"linecolor\":\"white\",\"ticks\":\"\"}},\"scene\":{\"xaxis\":{\"backgroundcolor\":\"#E5ECF6\",\"gridcolor\":\"white\",\"gridwidth\":2,\"linecolor\":\"white\",\"showbackground\":true,\"ticks\":\"\",\"zerolinecolor\":\"white\"},\"yaxis\":{\"backgroundcolor\":\"#E5ECF6\",\"gridcolor\":\"white\",\"gridwidth\":2,\"linecolor\":\"white\",\"showbackground\":true,\"ticks\":\"\",\"zerolinecolor\":\"white\"},\"zaxis\":{\"backgroundcolor\":\"#E5ECF6\",\"gridcolor\":\"white\",\"gridwidth\":2,\"linecolor\":\"white\",\"showbackground\":true,\"ticks\":\"\",\"zerolinecolor\":\"white\"}},\"shapedefaults\":{\"line\":{\"color\":\"#2a3f5f\"}},\"ternary\":{\"aaxis\":{\"gridcolor\":\"white\",\"linecolor\":\"white\",\"ticks\":\"\"},\"baxis\":{\"gridcolor\":\"white\",\"linecolor\":\"white\",\"ticks\":\"\"},\"bgcolor\":\"#E5ECF6\",\"caxis\":{\"gridcolor\":\"white\",\"linecolor\":\"white\",\"ticks\":\"\"}},\"title\":{\"x\":0.05},\"xaxis\":{\"automargin\":true,\"gridcolor\":\"white\",\"linecolor\":\"white\",\"ticks\":\"\",\"title\":{\"standoff\":15},\"zerolinecolor\":\"white\",\"zerolinewidth\":2},\"yaxis\":{\"automargin\":true,\"gridcolor\":\"white\",\"linecolor\":\"white\",\"ticks\":\"\",\"title\":{\"standoff\":15},\"zerolinecolor\":\"white\",\"zerolinewidth\":2}}}},                        {\"responsive\": true}                    ).then(function(){\n",
              "                            \n",
              "var gd = document.getElementById('e6829663-1edd-4b5b-b8be-21e645449274');\n",
              "var x = new MutationObserver(function (mutations, observer) {{\n",
              "        var display = window.getComputedStyle(gd).display;\n",
              "        if (!display || display === 'none') {{\n",
              "            console.log([gd, 'removed!']);\n",
              "            Plotly.purge(gd);\n",
              "            observer.disconnect();\n",
              "        }}\n",
              "}});\n",
              "\n",
              "// Listen for the removal of the full notebook cells\n",
              "var notebookContainer = gd.closest('#notebook-container');\n",
              "if (notebookContainer) {{\n",
              "    x.observe(notebookContainer, {childList: true});\n",
              "}}\n",
              "\n",
              "// Listen for the clearing of the current output cell\n",
              "var outputEl = gd.closest('.output');\n",
              "if (outputEl) {{\n",
              "    x.observe(outputEl, {childList: true});\n",
              "}}\n",
              "\n",
              "                        })                };                            </script>        </div>\n",
              "</body>\n",
              "</html>"
            ]
          },
          "metadata": {}
        }
      ]
    },
    {
      "cell_type": "code",
      "source": [
        "#bar test\n",
        "\n",
        "data_dates = dfRegular['처분명수정'].value_counts()\n",
        "dates = data_dates.to_frame(name='처분명수정')\n",
        "#dates.index.name = '처분명수정'\n",
        "\n",
        "#bar color -> https://stackoverflow.com/questions/61892036/plotly-how-to-colorcode-plotly-graph-objects-bar-chart-using-python\n",
        "k=[15,30,45,60,75,90]\n",
        "fig = go.Figure(data=[go.Bar(x=dates.index, y=dates['처분명수정'],\n",
        "                             marker=dict(color = k, colorscale='viridis'))])\n",
        "\n",
        "fig.show()"
      ],
      "metadata": {
        "colab": {
          "base_uri": "https://localhost:8080/",
          "height": 542
        },
        "id": "gqOZ50vQFw9r",
        "outputId": "1a1fd8f2-019c-424e-92d0-9d538fe4ebd3"
      },
      "execution_count": 99,
      "outputs": [
        {
          "output_type": "display_data",
          "data": {
            "text/html": [
              "<html>\n",
              "<head><meta charset=\"utf-8\" /></head>\n",
              "<body>\n",
              "    <div>            <script src=\"https://cdnjs.cloudflare.com/ajax/libs/mathjax/2.7.5/MathJax.js?config=TeX-AMS-MML_SVG\"></script><script type=\"text/javascript\">if (window.MathJax) {MathJax.Hub.Config({SVG: {font: \"STIX-Web\"}});}</script>                <script type=\"text/javascript\">window.PlotlyConfig = {MathJaxConfig: 'local'};</script>\n",
              "        <script src=\"https://cdn.plot.ly/plotly-2.6.3.min.js\"></script>                <div id=\"33d7022d-c133-44ea-a024-91d0879dfa98\" class=\"plotly-graph-div\" style=\"height:525px; width:100%;\"></div>            <script type=\"text/javascript\">                                    window.PLOTLYENV=window.PLOTLYENV || {};                                    if (document.getElementById(\"33d7022d-c133-44ea-a024-91d0879dfa98\")) {                    Plotly.newPlot(                        \"33d7022d-c133-44ea-a024-91d0879dfa98\",                        [{\"marker\":{\"color\":[15,30,45,60,75,90],\"colorscale\":[[0.0,\"#440154\"],[0.1111111111111111,\"#482878\"],[0.2222222222222222,\"#3e4989\"],[0.3333333333333333,\"#31688e\"],[0.4444444444444444,\"#26828e\"],[0.5555555555555556,\"#1f9e89\"],[0.6666666666666666,\"#35b779\"],[0.7777777777777778,\"#6ece58\"],[0.8888888888888888,\"#b5de2b\"],[1.0,\"#fde725\"]]},\"x\":[\"\\uacfc\\ud0dc\\ub8cc\",\"\\uc601\\uc5c5\\uc815\\uc9c0\",\"\\uc601\\uc5c5\\uc18c\\ud3d0\\uc1c4\",\"\\uc2dc\\uc815\\uba85\\ub839\",\"\\uacfc\\uc9d5\\uae08\",\"\\uae30\\ud0c0\"],\"y\":[1542,1031,766,588,263,144],\"type\":\"bar\"}],                        {\"template\":{\"data\":{\"bar\":[{\"error_x\":{\"color\":\"#2a3f5f\"},\"error_y\":{\"color\":\"#2a3f5f\"},\"marker\":{\"line\":{\"color\":\"#E5ECF6\",\"width\":0.5},\"pattern\":{\"fillmode\":\"overlay\",\"size\":10,\"solidity\":0.2}},\"type\":\"bar\"}],\"barpolar\":[{\"marker\":{\"line\":{\"color\":\"#E5ECF6\",\"width\":0.5},\"pattern\":{\"fillmode\":\"overlay\",\"size\":10,\"solidity\":0.2}},\"type\":\"barpolar\"}],\"carpet\":[{\"aaxis\":{\"endlinecolor\":\"#2a3f5f\",\"gridcolor\":\"white\",\"linecolor\":\"white\",\"minorgridcolor\":\"white\",\"startlinecolor\":\"#2a3f5f\"},\"baxis\":{\"endlinecolor\":\"#2a3f5f\",\"gridcolor\":\"white\",\"linecolor\":\"white\",\"minorgridcolor\":\"white\",\"startlinecolor\":\"#2a3f5f\"},\"type\":\"carpet\"}],\"choropleth\":[{\"colorbar\":{\"outlinewidth\":0,\"ticks\":\"\"},\"type\":\"choropleth\"}],\"contour\":[{\"colorbar\":{\"outlinewidth\":0,\"ticks\":\"\"},\"colorscale\":[[0.0,\"#0d0887\"],[0.1111111111111111,\"#46039f\"],[0.2222222222222222,\"#7201a8\"],[0.3333333333333333,\"#9c179e\"],[0.4444444444444444,\"#bd3786\"],[0.5555555555555556,\"#d8576b\"],[0.6666666666666666,\"#ed7953\"],[0.7777777777777778,\"#fb9f3a\"],[0.8888888888888888,\"#fdca26\"],[1.0,\"#f0f921\"]],\"type\":\"contour\"}],\"contourcarpet\":[{\"colorbar\":{\"outlinewidth\":0,\"ticks\":\"\"},\"type\":\"contourcarpet\"}],\"heatmap\":[{\"colorbar\":{\"outlinewidth\":0,\"ticks\":\"\"},\"colorscale\":[[0.0,\"#0d0887\"],[0.1111111111111111,\"#46039f\"],[0.2222222222222222,\"#7201a8\"],[0.3333333333333333,\"#9c179e\"],[0.4444444444444444,\"#bd3786\"],[0.5555555555555556,\"#d8576b\"],[0.6666666666666666,\"#ed7953\"],[0.7777777777777778,\"#fb9f3a\"],[0.8888888888888888,\"#fdca26\"],[1.0,\"#f0f921\"]],\"type\":\"heatmap\"}],\"heatmapgl\":[{\"colorbar\":{\"outlinewidth\":0,\"ticks\":\"\"},\"colorscale\":[[0.0,\"#0d0887\"],[0.1111111111111111,\"#46039f\"],[0.2222222222222222,\"#7201a8\"],[0.3333333333333333,\"#9c179e\"],[0.4444444444444444,\"#bd3786\"],[0.5555555555555556,\"#d8576b\"],[0.6666666666666666,\"#ed7953\"],[0.7777777777777778,\"#fb9f3a\"],[0.8888888888888888,\"#fdca26\"],[1.0,\"#f0f921\"]],\"type\":\"heatmapgl\"}],\"histogram\":[{\"marker\":{\"pattern\":{\"fillmode\":\"overlay\",\"size\":10,\"solidity\":0.2}},\"type\":\"histogram\"}],\"histogram2d\":[{\"colorbar\":{\"outlinewidth\":0,\"ticks\":\"\"},\"colorscale\":[[0.0,\"#0d0887\"],[0.1111111111111111,\"#46039f\"],[0.2222222222222222,\"#7201a8\"],[0.3333333333333333,\"#9c179e\"],[0.4444444444444444,\"#bd3786\"],[0.5555555555555556,\"#d8576b\"],[0.6666666666666666,\"#ed7953\"],[0.7777777777777778,\"#fb9f3a\"],[0.8888888888888888,\"#fdca26\"],[1.0,\"#f0f921\"]],\"type\":\"histogram2d\"}],\"histogram2dcontour\":[{\"colorbar\":{\"outlinewidth\":0,\"ticks\":\"\"},\"colorscale\":[[0.0,\"#0d0887\"],[0.1111111111111111,\"#46039f\"],[0.2222222222222222,\"#7201a8\"],[0.3333333333333333,\"#9c179e\"],[0.4444444444444444,\"#bd3786\"],[0.5555555555555556,\"#d8576b\"],[0.6666666666666666,\"#ed7953\"],[0.7777777777777778,\"#fb9f3a\"],[0.8888888888888888,\"#fdca26\"],[1.0,\"#f0f921\"]],\"type\":\"histogram2dcontour\"}],\"mesh3d\":[{\"colorbar\":{\"outlinewidth\":0,\"ticks\":\"\"},\"type\":\"mesh3d\"}],\"parcoords\":[{\"line\":{\"colorbar\":{\"outlinewidth\":0,\"ticks\":\"\"}},\"type\":\"parcoords\"}],\"pie\":[{\"automargin\":true,\"type\":\"pie\"}],\"scatter\":[{\"marker\":{\"colorbar\":{\"outlinewidth\":0,\"ticks\":\"\"}},\"type\":\"scatter\"}],\"scatter3d\":[{\"line\":{\"colorbar\":{\"outlinewidth\":0,\"ticks\":\"\"}},\"marker\":{\"colorbar\":{\"outlinewidth\":0,\"ticks\":\"\"}},\"type\":\"scatter3d\"}],\"scattercarpet\":[{\"marker\":{\"colorbar\":{\"outlinewidth\":0,\"ticks\":\"\"}},\"type\":\"scattercarpet\"}],\"scattergeo\":[{\"marker\":{\"colorbar\":{\"outlinewidth\":0,\"ticks\":\"\"}},\"type\":\"scattergeo\"}],\"scattergl\":[{\"marker\":{\"colorbar\":{\"outlinewidth\":0,\"ticks\":\"\"}},\"type\":\"scattergl\"}],\"scattermapbox\":[{\"marker\":{\"colorbar\":{\"outlinewidth\":0,\"ticks\":\"\"}},\"type\":\"scattermapbox\"}],\"scatterpolar\":[{\"marker\":{\"colorbar\":{\"outlinewidth\":0,\"ticks\":\"\"}},\"type\":\"scatterpolar\"}],\"scatterpolargl\":[{\"marker\":{\"colorbar\":{\"outlinewidth\":0,\"ticks\":\"\"}},\"type\":\"scatterpolargl\"}],\"scatterternary\":[{\"marker\":{\"colorbar\":{\"outlinewidth\":0,\"ticks\":\"\"}},\"type\":\"scatterternary\"}],\"surface\":[{\"colorbar\":{\"outlinewidth\":0,\"ticks\":\"\"},\"colorscale\":[[0.0,\"#0d0887\"],[0.1111111111111111,\"#46039f\"],[0.2222222222222222,\"#7201a8\"],[0.3333333333333333,\"#9c179e\"],[0.4444444444444444,\"#bd3786\"],[0.5555555555555556,\"#d8576b\"],[0.6666666666666666,\"#ed7953\"],[0.7777777777777778,\"#fb9f3a\"],[0.8888888888888888,\"#fdca26\"],[1.0,\"#f0f921\"]],\"type\":\"surface\"}],\"table\":[{\"cells\":{\"fill\":{\"color\":\"#EBF0F8\"},\"line\":{\"color\":\"white\"}},\"header\":{\"fill\":{\"color\":\"#C8D4E3\"},\"line\":{\"color\":\"white\"}},\"type\":\"table\"}]},\"layout\":{\"annotationdefaults\":{\"arrowcolor\":\"#2a3f5f\",\"arrowhead\":0,\"arrowwidth\":1},\"autotypenumbers\":\"strict\",\"coloraxis\":{\"colorbar\":{\"outlinewidth\":0,\"ticks\":\"\"}},\"colorscale\":{\"diverging\":[[0,\"#8e0152\"],[0.1,\"#c51b7d\"],[0.2,\"#de77ae\"],[0.3,\"#f1b6da\"],[0.4,\"#fde0ef\"],[0.5,\"#f7f7f7\"],[0.6,\"#e6f5d0\"],[0.7,\"#b8e186\"],[0.8,\"#7fbc41\"],[0.9,\"#4d9221\"],[1,\"#276419\"]],\"sequential\":[[0.0,\"#0d0887\"],[0.1111111111111111,\"#46039f\"],[0.2222222222222222,\"#7201a8\"],[0.3333333333333333,\"#9c179e\"],[0.4444444444444444,\"#bd3786\"],[0.5555555555555556,\"#d8576b\"],[0.6666666666666666,\"#ed7953\"],[0.7777777777777778,\"#fb9f3a\"],[0.8888888888888888,\"#fdca26\"],[1.0,\"#f0f921\"]],\"sequentialminus\":[[0.0,\"#0d0887\"],[0.1111111111111111,\"#46039f\"],[0.2222222222222222,\"#7201a8\"],[0.3333333333333333,\"#9c179e\"],[0.4444444444444444,\"#bd3786\"],[0.5555555555555556,\"#d8576b\"],[0.6666666666666666,\"#ed7953\"],[0.7777777777777778,\"#fb9f3a\"],[0.8888888888888888,\"#fdca26\"],[1.0,\"#f0f921\"]]},\"colorway\":[\"#636efa\",\"#EF553B\",\"#00cc96\",\"#ab63fa\",\"#FFA15A\",\"#19d3f3\",\"#FF6692\",\"#B6E880\",\"#FF97FF\",\"#FECB52\"],\"font\":{\"color\":\"#2a3f5f\"},\"geo\":{\"bgcolor\":\"white\",\"lakecolor\":\"white\",\"landcolor\":\"#E5ECF6\",\"showlakes\":true,\"showland\":true,\"subunitcolor\":\"white\"},\"hoverlabel\":{\"align\":\"left\"},\"hovermode\":\"closest\",\"mapbox\":{\"style\":\"light\"},\"paper_bgcolor\":\"white\",\"plot_bgcolor\":\"#E5ECF6\",\"polar\":{\"angularaxis\":{\"gridcolor\":\"white\",\"linecolor\":\"white\",\"ticks\":\"\"},\"bgcolor\":\"#E5ECF6\",\"radialaxis\":{\"gridcolor\":\"white\",\"linecolor\":\"white\",\"ticks\":\"\"}},\"scene\":{\"xaxis\":{\"backgroundcolor\":\"#E5ECF6\",\"gridcolor\":\"white\",\"gridwidth\":2,\"linecolor\":\"white\",\"showbackground\":true,\"ticks\":\"\",\"zerolinecolor\":\"white\"},\"yaxis\":{\"backgroundcolor\":\"#E5ECF6\",\"gridcolor\":\"white\",\"gridwidth\":2,\"linecolor\":\"white\",\"showbackground\":true,\"ticks\":\"\",\"zerolinecolor\":\"white\"},\"zaxis\":{\"backgroundcolor\":\"#E5ECF6\",\"gridcolor\":\"white\",\"gridwidth\":2,\"linecolor\":\"white\",\"showbackground\":true,\"ticks\":\"\",\"zerolinecolor\":\"white\"}},\"shapedefaults\":{\"line\":{\"color\":\"#2a3f5f\"}},\"ternary\":{\"aaxis\":{\"gridcolor\":\"white\",\"linecolor\":\"white\",\"ticks\":\"\"},\"baxis\":{\"gridcolor\":\"white\",\"linecolor\":\"white\",\"ticks\":\"\"},\"bgcolor\":\"#E5ECF6\",\"caxis\":{\"gridcolor\":\"white\",\"linecolor\":\"white\",\"ticks\":\"\"}},\"title\":{\"x\":0.05},\"xaxis\":{\"automargin\":true,\"gridcolor\":\"white\",\"linecolor\":\"white\",\"ticks\":\"\",\"title\":{\"standoff\":15},\"zerolinecolor\":\"white\",\"zerolinewidth\":2},\"yaxis\":{\"automargin\":true,\"gridcolor\":\"white\",\"linecolor\":\"white\",\"ticks\":\"\",\"title\":{\"standoff\":15},\"zerolinecolor\":\"white\",\"zerolinewidth\":2}}}},                        {\"responsive\": true}                    ).then(function(){\n",
              "                            \n",
              "var gd = document.getElementById('33d7022d-c133-44ea-a024-91d0879dfa98');\n",
              "var x = new MutationObserver(function (mutations, observer) {{\n",
              "        var display = window.getComputedStyle(gd).display;\n",
              "        if (!display || display === 'none') {{\n",
              "            console.log([gd, 'removed!']);\n",
              "            Plotly.purge(gd);\n",
              "            observer.disconnect();\n",
              "        }}\n",
              "}});\n",
              "\n",
              "// Listen for the removal of the full notebook cells\n",
              "var notebookContainer = gd.closest('#notebook-container');\n",
              "if (notebookContainer) {{\n",
              "    x.observe(notebookContainer, {childList: true});\n",
              "}}\n",
              "\n",
              "// Listen for the clearing of the current output cell\n",
              "var outputEl = gd.closest('.output');\n",
              "if (outputEl) {{\n",
              "    x.observe(outputEl, {childList: true});\n",
              "}}\n",
              "\n",
              "                        })                };                            </script>        </div>\n",
              "</body>\n",
              "</html>"
            ]
          },
          "metadata": {}
        }
      ]
    },
    {
      "cell_type": "markdown",
      "source": [
        "전반적인 분석\n",
        "\n"
      ],
      "metadata": {
        "id": "01zf05O2_Gf_"
      }
    },
    {
      "cell_type": "code",
      "source": [
        "#참고 자료(공식)\n",
        "#plotly express -> https://plotly.com/python/plotly-express/\n",
        "#plotly subplot -> https://plotly.com/python/subplots/#multiple-subplots\n",
        "#plotly line&scatter -> https://plotly.com/python/line-and-scatter/\n",
        "#plotly piechart -> https://plotly.com/python/pie-charts/\n",
        "\n",
        "#참고 자료(그외)\n",
        "#https://tariat.tistory.com/749\n",
        "\n",
        "#line, pie 들어갈 수 있게 1X2의 figure생성\n",
        "# specs -> https://stackoverflow.com/questions/54975791/how-to-subplot-pie-chart-in-plotly\n",
        "fig = make_subplots(rows=2, cols=2, specs=[[{'type':'scatter'}, {'type': 'pie', 'rowspan':2}], [{'type':'bar'}, None]],column_widths=[0.7, 0.3],\n",
        "                    subplot_titles=(\"년도별 분석\",\"업태별 분석\", \"처분명 분석\"))\n",
        "\n",
        "\n",
        "#line 데이터 정리\n",
        "data_dates = dfRegular['처분일자'].value_counts()\n",
        "dates = data_dates.to_frame(name='위반횟수')\n",
        "dates.index.name = '처분일자'\n",
        "dates.sort_values(by=['처분일자'])\n",
        "dates = dates.resample('M').sum()\n",
        "\n",
        "#line 그래프 그려줌\n",
        "fig.add_trace(go.Scatter(x=dates.index, y=dates['위반횟수']),\n",
        "              row=1, col=1)\n",
        "\n",
        "#line 그래프 x, y축 타이틀 설정\n",
        "#설정방법 -> https://stackoverflow.com/questions/65779052/how-to-set-axis-label-in-subplots-with-dash/65779105\n",
        "fig.update_xaxes(title_text=\"날짜\", row=1, col=1)\n",
        "fig.update_yaxes(title_text=\"횟수\", row=1, col=1)\n",
        "\n",
        "#pie 데이터 정리\n",
        "dfRegula_count = dfRegular.groupby(by=['업태명'], as_index=False).count()\n",
        "frequency = dfRegula_count['Year'];\n",
        "label = dfRegula_count['업태명'];\n",
        "\n",
        "#pie 그래프 그려줌\n",
        "fig.add_trace(go.Pie(labels=label, values=frequency, ),\n",
        "              row=1, col=2)\n",
        "fig.update_traces(textposition='inside', row=1, col=2)\n",
        "\n",
        "#bar 데이터 정리\n",
        "data_dates = dfRegular['처분명수정'].value_counts()\n",
        "dates = data_dates.to_frame(name='처분명수정')\n",
        "\n",
        "#bar 그래프 그려줌\n",
        "k=[15,30,45,60,75,90]\n",
        "fig.add_trace(go.Bar(x=dates.index, y=dates['처분명수정'],\n",
        "                             marker=dict(color = k, colorscale='viridis')),\n",
        "              row=2, col=1)\n",
        "\n",
        "fig.show()"
      ],
      "metadata": {
        "colab": {
          "base_uri": "https://localhost:8080/",
          "height": 542
        },
        "id": "ca_emA2C6QZT",
        "outputId": "1142631b-3e7f-46ba-8100-ec7a895f7439"
      },
      "execution_count": 100,
      "outputs": [
        {
          "output_type": "display_data",
          "data": {
            "text/html": [
              "<html>\n",
              "<head><meta charset=\"utf-8\" /></head>\n",
              "<body>\n",
              "    <div>            <script src=\"https://cdnjs.cloudflare.com/ajax/libs/mathjax/2.7.5/MathJax.js?config=TeX-AMS-MML_SVG\"></script><script type=\"text/javascript\">if (window.MathJax) {MathJax.Hub.Config({SVG: {font: \"STIX-Web\"}});}</script>                <script type=\"text/javascript\">window.PlotlyConfig = {MathJaxConfig: 'local'};</script>\n",
              "        <script src=\"https://cdn.plot.ly/plotly-2.6.3.min.js\"></script>                <div id=\"e20961de-5bad-43e3-9e4c-a55a0bb26c2d\" class=\"plotly-graph-div\" style=\"height:525px; width:100%;\"></div>            <script type=\"text/javascript\">                                    window.PLOTLYENV=window.PLOTLYENV || {};                                    if (document.getElementById(\"e20961de-5bad-43e3-9e4c-a55a0bb26c2d\")) {                    Plotly.newPlot(                        \"e20961de-5bad-43e3-9e4c-a55a0bb26c2d\",                        [{\"x\":[\"2000-01-31T00:00:00\",\"2000-02-29T00:00:00\",\"2000-03-31T00:00:00\",\"2000-04-30T00:00:00\",\"2000-05-31T00:00:00\",\"2000-06-30T00:00:00\",\"2000-07-31T00:00:00\",\"2000-08-31T00:00:00\",\"2000-09-30T00:00:00\",\"2000-10-31T00:00:00\",\"2000-11-30T00:00:00\",\"2000-12-31T00:00:00\",\"2001-01-31T00:00:00\",\"2001-02-28T00:00:00\",\"2001-03-31T00:00:00\",\"2001-04-30T00:00:00\",\"2001-05-31T00:00:00\",\"2001-06-30T00:00:00\",\"2001-07-31T00:00:00\",\"2001-08-31T00:00:00\",\"2001-09-30T00:00:00\",\"2001-10-31T00:00:00\",\"2001-11-30T00:00:00\",\"2001-12-31T00:00:00\",\"2002-01-31T00:00:00\",\"2002-02-28T00:00:00\",\"2002-03-31T00:00:00\",\"2002-04-30T00:00:00\",\"2002-05-31T00:00:00\",\"2002-06-30T00:00:00\",\"2002-07-31T00:00:00\",\"2002-08-31T00:00:00\",\"2002-09-30T00:00:00\",\"2002-10-31T00:00:00\",\"2002-11-30T00:00:00\",\"2002-12-31T00:00:00\",\"2003-01-31T00:00:00\",\"2003-02-28T00:00:00\",\"2003-03-31T00:00:00\",\"2003-04-30T00:00:00\",\"2003-05-31T00:00:00\",\"2003-06-30T00:00:00\",\"2003-07-31T00:00:00\",\"2003-08-31T00:00:00\",\"2003-09-30T00:00:00\",\"2003-10-31T00:00:00\",\"2003-11-30T00:00:00\",\"2003-12-31T00:00:00\",\"2004-01-31T00:00:00\",\"2004-02-29T00:00:00\",\"2004-03-31T00:00:00\",\"2004-04-30T00:00:00\",\"2004-05-31T00:00:00\",\"2004-06-30T00:00:00\",\"2004-07-31T00:00:00\",\"2004-08-31T00:00:00\",\"2004-09-30T00:00:00\",\"2004-10-31T00:00:00\",\"2004-11-30T00:00:00\",\"2004-12-31T00:00:00\",\"2005-01-31T00:00:00\",\"2005-02-28T00:00:00\",\"2005-03-31T00:00:00\",\"2005-04-30T00:00:00\",\"2005-05-31T00:00:00\",\"2005-06-30T00:00:00\",\"2005-07-31T00:00:00\",\"2005-08-31T00:00:00\",\"2005-09-30T00:00:00\",\"2005-10-31T00:00:00\",\"2005-11-30T00:00:00\",\"2005-12-31T00:00:00\",\"2006-01-31T00:00:00\",\"2006-02-28T00:00:00\",\"2006-03-31T00:00:00\",\"2006-04-30T00:00:00\",\"2006-05-31T00:00:00\",\"2006-06-30T00:00:00\",\"2006-07-31T00:00:00\",\"2006-08-31T00:00:00\",\"2006-09-30T00:00:00\",\"2006-10-31T00:00:00\",\"2006-11-30T00:00:00\",\"2006-12-31T00:00:00\",\"2007-01-31T00:00:00\",\"2007-02-28T00:00:00\",\"2007-03-31T00:00:00\",\"2007-04-30T00:00:00\",\"2007-05-31T00:00:00\",\"2007-06-30T00:00:00\",\"2007-07-31T00:00:00\",\"2007-08-31T00:00:00\",\"2007-09-30T00:00:00\",\"2007-10-31T00:00:00\",\"2007-11-30T00:00:00\",\"2007-12-31T00:00:00\",\"2008-01-31T00:00:00\",\"2008-02-29T00:00:00\",\"2008-03-31T00:00:00\",\"2008-04-30T00:00:00\",\"2008-05-31T00:00:00\",\"2008-06-30T00:00:00\",\"2008-07-31T00:00:00\",\"2008-08-31T00:00:00\",\"2008-09-30T00:00:00\",\"2008-10-31T00:00:00\",\"2008-11-30T00:00:00\",\"2008-12-31T00:00:00\",\"2009-01-31T00:00:00\",\"2009-02-28T00:00:00\",\"2009-03-31T00:00:00\",\"2009-04-30T00:00:00\",\"2009-05-31T00:00:00\",\"2009-06-30T00:00:00\",\"2009-07-31T00:00:00\",\"2009-08-31T00:00:00\",\"2009-09-30T00:00:00\",\"2009-10-31T00:00:00\",\"2009-11-30T00:00:00\",\"2009-12-31T00:00:00\",\"2010-01-31T00:00:00\",\"2010-02-28T00:00:00\",\"2010-03-31T00:00:00\",\"2010-04-30T00:00:00\",\"2010-05-31T00:00:00\",\"2010-06-30T00:00:00\",\"2010-07-31T00:00:00\",\"2010-08-31T00:00:00\",\"2010-09-30T00:00:00\",\"2010-10-31T00:00:00\",\"2010-11-30T00:00:00\",\"2010-12-31T00:00:00\",\"2011-01-31T00:00:00\",\"2011-02-28T00:00:00\",\"2011-03-31T00:00:00\",\"2011-04-30T00:00:00\",\"2011-05-31T00:00:00\",\"2011-06-30T00:00:00\",\"2011-07-31T00:00:00\",\"2011-08-31T00:00:00\",\"2011-09-30T00:00:00\",\"2011-10-31T00:00:00\",\"2011-11-30T00:00:00\",\"2011-12-31T00:00:00\",\"2012-01-31T00:00:00\",\"2012-02-29T00:00:00\",\"2012-03-31T00:00:00\",\"2012-04-30T00:00:00\",\"2012-05-31T00:00:00\",\"2012-06-30T00:00:00\",\"2012-07-31T00:00:00\",\"2012-08-31T00:00:00\",\"2012-09-30T00:00:00\",\"2012-10-31T00:00:00\",\"2012-11-30T00:00:00\",\"2012-12-31T00:00:00\",\"2013-01-31T00:00:00\",\"2013-02-28T00:00:00\",\"2013-03-31T00:00:00\",\"2013-04-30T00:00:00\",\"2013-05-31T00:00:00\",\"2013-06-30T00:00:00\",\"2013-07-31T00:00:00\",\"2013-08-31T00:00:00\",\"2013-09-30T00:00:00\",\"2013-10-31T00:00:00\",\"2013-11-30T00:00:00\",\"2013-12-31T00:00:00\",\"2014-01-31T00:00:00\",\"2014-02-28T00:00:00\",\"2014-03-31T00:00:00\",\"2014-04-30T00:00:00\",\"2014-05-31T00:00:00\",\"2014-06-30T00:00:00\",\"2014-07-31T00:00:00\",\"2014-08-31T00:00:00\",\"2014-09-30T00:00:00\",\"2014-10-31T00:00:00\",\"2014-11-30T00:00:00\",\"2014-12-31T00:00:00\",\"2015-01-31T00:00:00\",\"2015-02-28T00:00:00\",\"2015-03-31T00:00:00\",\"2015-04-30T00:00:00\",\"2015-05-31T00:00:00\",\"2015-06-30T00:00:00\",\"2015-07-31T00:00:00\",\"2015-08-31T00:00:00\",\"2015-09-30T00:00:00\",\"2015-10-31T00:00:00\",\"2015-11-30T00:00:00\",\"2015-12-31T00:00:00\",\"2016-01-31T00:00:00\",\"2016-02-29T00:00:00\",\"2016-03-31T00:00:00\",\"2016-04-30T00:00:00\",\"2016-05-31T00:00:00\",\"2016-06-30T00:00:00\",\"2016-07-31T00:00:00\",\"2016-08-31T00:00:00\",\"2016-09-30T00:00:00\",\"2016-10-31T00:00:00\",\"2016-11-30T00:00:00\",\"2016-12-31T00:00:00\",\"2017-01-31T00:00:00\",\"2017-02-28T00:00:00\",\"2017-03-31T00:00:00\",\"2017-04-30T00:00:00\",\"2017-05-31T00:00:00\",\"2017-06-30T00:00:00\",\"2017-07-31T00:00:00\",\"2017-08-31T00:00:00\",\"2017-09-30T00:00:00\",\"2017-10-31T00:00:00\",\"2017-11-30T00:00:00\",\"2017-12-31T00:00:00\",\"2018-01-31T00:00:00\",\"2018-02-28T00:00:00\",\"2018-03-31T00:00:00\",\"2018-04-30T00:00:00\",\"2018-05-31T00:00:00\",\"2018-06-30T00:00:00\",\"2018-07-31T00:00:00\",\"2018-08-31T00:00:00\",\"2018-09-30T00:00:00\",\"2018-10-31T00:00:00\",\"2018-11-30T00:00:00\",\"2018-12-31T00:00:00\",\"2019-01-31T00:00:00\",\"2019-02-28T00:00:00\",\"2019-03-31T00:00:00\",\"2019-04-30T00:00:00\",\"2019-05-31T00:00:00\",\"2019-06-30T00:00:00\",\"2019-07-31T00:00:00\",\"2019-08-31T00:00:00\",\"2019-09-30T00:00:00\",\"2019-10-31T00:00:00\",\"2019-11-30T00:00:00\",\"2019-12-31T00:00:00\",\"2020-01-31T00:00:00\",\"2020-02-29T00:00:00\",\"2020-03-31T00:00:00\",\"2020-04-30T00:00:00\",\"2020-05-31T00:00:00\",\"2020-06-30T00:00:00\",\"2020-07-31T00:00:00\",\"2020-08-31T00:00:00\",\"2020-09-30T00:00:00\",\"2020-10-31T00:00:00\",\"2020-11-30T00:00:00\",\"2020-12-31T00:00:00\"],\"y\":[1,0,0,0,0,1,0,0,0,0,1,0,0,0,0,0,0,0,0,0,1,10,15,15,26,23,16,13,55,38,15,8,4,14,16,82,8,9,20,13,7,12,21,13,12,6,11,113,9,7,7,16,13,13,25,14,14,10,13,68,1,2,6,13,5,10,6,11,13,14,4,6,8,4,6,9,6,99,9,16,15,13,22,3,21,30,16,6,77,28,14,19,8,7,26,10,23,50,9,13,6,8,17,10,8,8,8,8,6,9,16,8,3,3,13,7,17,16,16,17,18,5,27,13,16,18,32,35,13,21,14,21,34,12,39,10,15,51,47,21,26,21,47,28,25,32,30,8,15,21,32,47,13,18,25,36,36,16,37,24,19,7,26,23,10,15,20,22,10,9,10,84,21,41,32,16,10,14,15,16,12,34,7,6,10,15,9,11,23,18,18,21,5,7,49,48,17,12,11,14,12,17,17,13,4,7,73,17,14,17,10,19,15,8,15,20,26,6,40,14,26,18,12,22,7,8,25,22,12,19,39,24,14,19,23,9,35,16,31,20,18,14,7,13,9,51,4,2,5,2,3,5],\"type\":\"scatter\",\"xaxis\":\"x\",\"yaxis\":\"y\"},{\"labels\":[\"\\uac10\\uc131\\uc8fc\\uc810\",\"\\uacbd\\uc591\\uc2dd\",\"\\uae30\\ud0c0\",\"\\uae40\\ubc25(\\ub3c4\\uc2dc\\ub77d)\",\"\\uae4c\\ud398\",\"\\ub77c\\uc774\\ube0c\\uce74\\ud398\",\"\\ubd84\\uc2dd\",\"\\ubdd4\\ud398\\uc2dd\",\"\\uc2dd\\uc721(\\uc22f\\ubd88\\uad6c\\uc774)\",\"\\uc678\\uad6d\\uc74c\\uc2dd\\uc804\\ubb38\\uc810(\\uc778\\ub3c4\\ud0dc\\uad6d\\ub4f1)\",\"\\uc77c\\uc2dd\",\"\\uc804\\ud1b5\\ucc3b\\uc9d1\",\"\\uc815\\uc885/\\ub300\\ud3ec\\uc9d1/\\uc18c\\uc8fc\\ubc29\",\"\\uc911\\uad6d\\uc2dd\",\"\\ud0a4\\uc988\\uce74\\ud398\",\"\\ud1b5\\ub2ed(\\uce58\\ud0a8)\",\"\\ud328\\ubc00\\ub9ac\\ub808\\uc2a4\\ud2b8\\ub791\",\"\\ud328\\uc2a4\\ud2b8\\ud478\\ub4dc\",\"\\ud55c\\uc2dd\",\"\\ud638\\ud504/\\ud1b5\\ub2ed\",\"\\ud68c\\uc9d1\"],\"values\":[86,206,202,12,43,26,610,30,41,3,169,2,18,241,7,223,2,45,1634,718,16],\"type\":\"pie\",\"domain\":{\"x\":[0.73,1.0],\"y\":[0.0,1.0]},\"textposition\":\"inside\"},{\"marker\":{\"color\":[15,30,45,60,75,90],\"colorscale\":[[0.0,\"#440154\"],[0.1111111111111111,\"#482878\"],[0.2222222222222222,\"#3e4989\"],[0.3333333333333333,\"#31688e\"],[0.4444444444444444,\"#26828e\"],[0.5555555555555556,\"#1f9e89\"],[0.6666666666666666,\"#35b779\"],[0.7777777777777778,\"#6ece58\"],[0.8888888888888888,\"#b5de2b\"],[1.0,\"#fde725\"]]},\"x\":[\"\\uacfc\\ud0dc\\ub8cc\",\"\\uc601\\uc5c5\\uc815\\uc9c0\",\"\\uc601\\uc5c5\\uc18c\\ud3d0\\uc1c4\",\"\\uc2dc\\uc815\\uba85\\ub839\",\"\\uacfc\\uc9d5\\uae08\",\"\\uae30\\ud0c0\"],\"y\":[1542,1031,766,588,263,144],\"type\":\"bar\",\"xaxis\":\"x2\",\"yaxis\":\"y2\"}],                        {\"template\":{\"data\":{\"bar\":[{\"error_x\":{\"color\":\"#2a3f5f\"},\"error_y\":{\"color\":\"#2a3f5f\"},\"marker\":{\"line\":{\"color\":\"#E5ECF6\",\"width\":0.5},\"pattern\":{\"fillmode\":\"overlay\",\"size\":10,\"solidity\":0.2}},\"type\":\"bar\"}],\"barpolar\":[{\"marker\":{\"line\":{\"color\":\"#E5ECF6\",\"width\":0.5},\"pattern\":{\"fillmode\":\"overlay\",\"size\":10,\"solidity\":0.2}},\"type\":\"barpolar\"}],\"carpet\":[{\"aaxis\":{\"endlinecolor\":\"#2a3f5f\",\"gridcolor\":\"white\",\"linecolor\":\"white\",\"minorgridcolor\":\"white\",\"startlinecolor\":\"#2a3f5f\"},\"baxis\":{\"endlinecolor\":\"#2a3f5f\",\"gridcolor\":\"white\",\"linecolor\":\"white\",\"minorgridcolor\":\"white\",\"startlinecolor\":\"#2a3f5f\"},\"type\":\"carpet\"}],\"choropleth\":[{\"colorbar\":{\"outlinewidth\":0,\"ticks\":\"\"},\"type\":\"choropleth\"}],\"contour\":[{\"colorbar\":{\"outlinewidth\":0,\"ticks\":\"\"},\"colorscale\":[[0.0,\"#0d0887\"],[0.1111111111111111,\"#46039f\"],[0.2222222222222222,\"#7201a8\"],[0.3333333333333333,\"#9c179e\"],[0.4444444444444444,\"#bd3786\"],[0.5555555555555556,\"#d8576b\"],[0.6666666666666666,\"#ed7953\"],[0.7777777777777778,\"#fb9f3a\"],[0.8888888888888888,\"#fdca26\"],[1.0,\"#f0f921\"]],\"type\":\"contour\"}],\"contourcarpet\":[{\"colorbar\":{\"outlinewidth\":0,\"ticks\":\"\"},\"type\":\"contourcarpet\"}],\"heatmap\":[{\"colorbar\":{\"outlinewidth\":0,\"ticks\":\"\"},\"colorscale\":[[0.0,\"#0d0887\"],[0.1111111111111111,\"#46039f\"],[0.2222222222222222,\"#7201a8\"],[0.3333333333333333,\"#9c179e\"],[0.4444444444444444,\"#bd3786\"],[0.5555555555555556,\"#d8576b\"],[0.6666666666666666,\"#ed7953\"],[0.7777777777777778,\"#fb9f3a\"],[0.8888888888888888,\"#fdca26\"],[1.0,\"#f0f921\"]],\"type\":\"heatmap\"}],\"heatmapgl\":[{\"colorbar\":{\"outlinewidth\":0,\"ticks\":\"\"},\"colorscale\":[[0.0,\"#0d0887\"],[0.1111111111111111,\"#46039f\"],[0.2222222222222222,\"#7201a8\"],[0.3333333333333333,\"#9c179e\"],[0.4444444444444444,\"#bd3786\"],[0.5555555555555556,\"#d8576b\"],[0.6666666666666666,\"#ed7953\"],[0.7777777777777778,\"#fb9f3a\"],[0.8888888888888888,\"#fdca26\"],[1.0,\"#f0f921\"]],\"type\":\"heatmapgl\"}],\"histogram\":[{\"marker\":{\"pattern\":{\"fillmode\":\"overlay\",\"size\":10,\"solidity\":0.2}},\"type\":\"histogram\"}],\"histogram2d\":[{\"colorbar\":{\"outlinewidth\":0,\"ticks\":\"\"},\"colorscale\":[[0.0,\"#0d0887\"],[0.1111111111111111,\"#46039f\"],[0.2222222222222222,\"#7201a8\"],[0.3333333333333333,\"#9c179e\"],[0.4444444444444444,\"#bd3786\"],[0.5555555555555556,\"#d8576b\"],[0.6666666666666666,\"#ed7953\"],[0.7777777777777778,\"#fb9f3a\"],[0.8888888888888888,\"#fdca26\"],[1.0,\"#f0f921\"]],\"type\":\"histogram2d\"}],\"histogram2dcontour\":[{\"colorbar\":{\"outlinewidth\":0,\"ticks\":\"\"},\"colorscale\":[[0.0,\"#0d0887\"],[0.1111111111111111,\"#46039f\"],[0.2222222222222222,\"#7201a8\"],[0.3333333333333333,\"#9c179e\"],[0.4444444444444444,\"#bd3786\"],[0.5555555555555556,\"#d8576b\"],[0.6666666666666666,\"#ed7953\"],[0.7777777777777778,\"#fb9f3a\"],[0.8888888888888888,\"#fdca26\"],[1.0,\"#f0f921\"]],\"type\":\"histogram2dcontour\"}],\"mesh3d\":[{\"colorbar\":{\"outlinewidth\":0,\"ticks\":\"\"},\"type\":\"mesh3d\"}],\"parcoords\":[{\"line\":{\"colorbar\":{\"outlinewidth\":0,\"ticks\":\"\"}},\"type\":\"parcoords\"}],\"pie\":[{\"automargin\":true,\"type\":\"pie\"}],\"scatter\":[{\"marker\":{\"colorbar\":{\"outlinewidth\":0,\"ticks\":\"\"}},\"type\":\"scatter\"}],\"scatter3d\":[{\"line\":{\"colorbar\":{\"outlinewidth\":0,\"ticks\":\"\"}},\"marker\":{\"colorbar\":{\"outlinewidth\":0,\"ticks\":\"\"}},\"type\":\"scatter3d\"}],\"scattercarpet\":[{\"marker\":{\"colorbar\":{\"outlinewidth\":0,\"ticks\":\"\"}},\"type\":\"scattercarpet\"}],\"scattergeo\":[{\"marker\":{\"colorbar\":{\"outlinewidth\":0,\"ticks\":\"\"}},\"type\":\"scattergeo\"}],\"scattergl\":[{\"marker\":{\"colorbar\":{\"outlinewidth\":0,\"ticks\":\"\"}},\"type\":\"scattergl\"}],\"scattermapbox\":[{\"marker\":{\"colorbar\":{\"outlinewidth\":0,\"ticks\":\"\"}},\"type\":\"scattermapbox\"}],\"scatterpolar\":[{\"marker\":{\"colorbar\":{\"outlinewidth\":0,\"ticks\":\"\"}},\"type\":\"scatterpolar\"}],\"scatterpolargl\":[{\"marker\":{\"colorbar\":{\"outlinewidth\":0,\"ticks\":\"\"}},\"type\":\"scatterpolargl\"}],\"scatterternary\":[{\"marker\":{\"colorbar\":{\"outlinewidth\":0,\"ticks\":\"\"}},\"type\":\"scatterternary\"}],\"surface\":[{\"colorbar\":{\"outlinewidth\":0,\"ticks\":\"\"},\"colorscale\":[[0.0,\"#0d0887\"],[0.1111111111111111,\"#46039f\"],[0.2222222222222222,\"#7201a8\"],[0.3333333333333333,\"#9c179e\"],[0.4444444444444444,\"#bd3786\"],[0.5555555555555556,\"#d8576b\"],[0.6666666666666666,\"#ed7953\"],[0.7777777777777778,\"#fb9f3a\"],[0.8888888888888888,\"#fdca26\"],[1.0,\"#f0f921\"]],\"type\":\"surface\"}],\"table\":[{\"cells\":{\"fill\":{\"color\":\"#EBF0F8\"},\"line\":{\"color\":\"white\"}},\"header\":{\"fill\":{\"color\":\"#C8D4E3\"},\"line\":{\"color\":\"white\"}},\"type\":\"table\"}]},\"layout\":{\"annotationdefaults\":{\"arrowcolor\":\"#2a3f5f\",\"arrowhead\":0,\"arrowwidth\":1},\"autotypenumbers\":\"strict\",\"coloraxis\":{\"colorbar\":{\"outlinewidth\":0,\"ticks\":\"\"}},\"colorscale\":{\"diverging\":[[0,\"#8e0152\"],[0.1,\"#c51b7d\"],[0.2,\"#de77ae\"],[0.3,\"#f1b6da\"],[0.4,\"#fde0ef\"],[0.5,\"#f7f7f7\"],[0.6,\"#e6f5d0\"],[0.7,\"#b8e186\"],[0.8,\"#7fbc41\"],[0.9,\"#4d9221\"],[1,\"#276419\"]],\"sequential\":[[0.0,\"#0d0887\"],[0.1111111111111111,\"#46039f\"],[0.2222222222222222,\"#7201a8\"],[0.3333333333333333,\"#9c179e\"],[0.4444444444444444,\"#bd3786\"],[0.5555555555555556,\"#d8576b\"],[0.6666666666666666,\"#ed7953\"],[0.7777777777777778,\"#fb9f3a\"],[0.8888888888888888,\"#fdca26\"],[1.0,\"#f0f921\"]],\"sequentialminus\":[[0.0,\"#0d0887\"],[0.1111111111111111,\"#46039f\"],[0.2222222222222222,\"#7201a8\"],[0.3333333333333333,\"#9c179e\"],[0.4444444444444444,\"#bd3786\"],[0.5555555555555556,\"#d8576b\"],[0.6666666666666666,\"#ed7953\"],[0.7777777777777778,\"#fb9f3a\"],[0.8888888888888888,\"#fdca26\"],[1.0,\"#f0f921\"]]},\"colorway\":[\"#636efa\",\"#EF553B\",\"#00cc96\",\"#ab63fa\",\"#FFA15A\",\"#19d3f3\",\"#FF6692\",\"#B6E880\",\"#FF97FF\",\"#FECB52\"],\"font\":{\"color\":\"#2a3f5f\"},\"geo\":{\"bgcolor\":\"white\",\"lakecolor\":\"white\",\"landcolor\":\"#E5ECF6\",\"showlakes\":true,\"showland\":true,\"subunitcolor\":\"white\"},\"hoverlabel\":{\"align\":\"left\"},\"hovermode\":\"closest\",\"mapbox\":{\"style\":\"light\"},\"paper_bgcolor\":\"white\",\"plot_bgcolor\":\"#E5ECF6\",\"polar\":{\"angularaxis\":{\"gridcolor\":\"white\",\"linecolor\":\"white\",\"ticks\":\"\"},\"bgcolor\":\"#E5ECF6\",\"radialaxis\":{\"gridcolor\":\"white\",\"linecolor\":\"white\",\"ticks\":\"\"}},\"scene\":{\"xaxis\":{\"backgroundcolor\":\"#E5ECF6\",\"gridcolor\":\"white\",\"gridwidth\":2,\"linecolor\":\"white\",\"showbackground\":true,\"ticks\":\"\",\"zerolinecolor\":\"white\"},\"yaxis\":{\"backgroundcolor\":\"#E5ECF6\",\"gridcolor\":\"white\",\"gridwidth\":2,\"linecolor\":\"white\",\"showbackground\":true,\"ticks\":\"\",\"zerolinecolor\":\"white\"},\"zaxis\":{\"backgroundcolor\":\"#E5ECF6\",\"gridcolor\":\"white\",\"gridwidth\":2,\"linecolor\":\"white\",\"showbackground\":true,\"ticks\":\"\",\"zerolinecolor\":\"white\"}},\"shapedefaults\":{\"line\":{\"color\":\"#2a3f5f\"}},\"ternary\":{\"aaxis\":{\"gridcolor\":\"white\",\"linecolor\":\"white\",\"ticks\":\"\"},\"baxis\":{\"gridcolor\":\"white\",\"linecolor\":\"white\",\"ticks\":\"\"},\"bgcolor\":\"#E5ECF6\",\"caxis\":{\"gridcolor\":\"white\",\"linecolor\":\"white\",\"ticks\":\"\"}},\"title\":{\"x\":0.05},\"xaxis\":{\"automargin\":true,\"gridcolor\":\"white\",\"linecolor\":\"white\",\"ticks\":\"\",\"title\":{\"standoff\":15},\"zerolinecolor\":\"white\",\"zerolinewidth\":2},\"yaxis\":{\"automargin\":true,\"gridcolor\":\"white\",\"linecolor\":\"white\",\"ticks\":\"\",\"title\":{\"standoff\":15},\"zerolinecolor\":\"white\",\"zerolinewidth\":2}}},\"xaxis\":{\"anchor\":\"y\",\"domain\":[0.0,0.63],\"title\":{\"text\":\"\\ub0a0\\uc9dc\"}},\"yaxis\":{\"anchor\":\"x\",\"domain\":[0.625,1.0],\"title\":{\"text\":\"\\ud69f\\uc218\"}},\"xaxis2\":{\"anchor\":\"y2\",\"domain\":[0.0,0.63]},\"yaxis2\":{\"anchor\":\"x2\",\"domain\":[0.0,0.375]},\"annotations\":[{\"font\":{\"size\":16},\"showarrow\":false,\"text\":\"\\ub144\\ub3c4\\ubcc4 \\ubd84\\uc11d\",\"x\":0.315,\"xanchor\":\"center\",\"xref\":\"paper\",\"y\":1.0,\"yanchor\":\"bottom\",\"yref\":\"paper\"},{\"font\":{\"size\":16},\"showarrow\":false,\"text\":\"\\uc5c5\\ud0dc\\ubcc4 \\ubd84\\uc11d\",\"x\":0.865,\"xanchor\":\"center\",\"xref\":\"paper\",\"y\":1.0,\"yanchor\":\"bottom\",\"yref\":\"paper\"},{\"font\":{\"size\":16},\"showarrow\":false,\"text\":\"\\ucc98\\ubd84\\uba85 \\ubd84\\uc11d\",\"x\":0.315,\"xanchor\":\"center\",\"xref\":\"paper\",\"y\":0.375,\"yanchor\":\"bottom\",\"yref\":\"paper\"}]},                        {\"responsive\": true}                    ).then(function(){\n",
              "                            \n",
              "var gd = document.getElementById('e20961de-5bad-43e3-9e4c-a55a0bb26c2d');\n",
              "var x = new MutationObserver(function (mutations, observer) {{\n",
              "        var display = window.getComputedStyle(gd).display;\n",
              "        if (!display || display === 'none') {{\n",
              "            console.log([gd, 'removed!']);\n",
              "            Plotly.purge(gd);\n",
              "            observer.disconnect();\n",
              "        }}\n",
              "}});\n",
              "\n",
              "// Listen for the removal of the full notebook cells\n",
              "var notebookContainer = gd.closest('#notebook-container');\n",
              "if (notebookContainer) {{\n",
              "    x.observe(notebookContainer, {childList: true});\n",
              "}}\n",
              "\n",
              "// Listen for the clearing of the current output cell\n",
              "var outputEl = gd.closest('.output');\n",
              "if (outputEl) {{\n",
              "    x.observe(outputEl, {childList: true});\n",
              "}}\n",
              "\n",
              "                        })                };                            </script>        </div>\n",
              "</body>\n",
              "</html>"
            ]
          },
          "metadata": {}
        }
      ]
    },
    {
      "cell_type": "markdown",
      "source": [
        "위반 내용별 분석 -> Dash Board"
      ],
      "metadata": {
        "id": "FnCc42Y64al4"
      }
    },
    {
      "cell_type": "code",
      "source": [
        "#위반 내용별 분석을 위해, '기타'제외한 위반내용 뽑아옴\n",
        "\n",
        "available_in = dfRegular['위반내용수정'].unique()\n",
        "available_in = np.delete(available_in, np.where( available_in == '기타'))\n",
        "available_in"
      ],
      "metadata": {
        "colab": {
          "base_uri": "https://localhost:8080/"
        },
        "id": "21GnYP6anF8s",
        "outputId": "ffbaafde-84d7-4c16-e4ec-210ef1637217"
      },
      "execution_count": 101,
      "outputs": [
        {
          "output_type": "execute_result",
          "data": {
            "text/plain": [
              "array(['청소년 주류 제공', '영업장관련', '이물혼입', '유통기한', '위생 불량', '건강진단 미필',\n",
              "       '유흥접객 행위', '세금 미체납', '변경신고 없이 시설변경', '위생교육 미이수', '사업자등록 말소',\n",
              "       '가격표 표시 누락', '원산지 미표기', '반주시설'], dtype=object)"
            ]
          },
          "metadata": {},
          "execution_count": 101
        }
      ]
    },
    {
      "cell_type": "code",
      "source": [
        "# 참고자료\n",
        "#4주차 과제 마지막 Dash\n",
        "#https://medium.com/plotly/introducing-dash-5ecf7191b503\n",
        "#위 링크 안 소스코드 -> https://gist.github.com/chriddyp/9b2b3e8a6c67697279d3724dce5dab3c\n",
        "\n",
        "#전체분석과 같은 툴로 대시보드 생성\n",
        "\n",
        "app = JupyterDash()\n",
        "\n",
        "app.layout = html.Div(id = 'parent',\n",
        "    children = [html.H1(id='title', children = '위반 종류별 분석',\n",
        "                            style = {'textAlign':'center', 'marginTop' : 40, 'marginBottom':40}),\n",
        "\n",
        "                    dcc.Dropdown(id='dropdown',\n",
        "                                   options = [{'label':i, 'value':i} for i in available_in],                                              \n",
        "                                   value='청소년 주류 제공'),\n",
        "                    dcc.Graph(id = 'plot')\n",
        "      ])\n",
        "\n",
        "@app.callback(Output(component_id='plot', component_property= 'figure'),\n",
        "              [Input(component_id='dropdown', component_property= 'value')])\n",
        "\n",
        "def graph_update(dropdown_value):\n",
        "  dfRegular_contents = dfRegular[dfRegular.위반내용수정==dropdown_value]\n",
        "\n",
        "  fig = make_subplots(rows=2, cols=2, specs=[[{'type':'scatter'}, {'type': 'pie', 'rowspan':2}], [{'type':'bar'}, None]],column_widths=[0.7, 0.3],\n",
        "                      subplot_titles=(\"년도별 분석\",\"업태별 분석\", \"처분명 분석\"))\n",
        "\n",
        "\n",
        "  #line 데이터 정리\n",
        "  data_dates = dfRegular_contents['처분일자'].value_counts()\n",
        "  dates = data_dates.to_frame(name='위반횟수')\n",
        "  dates.index.name = '처분일자'\n",
        "  dates.sort_values(by=['처분일자'])\n",
        "  dates = dates.resample('M').sum()\n",
        "\n",
        "  #line 그래프 그려줌\n",
        "  fig.add_trace(go.Scatter(x=dates.index, y=dates['위반횟수']),\n",
        "                row=1, col=1)\n",
        "\n",
        "  #line 그래프 x, y축 타이틀 설정\n",
        "  fig.update_xaxes(title_text=\"날짜\", row=1, col=1)\n",
        "  fig.update_yaxes(title_text=\"횟수\", row=1, col=1)\n",
        "\n",
        "  #pie 데이터 정리\n",
        "  dfRegula_count = dfRegular_contents.groupby(by=['업태명'], as_index=False).count()\n",
        "  frequency = dfRegula_count['Year'];\n",
        "  label = dfRegula_count['업태명'];\n",
        "\n",
        "  #pie 그래프 그려줌\n",
        "  fig.add_trace(go.Pie(labels=label, values=frequency, ),\n",
        "                row=1, col=2)\n",
        "  fig.update_traces(textposition='inside', row=1, col=2)\n",
        "\n",
        "  #bar 데이터 정리\n",
        "  data_dates = dfRegular_contents['처분명수정'].value_counts()\n",
        "  dates = data_dates.to_frame(name='처분명수정')\n",
        "\n",
        "  #bar 그래프 그려줌\n",
        "  k=[15,30,45,60,75,90]\n",
        "  fig.add_trace(go.Bar(x=dates.index, y=dates['처분명수정'],\n",
        "                               marker=dict(color = k, colorscale='viridis')),\n",
        "                row=2, col=1)\n",
        "  \n",
        "  return fig \n",
        "\n",
        "if __name__ == '__main__': \n",
        "    app.run_server()"
      ],
      "metadata": {
        "colab": {
          "base_uri": "https://localhost:8080/",
          "height": 53
        },
        "id": "9RvlDRzMe7N-",
        "outputId": "47f53058-f6cc-42dd-cfcb-2fec0d284c9c"
      },
      "execution_count": 102,
      "outputs": [
        {
          "output_type": "stream",
          "name": "stdout",
          "text": [
            "Dash app running on:\n"
          ]
        },
        {
          "output_type": "display_data",
          "data": {
            "application/javascript": [
              "(async (port, path, text, element) => {\n",
              "    if (!google.colab.kernel.accessAllowed) {\n",
              "      return;\n",
              "    }\n",
              "    element.appendChild(document.createTextNode(''));\n",
              "    const url = await google.colab.kernel.proxyPort(port);\n",
              "    const anchor = document.createElement('a');\n",
              "    anchor.href = new URL(path, url).toString();\n",
              "    anchor.target = '_blank';\n",
              "    anchor.setAttribute('data-href', url + path);\n",
              "    anchor.textContent = text;\n",
              "    element.appendChild(anchor);\n",
              "  })(8050, \"/\", \"http://127.0.0.1:8050/\", window.element)"
            ],
            "text/plain": [
              "<IPython.core.display.Javascript object>"
            ]
          },
          "metadata": {}
        }
      ]
    }
  ]
}